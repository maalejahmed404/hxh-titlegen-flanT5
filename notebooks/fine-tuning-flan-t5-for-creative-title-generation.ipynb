{
 "cells": [
  {
   "cell_type": "code",
   "execution_count": 1,
   "metadata": {
    "_cell_guid": "b1076dfc-b9ad-4769-8c92-a6c4dae69d19",
    "_uuid": "8f2839f25d086af736a60e9eeb907d3b93b6e0e5",
    "execution": {
     "iopub.execute_input": "2025-09-06T10:58:45.538366Z",
     "iopub.status.busy": "2025-09-06T10:58:45.538210Z",
     "iopub.status.idle": "2025-09-06T10:58:47.221273Z",
     "shell.execute_reply": "2025-09-06T10:58:47.220651Z",
     "shell.execute_reply.started": "2025-09-06T10:58:45.538351Z"
    },
    "trusted": true
   },
   "outputs": [
    {
     "name": "stdout",
     "output_type": "stream",
     "text": [
      "/kaggle/input/hunter-x-hunter-subtitles/dataset.txt\n"
     ]
    }
   ],
   "source": [
    "# This Python 3 environment comes with many helpful analytics libraries installed\n",
    "# It is defined by the kaggle/python Docker image: https://github.com/kaggle/docker-python\n",
    "# For example, here's several helpful packages to load\n",
    "\n",
    "import numpy as np # linear algebra\n",
    "import pandas as pd # data processing, CSV file I/O (e.g. pd.read_csv)\n",
    "\n",
    "# Input data files are available in the read-only \"../input/\" directory\n",
    "# For example, running this (by clicking run or pressing Shift+Enter) will list all files under the input directory\n",
    "\n",
    "import os\n",
    "for dirname, _, filenames in os.walk('/kaggle/input'):\n",
    "    for filename in filenames:\n",
    "        print(os.path.join(dirname, filename))\n",
    "\n",
    "# You can write up to 20GB to the current directory (/kaggle/working/) that gets preserved as output when you create a version using \"Save & Run All\" \n",
    "# You can also write temporary files to /kaggle/temp/, but they won't be saved outside of the current session"
   ]
  },
  {
   "cell_type": "code",
   "execution_count": 2,
   "metadata": {
    "execution": {
     "iopub.execute_input": "2025-09-06T10:59:33.625587Z",
     "iopub.status.busy": "2025-09-06T10:59:33.625098Z",
     "iopub.status.idle": "2025-09-06T11:00:00.654042Z",
     "shell.execute_reply": "2025-09-06T11:00:00.653445Z",
     "shell.execute_reply.started": "2025-09-06T10:59:33.625560Z"
    },
    "trusted": true
   },
   "outputs": [
    {
     "name": "stderr",
     "output_type": "stream",
     "text": [
      "2025-09-06 10:59:45.334383: E external/local_xla/xla/stream_executor/cuda/cuda_fft.cc:477] Unable to register cuFFT factory: Attempting to register factory for plugin cuFFT when one has already been registered\n",
      "WARNING: All log messages before absl::InitializeLog() is called are written to STDERR\n",
      "E0000 00:00:1757156385.498038      37 cuda_dnn.cc:8310] Unable to register cuDNN factory: Attempting to register factory for plugin cuDNN when one has already been registered\n",
      "E0000 00:00:1757156385.546300      37 cuda_blas.cc:1418] Unable to register cuBLAS factory: Attempting to register factory for plugin cuBLAS when one has already been registered\n"
     ]
    }
   ],
   "source": [
    "from transformers import pipeline\n",
    "from nltk import sent_tokenize\n",
    "import nltk\n",
    "import torch"
   ]
  },
  {
   "cell_type": "code",
   "execution_count": 3,
   "metadata": {
    "execution": {
     "iopub.execute_input": "2025-09-06T11:00:00.655606Z",
     "iopub.status.busy": "2025-09-06T11:00:00.655053Z",
     "iopub.status.idle": "2025-09-06T11:00:00.765879Z",
     "shell.execute_reply": "2025-09-06T11:00:00.765209Z",
     "shell.execute_reply.started": "2025-09-06T11:00:00.655586Z"
    },
    "trusted": true
   },
   "outputs": [
    {
     "name": "stderr",
     "output_type": "stream",
     "text": [
      "[nltk_data] Downloading package punkt to /usr/share/nltk_data...\n",
      "[nltk_data]   Package punkt is already up-to-date!\n"
     ]
    },
    {
     "data": {
      "text/plain": [
       "True"
      ]
     },
     "execution_count": 3,
     "metadata": {},
     "output_type": "execute_result"
    }
   ],
   "source": [
    "#Punkt is a pre-trained tokenizer model\n",
    "nltk.download('punkt')"
   ]
  },
  {
   "cell_type": "code",
   "execution_count": 4,
   "metadata": {
    "execution": {
     "iopub.execute_input": "2025-09-06T11:00:00.766738Z",
     "iopub.status.busy": "2025-09-06T11:00:00.766509Z",
     "iopub.status.idle": "2025-09-06T11:00:00.771775Z",
     "shell.execute_reply": "2025-09-06T11:00:00.771278Z",
     "shell.execute_reply.started": "2025-09-06T11:00:00.766712Z"
    },
    "trusted": true
   },
   "outputs": [],
   "source": [
    "from glob import glob\n",
    "file = glob('/kaggle/input/hunter-x-hunter-subtitles/dataset.txt')"
   ]
  },
  {
   "cell_type": "code",
   "execution_count": 5,
   "metadata": {
    "execution": {
     "iopub.execute_input": "2025-09-06T11:00:00.773059Z",
     "iopub.status.busy": "2025-09-06T11:00:00.772863Z",
     "iopub.status.idle": "2025-09-06T11:00:00.787250Z",
     "shell.execute_reply": "2025-09-06T11:00:00.786543Z",
     "shell.execute_reply.started": "2025-09-06T11:00:00.773044Z"
    },
    "trusted": true
   },
   "outputs": [
    {
     "data": {
      "text/plain": [
       "['/kaggle/input/hunter-x-hunter-subtitles/dataset.txt']"
      ]
     },
     "execution_count": 5,
     "metadata": {},
     "output_type": "execute_result"
    }
   ],
   "source": [
    "file"
   ]
  },
  {
   "cell_type": "markdown",
   "metadata": {},
   "source": [
    "# Let's divide the subtitles into episodes."
   ]
  },
  {
   "cell_type": "markdown",
   "metadata": {},
   "source": [
    "* We can notice that every episode starts with a title in this format: \"Something x Of x Something\". Then, there is a narrator’s introduction (if it exists). We will try to split the subtitles every time we find a title and remove the narrator’s introduction if it exists."
   ]
  },
  {
   "cell_type": "code",
   "execution_count": 6,
   "metadata": {
    "execution": {
     "iopub.execute_input": "2025-09-06T11:00:02.716364Z",
     "iopub.status.busy": "2025-09-06T11:00:02.715793Z",
     "iopub.status.idle": "2025-09-06T11:00:02.723573Z",
     "shell.execute_reply": "2025-09-06T11:00:02.722759Z",
     "shell.execute_reply.started": "2025-09-06T11:00:02.716339Z"
    },
    "trusted": true
   },
   "outputs": [],
   "source": [
    "import re\n",
    "from collections import defaultdict\n",
    "\n",
    "NEXT_TIME_RE = re.compile(r\"^\\s*Next\\s*time:\\s*(.+?)\\s*\\.?\\s*$\", re.I)\n",
    "TITLE_RE     = re.compile(r\"^[^\\S\\r\\n]*.*\\b\\w+\\b.*\\s+x\\s+.*\\b\\w+\\b(?:\\s+x\\s+.*\\b\\w+\\b)?\\.?\\s*$\", re.I)\n",
    "def _norm(s: str) -> str:\n",
    "    s = s.strip().lstrip(\"\\ufeff�•-–—►•●·\")\n",
    "    return re.sub(r\"\\s+\", \" \", s)\n",
    "\n",
    "def episode_starts_by_next_time(lines, lookahead=40):\n",
    "    \"\"\"\n",
    "    Returns a sorted list of line indices where each episode starts.\n",
    "    Logic:\n",
    "      - assume first episode starts at 0\n",
    "      - for each 'Next time:' line, jump forward to the next title-like line -> start of next episode\n",
    "      - tolerate the title being up to `lookahead` lines after 'Next time:'\n",
    "    \"\"\"\n",
    "    L = [_norm(x) for x in lines]  # light normalization (keeps indices)\n",
    "    n = len(L)\n",
    "\n",
    "    starts = {0}\n",
    "    for i, line in enumerate(L):\n",
    "        if NEXT_TIME_RE.match(line):\n",
    "            # find the first subsequent title card\n",
    "            start_idx = None\n",
    "            for j in range(i + 1, min(i + 1 + lookahead, n)):\n",
    "                if TITLE_RE.match(L[j]):\n",
    "                    start_idx = j\n",
    "                    break\n",
    "            # fallback: if no title found soon, start at next non-empty line\n",
    "            if start_idx is None:\n",
    "                for j in range(i + 1, min(i + 1 + lookahead, n)):\n",
    "                    if L[j]:\n",
    "                        start_idx = j\n",
    "                        break\n",
    "            if start_idx is not None:\n",
    "                # avoid duplicates if two pointers land very close\n",
    "                if not any(abs(start_idx - s) <= 2 for s in starts):\n",
    "                    starts.add(start_idx)\n",
    "\n",
    "    return sorted(starts)\n"
   ]
  },
  {
   "cell_type": "code",
   "execution_count": 7,
   "metadata": {
    "execution": {
     "iopub.execute_input": "2025-09-06T11:00:04.594490Z",
     "iopub.status.busy": "2025-09-06T11:00:04.593781Z",
     "iopub.status.idle": "2025-09-06T11:00:04.874909Z",
     "shell.execute_reply": "2025-09-06T11:00:04.874110Z",
     "shell.execute_reply.started": "2025-09-06T11:00:04.594467Z"
    },
    "trusted": true
   },
   "outputs": [],
   "source": [
    "with open(file[0], \"r\", encoding=\"utf-8\") as f:\n",
    "    raw = [x.rstrip(\"\\n\") for x in f.readlines()]\n",
    "\n",
    "# drop empty lines early and normalize once\n",
    "raw = [_norm(x) for x in raw if x.strip()]\n",
    "\n",
    "starts = episode_starts_by_next_time(raw)"
   ]
  },
  {
   "cell_type": "code",
   "execution_count": 8,
   "metadata": {
    "execution": {
     "iopub.execute_input": "2025-09-06T11:00:05.402515Z",
     "iopub.status.busy": "2025-09-06T11:00:05.401941Z",
     "iopub.status.idle": "2025-09-06T11:00:05.407002Z",
     "shell.execute_reply": "2025-09-06T11:00:05.406288Z",
     "shell.execute_reply.started": "2025-09-06T11:00:05.402489Z"
    },
    "trusted": true
   },
   "outputs": [
    {
     "data": {
      "text/plain": [
       "145"
      ]
     },
     "execution_count": 8,
     "metadata": {},
     "output_type": "execute_result"
    }
   ],
   "source": [
    "len(starts)"
   ]
  },
  {
   "cell_type": "code",
   "execution_count": 9,
   "metadata": {
    "execution": {
     "iopub.execute_input": "2025-09-06T11:00:06.080461Z",
     "iopub.status.busy": "2025-09-06T11:00:06.079930Z",
     "iopub.status.idle": "2025-09-06T11:00:06.147963Z",
     "shell.execute_reply": "2025-09-06T11:00:06.147200Z",
     "shell.execute_reply.started": "2025-09-06T11:00:06.080435Z"
    },
    "trusted": true
   },
   "outputs": [
    {
     "name": "stdout",
     "output_type": "stream",
     "text": [
      "Extracted 145 episodes\n",
      "Extracted 145 titles\n",
      "Example title: Test x Of x Tests\n",
      "First lines of ep 1: ['Dolle Harbor', \"After winning the captain's favor,\", 'the trio of Gon, Kurapika, and Leorio', 'arrived safely at Dolle Harbor.', 'Thanks, Captain!']\n"
     ]
    }
   ],
   "source": [
    "# HxH title: \"Something x Of x Something\"\n",
    "TITLE_RE   = re.compile(r\"^\\s*.+\\s+x\\s+.+\\s+x\\s+.+\\s*$\", re.I)\n",
    "PREVIEW_RE = re.compile(r\"^\\s*next\\s*time\\s*:\\s*.+\\s+x\\s+.+\\s+x\\s+.+\\s*$\", re.I)\n",
    "\n",
    "def is_preview_line(line: str) -> bool:\n",
    "    return bool(PREVIEW_RE.match(line))\n",
    "\n",
    "def clean_episode(chunk, intro_window=12):\n",
    "    \"\"\"\n",
    "    Return (episode_lines, episode_title):\n",
    "      - intro removed,\n",
    "      - extract and save episode title (\"... x ... x ...\"),\n",
    "      - stop before 'Next time: ... x ... x ...'.\n",
    "    \"\"\"\n",
    "    # 1) detect intro end\n",
    "    intro_end = None\n",
    "    for i, ln in enumerate(chunk[:intro_window]):\n",
    "        if re.search(r\"\\bas\\s+hunters!?\\.?$\", ln, re.I):\n",
    "            intro_end = i\n",
    "            break\n",
    "    start_idx = (intro_end + 1) if intro_end is not None else 0\n",
    "\n",
    "    # 2) find preview line to cut the tail\n",
    "    end_idx = len(chunk)\n",
    "    for j, ln in enumerate(chunk[start_idx:], start_idx):\n",
    "        if is_preview_line(ln):\n",
    "            end_idx = j\n",
    "            break\n",
    "\n",
    "    # 3) slice and extract\n",
    "    ep_lines = []\n",
    "    ep_title = None\n",
    "    for ln in chunk[start_idx:end_idx]:\n",
    "        if TITLE_RE.match(ln):\n",
    "            ep_title = ln.strip()   # store title\n",
    "            continue                # skip from lines\n",
    "        if ln.strip():\n",
    "            ep_lines.append(ln.strip())\n",
    "\n",
    "    return ep_lines, ep_title\n",
    "\n",
    "\n",
    "# --- Build episodes + titles ---\n",
    "episodes, titles = [], []\n",
    "for k, s in enumerate(starts):\n",
    "    e = starts[k+1] if k + 1 < len(starts) else len(raw)\n",
    "    chunk = raw[s:e]\n",
    "    ep, title = clean_episode(chunk)\n",
    "    if ep:\n",
    "        episodes.append(ep)\n",
    "        titles.append(title)\n",
    "\n",
    "print(f\"Extracted {len(episodes)} episodes\")\n",
    "print(f\"Extracted {len(titles)} titles\")\n",
    "print(\"Example title:\", titles[1])\n",
    "print(\"First lines of ep 1:\", episodes[1][:5])\n"
   ]
  },
  {
   "cell_type": "code",
   "execution_count": 10,
   "metadata": {
    "execution": {
     "iopub.execute_input": "2025-09-06T11:00:07.685050Z",
     "iopub.status.busy": "2025-09-06T11:00:07.684317Z",
     "iopub.status.idle": "2025-09-06T11:00:07.734443Z",
     "shell.execute_reply": "2025-09-06T11:00:07.733829Z",
     "shell.execute_reply.started": "2025-09-06T11:00:07.685027Z"
    },
    "trusted": true
   },
   "outputs": [
    {
     "name": "stdout",
     "output_type": "stream",
     "text": [
      "len(merged_episodes)=145\n",
      "First episode, first 10 merged turns:\n",
      " 1: Whale Island\n",
      " 2: Gon's still trying to catch the Lord of the Lake?\n",
      " 3: Huh?\n",
      " 4: Y-Yes...\n",
      " 5: He's been at it for a week, non-stop.\n",
      " 6: You promised he could take the Hunter Exam if he caught the Lord of the Lake?\n",
      " 7: What a fool!\n",
      " 8: Five adults couldn't manage to reel in that monster.\n",
      " 9: How is a child supposed to catch that beast?\n",
      "10: Mito-san doesn't want him taking the Hunter Exam.\n"
     ]
    }
   ],
   "source": [
    "import re\n",
    "\n",
    "def merge_dialogue(lines):\n",
    "    \"\"\"\n",
    "    Merge lines inside one episode:\n",
    "      - non-empty lines only\n",
    "      - a line that starts (first alphabetic char) uppercase begins a new turn\n",
    "      - otherwise it’s appended to the previous turn\n",
    "    \"\"\"\n",
    "    cleaned = [l.strip() for l in lines if l and l.strip()]\n",
    "    merged = []\n",
    "    current = None\n",
    "\n",
    "    for l in cleaned:\n",
    "        # find the first alphabetic character (skip quotes/punct/space)\n",
    "        m = re.search(r\"[A-Za-z]\", l)\n",
    "        first = m.group(0) if m else \"\"\n",
    "\n",
    "        if first and first.isupper():\n",
    "            if current:               # close previous turn\n",
    "                merged.append(current.strip())\n",
    "            current = l               # start new turn\n",
    "        else:\n",
    "            # continuation (or line without alpha); append to current safely\n",
    "            current = (current + \" \" + l) if current else l\n",
    "\n",
    "    if current:\n",
    "        merged.append(current.strip())\n",
    "    return merged\n",
    "\n",
    "# Apply to every episode you already extracted\n",
    "# episodes: List[List[str]]  (each episode is a list of lines)\n",
    "merged_episodes = [merge_dialogue(ep) for ep in episodes]\n",
    "\n",
    "# Quick peek\n",
    "print(f\"{len(merged_episodes)=}\")\n",
    "print(\"First episode, first 10 merged turns:\")\n",
    "for i, s in enumerate(merged_episodes[0][:10], 1):\n",
    "    print(f\"{i:>2}: {s}\")\n"
   ]
  },
  {
   "cell_type": "code",
   "execution_count": 11,
   "metadata": {
    "execution": {
     "iopub.execute_input": "2025-09-06T11:00:09.396005Z",
     "iopub.status.busy": "2025-09-06T11:00:09.395651Z",
     "iopub.status.idle": "2025-09-06T11:00:09.423084Z",
     "shell.execute_reply": "2025-09-06T11:00:09.422490Z",
     "shell.execute_reply.started": "2025-09-06T11:00:09.395982Z"
    },
    "trusted": true
   },
   "outputs": [
    {
     "name": "stdout",
     "output_type": "stream",
     "text": [
      "Shape: (145, 3)\n"
     ]
    },
    {
     "data": {
      "text/html": [
       "<div>\n",
       "<style scoped>\n",
       "    .dataframe tbody tr th:only-of-type {\n",
       "        vertical-align: middle;\n",
       "    }\n",
       "\n",
       "    .dataframe tbody tr th {\n",
       "        vertical-align: top;\n",
       "    }\n",
       "\n",
       "    .dataframe thead th {\n",
       "        text-align: right;\n",
       "    }\n",
       "</style>\n",
       "<table border=\"1\" class=\"dataframe\">\n",
       "  <thead>\n",
       "    <tr style=\"text-align: right;\">\n",
       "      <th></th>\n",
       "      <th>id</th>\n",
       "      <th>title</th>\n",
       "      <th>subtitle</th>\n",
       "    </tr>\n",
       "  </thead>\n",
       "  <tbody>\n",
       "    <tr>\n",
       "      <th>0</th>\n",
       "      <td>1</td>\n",
       "      <td>Departure x And x Friends</td>\n",
       "      <td>Whale Island Gon's still trying to catch the L...</td>\n",
       "    </tr>\n",
       "    <tr>\n",
       "      <th>1</th>\n",
       "      <td>2</td>\n",
       "      <td>Test x Of x Tests</td>\n",
       "      <td>Dolle Harbor After winning the captain's favor...</td>\n",
       "    </tr>\n",
       "    <tr>\n",
       "      <th>2</th>\n",
       "      <td>3</td>\n",
       "      <td>Rivals x For x Survival</td>\n",
       "      <td>Zaban City Gon and his new friends have arrive...</td>\n",
       "    </tr>\n",
       "    <tr>\n",
       "      <th>3</th>\n",
       "      <td>4</td>\n",
       "      <td>Hope x And x Ambition</td>\n",
       "      <td>Two hours have passed since the start of the e...</td>\n",
       "    </tr>\n",
       "    <tr>\n",
       "      <th>4</th>\n",
       "      <td>5</td>\n",
       "      <td>Hisoka x Is x Sneaky</td>\n",
       "      <td>The 368 applicants who made it through the lon...</td>\n",
       "    </tr>\n",
       "  </tbody>\n",
       "</table>\n",
       "</div>"
      ],
      "text/plain": [
       "   id                      title  \\\n",
       "0   1  Departure x And x Friends   \n",
       "1   2          Test x Of x Tests   \n",
       "2   3    Rivals x For x Survival   \n",
       "3   4      Hope x And x Ambition   \n",
       "4   5       Hisoka x Is x Sneaky   \n",
       "\n",
       "                                            subtitle  \n",
       "0  Whale Island Gon's still trying to catch the L...  \n",
       "1  Dolle Harbor After winning the captain's favor...  \n",
       "2  Zaban City Gon and his new friends have arrive...  \n",
       "3  Two hours have passed since the start of the e...  \n",
       "4  The 368 applicants who made it through the lon...  "
      ]
     },
     "execution_count": 11,
     "metadata": {},
     "output_type": "execute_result"
    }
   ],
   "source": [
    "import pandas as pd\n",
    "\n",
    "# Build dataframe rows\n",
    "data = []\n",
    "for idx, (title, subs) in enumerate(zip(titles, episodes), start=1):\n",
    "    joined = \" \".join(subs)   # join all subtitles into one string\n",
    "    data.append({\n",
    "        \"id\": idx,\n",
    "        \"title\": title if title else f\"Episode {idx}\",  # fallback if missing\n",
    "        \"subtitle\": joined\n",
    "    })\n",
    "\n",
    "df = pd.DataFrame(data)\n",
    "\n",
    "print(f\"Shape: {df.shape}\")\n",
    "df.head()"
   ]
  },
  {
   "cell_type": "code",
   "execution_count": 12,
   "metadata": {
    "execution": {
     "iopub.execute_input": "2025-09-06T11:00:10.752247Z",
     "iopub.status.busy": "2025-09-06T11:00:10.751974Z",
     "iopub.status.idle": "2025-09-06T11:00:10.762170Z",
     "shell.execute_reply": "2025-09-06T11:00:10.761536Z",
     "shell.execute_reply.started": "2025-09-06T11:00:10.752228Z"
    },
    "trusted": true
   },
   "outputs": [
    {
     "data": {
      "text/plain": [
       "145"
      ]
     },
     "execution_count": 12,
     "metadata": {},
     "output_type": "execute_result"
    }
   ],
   "source": [
    "df.title.nunique()"
   ]
  },
  {
   "cell_type": "code",
   "execution_count": 13,
   "metadata": {
    "execution": {
     "iopub.execute_input": "2025-09-06T11:00:11.353294Z",
     "iopub.status.busy": "2025-09-06T11:00:11.352824Z",
     "iopub.status.idle": "2025-09-06T11:00:11.358470Z",
     "shell.execute_reply": "2025-09-06T11:00:11.357741Z",
     "shell.execute_reply.started": "2025-09-06T11:00:11.353270Z"
    },
    "trusted": true
   },
   "outputs": [
    {
     "data": {
      "text/plain": [
       "array(['Departure x And x Friends', 'Test x Of x Tests',\n",
       "       'Rivals x For x Survival', 'Hope x And x Ambition',\n",
       "       'Hisoka x Is x Sneaky', 'A x Surprising x Challenge',\n",
       "       'Showdown x On The x Airship', 'Decision x By x Majority?',\n",
       "       'Beware x Of x Prisoners', 'Trick x To The x Trick',\n",
       "       'Trouble x With The x Gamble', 'Last x Test Of x Resolve',\n",
       "       'Letter x From x Gon', 'Hit x The x Target',\n",
       "       'Explosion x Of x Deception', 'Defeat x And x Disgrace',\n",
       "       'Trap x In The x Hole', 'Big x Time x Interview',\n",
       "       \"Can't Win x And x Can't Lose\", 'Baffling x Turn Of x Events',\n",
       "       'Some x Brother x Trouble', 'A x Dangerous x Watchdog',\n",
       "       \"The x Guard's x Duty\", 'The x Zoldyck x Family',\n",
       "       \"Can't See x If x You're Blind\", 'Then x And x After',\n",
       "       'Arrival x At The x Arena', 'Nen x And x Nen',\n",
       "       'Awakening x And x Potential', 'Fierce x And x Ferocious',\n",
       "       'Destiny x And x Tenacity', 'A x Surprising x Win',\n",
       "       'An x Empty x Threat', 'Power x To x Avenge', 'The x True x Pass',\n",
       "       'A Big Debt x And x A Small Kick', 'Ging x And x Gon',\n",
       "       'Reply x From x Dad', 'Wish x And x Promise',\n",
       "       'Nen x Users x Unite?', 'Gathering x Of x Heroes',\n",
       "       'Defend x And x Attack', 'A x Shocking x Tragedy',\n",
       "       'Buildup x To A x Fierce Battle', 'Restraint x And x Vow',\n",
       "       'Chasing x And x Waiting', 'Condition x And x Condition',\n",
       "       'Very x Sharp x Eye', 'Pursuit x And x Analysis',\n",
       "       'Ally x And x Sword', 'A x Brutal x Battlefield',\n",
       "       'Assault x And x Impact', 'Fake x And x Psyche',\n",
       "       \"Fortunes x Aren't x Right?\", 'Allies x And x Lies',\n",
       "       'Beloved x And x Beleaguered', 'Initiative x And x Law',\n",
       "       'Signal x To x Retreat', 'Bid x And x Haste',\n",
       "       'End x And x Beginning', 'Invitation x And x Friend',\n",
       "       'Reality x And x Raw', 'A x Hard x Master',\n",
       "       'Strengthen x And x Threaten',\n",
       "       'Evil Fist x And x Rock-Paper-Scissors', 'Strategy x And x Scheme',\n",
       "       'Episode 67', 'Pirates x And x Guesses', 'A x Heated x Showdown',\n",
       "       'Guts x And x Courage', 'Bargain x And x Deal',\n",
       "       'Chase x And x Chance', 'Insanity x And x Sanity',\n",
       "       'Victor x And x Loser', \"Ging's Friends x And x True Friends\",\n",
       "       'Reunion x And x Understanding', 'Unease x And x Sighting',\n",
       "       'Very x Rapid x Reproduction', 'No x Good x NGL',\n",
       "       'Evil x and x Terrible', 'The x Fight x Begins',\n",
       "       'Kite x And x Slots', 'Inspiration x To x Evolve',\n",
       "       'A x Fated x Awakening', 'Light x And x Darkness',\n",
       "       'Promise x and x Reunion', 'Rock-Paper-Scissors x And x Weakness',\n",
       "       'Compassion x And x Strength', 'Interest x And x Curse',\n",
       "       'The Strong x And x The Weak', 'One Wish x And x Two Promises',\n",
       "       'Date x With x Palm', 'Friend x And x Journey',\n",
       "       'Grudge x And x Dread', 'A x Lawless x Home',\n",
       "       'Carnage x And x Devastation', 'Infiltration x And x Selection',\n",
       "       'Combination x And x Evolution', 'Tracking x And x Pursuit',\n",
       "       'Ikalgo x And x Lightning', 'Power x And x Games',\n",
       "       'Check x And x Mate', 'Doubt x And x Hesitation',\n",
       "       'Resolve x And x Awakening', 'Knov x And x Morel',\n",
       "       'Return x And x Retire', 'Gungi x Of x Komugi',\n",
       "       'Taking Stock x And x Taking Action',\n",
       "       'Confusion x And x Expectation', 'Charge x And x Invade',\n",
       "       'Monster x And x Monster', 'An x Indebted x Insect',\n",
       "       'Divide x And x Conquer', 'Duty x And x Question',\n",
       "       'Revenge x And x Recovery', 'Insult x And x Payback',\n",
       "       'A x False x Rage', 'Strong x Or x Weak', 'Fake X And X Real',\n",
       "       'Defeat x And x Dignity', 'Pose x And x Name',\n",
       "       'Centipede x And x Memory', 'Breakdown x And x Awakening',\n",
       "       'Great Power x And x Ultimate Power', 'Zero x And x Rose',\n",
       "       'Formidable Enemy x And x Clear Objective', 'Magic x Of x Despair',\n",
       "       'Anger x And x Light', 'Flash x And x Start',\n",
       "       'Deadline x To x Live', 'The Word x Is x That Someone',\n",
       "       'This Person x And x This Moment', 'Homecoming x And x True Name',\n",
       "       'Debate X Among X Zodiacs', 'Request x And x Wish',\n",
       "       'Alluka x And x Something', 'Join Battle x And x Open Battle',\n",
       "       'Magician x And x Butler', 'Needles x And x Debt',\n",
       "       'Sin x And x Claw', 'Approval x And x Coalition',\n",
       "       'Defeat x And x Reunion', 'Chairman x And x Release',\n",
       "       'Salvation x And x Future', 'Past x And x Future'], dtype=object)"
      ]
     },
     "execution_count": 13,
     "metadata": {},
     "output_type": "execute_result"
    }
   ],
   "source": [
    "df.title.unique()"
   ]
  },
  {
   "cell_type": "markdown",
   "metadata": {},
   "source": [
    "# Now, let's try a zero-shot classifier to classify the theme of each episode."
   ]
  },
  {
   "cell_type": "code",
   "execution_count": 15,
   "metadata": {
    "execution": {
     "iopub.execute_input": "2025-09-05T11:03:50.995221Z",
     "iopub.status.busy": "2025-09-05T11:03:50.994665Z",
     "iopub.status.idle": "2025-09-05T11:03:50.998617Z",
     "shell.execute_reply": "2025-09-05T11:03:50.998074Z",
     "shell.execute_reply.started": "2025-09-05T11:03:50.995195Z"
    },
    "trusted": true
   },
   "outputs": [],
   "source": [
    "model = 'facebook/bart-large-mnli'\n",
    "device = 0 if torch.cuda.is_available() else 'cpu'"
   ]
  },
  {
   "cell_type": "code",
   "execution_count": 16,
   "metadata": {
    "execution": {
     "iopub.execute_input": "2025-09-05T11:03:53.477791Z",
     "iopub.status.busy": "2025-09-05T11:03:53.477504Z",
     "iopub.status.idle": "2025-09-05T11:04:04.049935Z",
     "shell.execute_reply": "2025-09-05T11:04:04.049107Z",
     "shell.execute_reply.started": "2025-09-05T11:03:53.477770Z"
    },
    "trusted": true
   },
   "outputs": [
    {
     "data": {
      "application/vnd.jupyter.widget-view+json": {
       "model_id": "67bc29a0bb204611bd5a7614742e7415",
       "version_major": 2,
       "version_minor": 0
      },
      "text/plain": [
       "config.json: 0.00B [00:00, ?B/s]"
      ]
     },
     "metadata": {},
     "output_type": "display_data"
    },
    {
     "data": {
      "application/vnd.jupyter.widget-view+json": {
       "model_id": "736a189481e94c709bc98262b8975786",
       "version_major": 2,
       "version_minor": 0
      },
      "text/plain": [
       "model.safetensors:   0%|          | 0.00/1.63G [00:00<?, ?B/s]"
      ]
     },
     "metadata": {},
     "output_type": "display_data"
    },
    {
     "data": {
      "application/vnd.jupyter.widget-view+json": {
       "model_id": "ed3d35951da04ec19e9b18e87107c7db",
       "version_major": 2,
       "version_minor": 0
      },
      "text/plain": [
       "tokenizer_config.json:   0%|          | 0.00/26.0 [00:00<?, ?B/s]"
      ]
     },
     "metadata": {},
     "output_type": "display_data"
    },
    {
     "data": {
      "application/vnd.jupyter.widget-view+json": {
       "model_id": "16b05b9ed301416982c95cb1372de8a5",
       "version_major": 2,
       "version_minor": 0
      },
      "text/plain": [
       "vocab.json: 0.00B [00:00, ?B/s]"
      ]
     },
     "metadata": {},
     "output_type": "display_data"
    },
    {
     "data": {
      "application/vnd.jupyter.widget-view+json": {
       "model_id": "0a651d2a201344ac92af849956111089",
       "version_major": 2,
       "version_minor": 0
      },
      "text/plain": [
       "merges.txt: 0.00B [00:00, ?B/s]"
      ]
     },
     "metadata": {},
     "output_type": "display_data"
    },
    {
     "data": {
      "application/vnd.jupyter.widget-view+json": {
       "model_id": "a5c7c75fbfd743fca0ed49ed8a0caea8",
       "version_major": 2,
       "version_minor": 0
      },
      "text/plain": [
       "tokenizer.json: 0.00B [00:00, ?B/s]"
      ]
     },
     "metadata": {},
     "output_type": "display_data"
    },
    {
     "name": "stderr",
     "output_type": "stream",
     "text": [
      "Device set to use cuda:0\n"
     ]
    }
   ],
   "source": [
    "def load_model(device):\n",
    "  theme_classifer = pipeline(\n",
    "      'zero-shot-classification',\n",
    "      model = model,\n",
    "      device = device\n",
    "  )\n",
    "  return theme_classifer\n",
    "theme_classifeir = load_model(device)"
   ]
  },
  {
   "cell_type": "code",
   "execution_count": 17,
   "metadata": {
    "execution": {
     "iopub.execute_input": "2025-09-05T11:04:54.719687Z",
     "iopub.status.busy": "2025-09-05T11:04:54.719187Z",
     "iopub.status.idle": "2025-09-05T11:04:54.723226Z",
     "shell.execute_reply": "2025-09-05T11:04:54.722503Z",
     "shell.execute_reply.started": "2025-09-05T11:04:54.719664Z"
    },
    "trusted": true
   },
   "outputs": [],
   "source": [
    "## themes fit well with Hunter x Hunter episodes\n",
    "theme_list = [\n",
    "    \"Friendship & Companionship\",\n",
    "    \"Training & Self-Improvement\",\n",
    "    \"Deception & Strategy\",\n",
    "    \"Survival & Danger\",\n",
    "    \"Battle & Competition\",\n",
    "    \"Family & Legacy\"\n",
    "]\n"
   ]
  },
  {
   "cell_type": "code",
   "execution_count": 18,
   "metadata": {
    "execution": {
     "iopub.execute_input": "2025-09-05T11:04:55.754779Z",
     "iopub.status.busy": "2025-09-05T11:04:55.754086Z",
     "iopub.status.idle": "2025-09-05T11:04:56.512494Z",
     "shell.execute_reply": "2025-09-05T11:04:56.511803Z",
     "shell.execute_reply.started": "2025-09-05T11:04:55.754756Z"
    },
    "trusted": true
   },
   "outputs": [
    {
     "data": {
      "text/plain": [
       "{'sequence': 'i am a student',\n",
       " 'labels': ['Training & Self-Improvement',\n",
       "  'Deception & Strategy',\n",
       "  'Friendship & Companionship',\n",
       "  'Survival & Danger',\n",
       "  'Battle & Competition',\n",
       "  'Family & Legacy'],\n",
       " 'scores': [0.7368143796920776,\n",
       "  0.4287412166595459,\n",
       "  0.37461286783218384,\n",
       "  0.3458288013935089,\n",
       "  0.17303548753261566,\n",
       "  0.08898340910673141]}"
      ]
     },
     "execution_count": 18,
     "metadata": {},
     "output_type": "execute_result"
    }
   ],
   "source": [
    "# test useage :\n",
    "theme_classifeir(\n",
    "    'i am a student',\n",
    "    theme_list,\n",
    "    multi_label = True\n",
    ")"
   ]
  },
  {
   "cell_type": "code",
   "execution_count": 19,
   "metadata": {
    "execution": {
     "iopub.execute_input": "2025-09-05T11:04:58.043907Z",
     "iopub.status.busy": "2025-09-05T11:04:58.043380Z",
     "iopub.status.idle": "2025-09-05T11:04:58.047132Z",
     "shell.execute_reply": "2025-09-05T11:04:58.046401Z",
     "shell.execute_reply.started": "2025-09-05T11:04:58.043885Z"
    },
    "trusted": true
   },
   "outputs": [],
   "source": [
    "script_ep1 = ' '.join(merged_episodes[0])"
   ]
  },
  {
   "cell_type": "code",
   "execution_count": 20,
   "metadata": {
    "execution": {
     "iopub.execute_input": "2025-09-05T11:05:00.298191Z",
     "iopub.status.busy": "2025-09-05T11:05:00.297694Z",
     "iopub.status.idle": "2025-09-05T11:05:00.301886Z",
     "shell.execute_reply": "2025-09-05T11:05:00.301124Z",
     "shell.execute_reply.started": "2025-09-05T11:05:00.298169Z"
    },
    "trusted": true
   },
   "outputs": [],
   "source": [
    "batch = 200  # number of characters per chunk\n",
    "## because the classifier has a limited context window so it can't get a hole episode in one time \n",
    "script_chunks = [script_ep1[i:i+batch] for i in range(0, len(script_ep1), batch)]\n"
   ]
  },
  {
   "cell_type": "code",
   "execution_count": 22,
   "metadata": {
    "execution": {
     "iopub.execute_input": "2025-09-05T11:05:06.891913Z",
     "iopub.status.busy": "2025-09-05T11:05:06.891367Z",
     "iopub.status.idle": "2025-09-05T11:05:06.896575Z",
     "shell.execute_reply": "2025-09-05T11:05:06.896028Z",
     "shell.execute_reply.started": "2025-09-05T11:05:06.891889Z"
    },
    "trusted": true
   },
   "outputs": [
    {
     "data": {
      "text/plain": [
       "\"Whale Island Gon's still trying to catch the Lord of the Lake? Huh? Y-Yes... He's been at it for a week, non-stop. You promised he could take the Hunter Exam if he caught the Lord of the Lake? What a \""
      ]
     },
     "execution_count": 22,
     "metadata": {},
     "output_type": "execute_result"
    }
   ],
   "source": [
    "script_chunks[0]"
   ]
  },
  {
   "cell_type": "code",
   "execution_count": 23,
   "metadata": {
    "execution": {
     "iopub.execute_input": "2025-09-05T11:05:07.293970Z",
     "iopub.status.busy": "2025-09-05T11:05:07.293335Z",
     "iopub.status.idle": "2025-09-05T11:05:07.705961Z",
     "shell.execute_reply": "2025-09-05T11:05:07.705210Z",
     "shell.execute_reply.started": "2025-09-05T11:05:07.293944Z"
    },
    "trusted": true
   },
   "outputs": [],
   "source": [
    "theme_output = theme_classifeir(\n",
    "    script_chunks[:3],\n",
    "    theme_list,\n",
    "    multi_label = True\n",
    ")"
   ]
  },
  {
   "cell_type": "code",
   "execution_count": 24,
   "metadata": {
    "execution": {
     "iopub.execute_input": "2025-09-05T11:05:07.712089Z",
     "iopub.status.busy": "2025-09-05T11:05:07.711511Z",
     "iopub.status.idle": "2025-09-05T11:05:07.716721Z",
     "shell.execute_reply": "2025-09-05T11:05:07.715980Z",
     "shell.execute_reply.started": "2025-09-05T11:05:07.712045Z"
    },
    "trusted": true
   },
   "outputs": [
    {
     "data": {
      "text/plain": [
       "[{'sequence': \"Whale Island Gon's still trying to catch the Lord of the Lake? Huh? Y-Yes... He's been at it for a week, non-stop. You promised he could take the Hunter Exam if he caught the Lord of the Lake? What a \",\n",
       "  'labels': ['Battle & Competition',\n",
       "   'Deception & Strategy',\n",
       "   'Training & Self-Improvement',\n",
       "   'Survival & Danger',\n",
       "   'Family & Legacy',\n",
       "   'Friendship & Companionship'],\n",
       "  'scores': [0.5843011736869812,\n",
       "   0.5525125861167908,\n",
       "   0.5358930826187134,\n",
       "   0.4195108115673065,\n",
       "   0.11609655618667603,\n",
       "   0.050922248512506485]},\n",
       " {'sequence': \"fool! Five adults couldn't manage to reel in that monster. How is a child supposed to catch that beast? Mito-san doesn't want him taking the Hunter Exam. But Gon's old man was the same age when he cau\",\n",
       "  'labels': ['Family & Legacy',\n",
       "   'Survival & Danger',\n",
       "   'Battle & Competition',\n",
       "   'Deception & Strategy',\n",
       "   'Training & Self-Improvement',\n",
       "   'Friendship & Companionship'],\n",
       "  'scores': [0.6933767199516296,\n",
       "   0.6611416339874268,\n",
       "   0.6202080249786377,\n",
       "   0.4523048400878906,\n",
       "   0.31795987486839294,\n",
       "   0.07084152102470398]},\n",
       " {'sequence': \"ght it... He can't do it. Got him! Yes! Yes! Yes! Yes! Yes! I got him good! It's huge! This is the Lord of the Lake? It's been twenty years! I know! It was Gon's father that time, right? He's his fath\",\n",
       "  'labels': ['Family & Legacy',\n",
       "   'Battle & Competition',\n",
       "   'Deception & Strategy',\n",
       "   'Training & Self-Improvement',\n",
       "   'Survival & Danger',\n",
       "   'Friendship & Companionship'],\n",
       "  'scores': [0.9553746581077576,\n",
       "   0.7196150422096252,\n",
       "   0.6821393966674805,\n",
       "   0.5990262627601624,\n",
       "   0.47156384587287903,\n",
       "   0.2314388006925583]}]"
      ]
     },
     "execution_count": 24,
     "metadata": {},
     "output_type": "execute_result"
    }
   ],
   "source": [
    "theme_output"
   ]
  },
  {
   "cell_type": "code",
   "execution_count": 25,
   "metadata": {
    "execution": {
     "iopub.execute_input": "2025-09-05T11:05:08.582523Z",
     "iopub.status.busy": "2025-09-05T11:05:08.582230Z",
     "iopub.status.idle": "2025-09-05T11:05:08.586561Z",
     "shell.execute_reply": "2025-09-05T11:05:08.585971Z",
     "shell.execute_reply.started": "2025-09-05T11:05:08.582500Z"
    },
    "trusted": true
   },
   "outputs": [],
   "source": [
    "themes = {}\n",
    "for out in theme_output:\n",
    "    for label, score in zip(out['labels'], out['scores']):\n",
    "        if label not in themes:\n",
    "            themes[label] = [score]\n",
    "        else:\n",
    "            themes[label].append(score)\n"
   ]
  },
  {
   "cell_type": "code",
   "execution_count": 26,
   "metadata": {
    "execution": {
     "iopub.execute_input": "2025-09-05T11:05:09.802929Z",
     "iopub.status.busy": "2025-09-05T11:05:09.802659Z",
     "iopub.status.idle": "2025-09-05T11:05:09.807833Z",
     "shell.execute_reply": "2025-09-05T11:05:09.807174Z",
     "shell.execute_reply.started": "2025-09-05T11:05:09.802908Z"
    },
    "trusted": true
   },
   "outputs": [
    {
     "data": {
      "text/plain": [
       "{'Battle & Competition': [0.5843011736869812,\n",
       "  0.6202080249786377,\n",
       "  0.7196150422096252],\n",
       " 'Deception & Strategy': [0.5525125861167908,\n",
       "  0.4523048400878906,\n",
       "  0.6821393966674805],\n",
       " 'Training & Self-Improvement': [0.5358930826187134,\n",
       "  0.31795987486839294,\n",
       "  0.5990262627601624],\n",
       " 'Survival & Danger': [0.4195108115673065,\n",
       "  0.6611416339874268,\n",
       "  0.47156384587287903],\n",
       " 'Family & Legacy': [0.11609655618667603,\n",
       "  0.6933767199516296,\n",
       "  0.9553746581077576],\n",
       " 'Friendship & Companionship': [0.050922248512506485,\n",
       "  0.07084152102470398,\n",
       "  0.2314388006925583]}"
      ]
     },
     "execution_count": 26,
     "metadata": {},
     "output_type": "execute_result"
    }
   ],
   "source": [
    "themes"
   ]
  },
  {
   "cell_type": "code",
   "execution_count": 27,
   "metadata": {
    "execution": {
     "iopub.execute_input": "2025-09-05T11:05:10.375225Z",
     "iopub.status.busy": "2025-09-05T11:05:10.374476Z",
     "iopub.status.idle": "2025-09-05T11:05:10.385285Z",
     "shell.execute_reply": "2025-09-05T11:05:10.384551Z",
     "shell.execute_reply.started": "2025-09-05T11:05:10.375199Z"
    },
    "trusted": true
   },
   "outputs": [],
   "source": [
    "import numpy as np\n",
    "import matplotlib.pyplot as plt\n",
    "\n",
    "def plot_episode_theme_evolution(text, classifier, themes, chunk_size=200):\n",
    "    # --- split into chunks ---\n",
    "    chunks = [text[i:i+chunk_size] for i in range(0, len(text), chunk_size)]\n",
    "\n",
    "    # --- classify each chunk ---\n",
    "    outs = classifier(\n",
    "        chunks,\n",
    "        candidate_labels=list(themes),\n",
    "        hypothesis_template=\"This episode is about {}.\",\n",
    "        multi_label=True\n",
    "    )\n",
    "    if isinstance(outs, dict):  # if only one chunk\n",
    "        outs = [outs]\n",
    "\n",
    "    # --- collect probabilities (chunks x themes) ---\n",
    "    P = np.zeros((len(outs), len(themes)))\n",
    "    for i, out in enumerate(outs):\n",
    "        scores = {l: s for l, s in zip(out[\"labels\"], out[\"scores\"])}\n",
    "        P[i] = [scores.get(t, 0.0) for t in themes]\n",
    "\n",
    "    # --- plot evolution ---\n",
    "    x = np.arange(1, len(chunks)+1)\n",
    "    plt.figure(figsize=(10, 5))\n",
    "    for j, theme in enumerate(themes):\n",
    "        plt.plot(x, P[:, j], label=theme, marker=\"o\")\n",
    "    plt.xlabel(\"Chunk index (episode progression)\")\n",
    "    plt.ylabel(\"Probability\")\n",
    "    plt.title(\"Theme evolution across episode\")\n",
    "    plt.ylim(0, 1)\n",
    "    plt.legend()\n",
    "    plt.tight_layout()\n",
    "    plt.show()\n",
    "\n",
    "    return P\n",
    "\n",
    "\n",
    "def plot_episode_winner_timeline(text, classifier, themes, chunk_size=200):\n",
    "    # --- split into chunks ---\n",
    "    chunks = [text[i:i+chunk_size] for i in range(0, len(text), chunk_size)]\n",
    "\n",
    "    # --- classify each chunk ---\n",
    "    outs = classifier(\n",
    "        chunks,\n",
    "        candidate_labels=list(themes),\n",
    "        hypothesis_template=\"This episode is about {}.\",\n",
    "        multi_label=True\n",
    "    )\n",
    "    if isinstance(outs, dict):  # single chunk case\n",
    "        outs = [outs]\n",
    "\n",
    "    # --- winner theme per chunk ---\n",
    "    winners = []\n",
    "    for out in outs:\n",
    "        scores = {l: s for l, s in zip(out[\"labels\"], out[\"scores\"])}\n",
    "        probs = np.array([scores.get(t, 0.0) for t in themes])\n",
    "        winners.append(np.argmax(probs))\n",
    "\n",
    "    winners = np.array(winners)\n",
    "\n",
    "    # --- plot timeline ---\n",
    "    x = np.arange(1, len(winners)+1)\n",
    "    plt.figure(figsize=(12, 3))\n",
    "    plt.scatter(x, winners, c=winners, cmap=\"tab10\", s=100, marker=\"s\")\n",
    "    plt.yticks(range(len(themes)), themes)\n",
    "    plt.xlabel(\"Chunk index (episode progression)\")\n",
    "    plt.ylabel(\"Winner Theme\")\n",
    "    plt.title(\"Evolution of winner themes across the episode\")\n",
    "    plt.tight_layout()\n",
    "    plt.show()\n",
    "\n",
    "    return [themes[i] for i in winners]\n"
   ]
  },
  {
   "cell_type": "code",
   "execution_count": 28,
   "metadata": {
    "execution": {
     "iopub.execute_input": "2025-09-05T11:05:12.446516Z",
     "iopub.status.busy": "2025-09-05T11:05:12.445940Z",
     "iopub.status.idle": "2025-09-05T11:05:15.170023Z",
     "shell.execute_reply": "2025-09-05T11:05:15.169434Z",
     "shell.execute_reply.started": "2025-09-05T11:05:12.446489Z"
    },
    "trusted": true
   },
   "outputs": [
    {
     "data": {
      "image/png": "[encoded data removed]",
      "text/plain": [
       "<Figure size 1000x500 with 1 Axes>"
      ]
     },
     "metadata": {},
     "output_type": "display_data"
    }
   ],
   "source": [
    "probs_matrix = plot_episode_theme_evolution(script_ep1, theme_classifeir, theme_list, chunk_size=1000)\n"
   ]
  },
  {
   "cell_type": "code",
   "execution_count": 29,
   "metadata": {
    "execution": {
     "iopub.execute_input": "2025-09-05T11:05:16.456612Z",
     "iopub.status.busy": "2025-09-05T11:05:16.455771Z",
     "iopub.status.idle": "2025-09-05T11:05:18.952135Z",
     "shell.execute_reply": "2025-09-05T11:05:18.951336Z",
     "shell.execute_reply.started": "2025-09-05T11:05:16.456585Z"
    },
    "trusted": true
   },
   "outputs": [
    {
     "data": {
      "image/png": "[encoded data removed]",
      "text/plain": [
       "<Figure size 1200x300 with 1 Axes>"
      ]
     },
     "metadata": {},
     "output_type": "display_data"
    }
   ],
   "source": [
    "winner_timeline = plot_episode_winner_timeline(\n",
    "    script_ep1, theme_classifeir, theme_list, chunk_size=1000\n",
    ")\n"
   ]
  },
  {
   "cell_type": "markdown",
   "metadata": {},
   "source": [
    "# Another idea we can try is fine-tuning an LLM to generate titles for the episodes based on their subtitles."
   ]
  },
  {
   "cell_type": "markdown",
   "metadata": {},
   "source": [
    "* ### let's clean the dataset, mapped episode ids to story arcs, then randomly split it keeping 5 to 10 episodes for stratified test set(so arcs are covered) and shuffling to avoid chronologial leakage.\n",
    "* ### for each row , we create the input from the subtitle and set the true title as target , and returning train , test and  a hugging face dataset ready for LLm trainer"
   ]
  },
  {
   "cell_type": "code",
   "execution_count": 16,
   "metadata": {
    "execution": {
     "iopub.execute_input": "2025-09-06T11:00:33.860458Z",
     "iopub.status.busy": "2025-09-06T11:00:33.859596Z",
     "iopub.status.idle": "2025-09-06T11:00:34.690056Z",
     "shell.execute_reply": "2025-09-06T11:00:34.689243Z",
     "shell.execute_reply.started": "2025-09-06T11:00:33.860430Z"
    },
    "trusted": true
   },
   "outputs": [],
   "source": [
    "from datasets import Dataset, DatasetDict"
   ]
  },
  {
   "cell_type": "code",
   "execution_count": 17,
   "metadata": {
    "execution": {
     "iopub.execute_input": "2025-09-06T11:00:37.568481Z",
     "iopub.status.busy": "2025-09-06T11:00:37.567112Z",
     "iopub.status.idle": "2025-09-06T11:00:37.572435Z",
     "shell.execute_reply": "2025-09-06T11:00:37.571607Z",
     "shell.execute_reply.started": "2025-09-06T11:00:37.568443Z"
    },
    "trusted": true
   },
   "outputs": [],
   "source": [
    "ARC_RANGES = [\n",
    "    (1, 21,  \"Hunter Exam\"),\n",
    "    (22, 26, \"Zoldyck Family\"),\n",
    "    (27, 36, \"Heavens Arena\"),\n",
    "    (37, 58, \"Yorknew City\"),\n",
    "    (59, 75, \"Greed Island\"),\n",
    "    (76, 136,\"Chimera Ant\"),\n",
    "    (137,148,\"Election\"),\n",
    "]"
   ]
  },
  {
   "cell_type": "code",
   "execution_count": 32,
   "metadata": {
    "execution": {
     "iopub.execute_input": "2025-09-05T11:05:26.634697Z",
     "iopub.status.busy": "2025-09-05T11:05:26.633942Z",
     "iopub.status.idle": "2025-09-05T11:05:26.644960Z",
     "shell.execute_reply": "2025-09-05T11:05:26.644314Z",
     "shell.execute_reply.started": "2025-09-05T11:05:26.634673Z"
    },
    "trusted": true
   },
   "outputs": [],
   "source": [
    "def map_arc(ep_id: int) -> str:\n",
    "    for lo, hi, arc in ARC_RANGES:\n",
    "        if lo <= ep_id <= hi:\n",
    "            return arc\n",
    "    return \"Unknown\"\n",
    "\n",
    "def build_splits_for_title_gen(df: pd.DataFrame, n_test: int = 10,\n",
    "                               seed: int = 42, stratify_by_arc: bool = True):\n",
    "    # keep only rows with both fields\n",
    "    d = df.dropna(subset=[\"subtitle\",\"title\"]).copy()\n",
    "    d[\"id\"] = pd.to_numeric(d[\"id\"], errors=\"coerce\").astype(int)\n",
    "    d[\"arc\"] = d[\"id\"].apply(map_arc)\n",
    "    d = d[d[\"arc\"] != \"Unknown\"]\n",
    "\n",
    "    # global shuffle\n",
    "    d = d.sample(frac=1, random_state=seed).reset_index(drop=True)\n",
    "\n",
    "    # n_test guard (leave at least 1 train sample)\n",
    "    n_test = int(min(max(n_test, 1), len(d) - 1))\n",
    "\n",
    "    # ---- choose test indices (stratified by arc when possible) ----\n",
    "    if stratify_by_arc:\n",
    "        arcs = d[\"arc\"].unique().tolist()\n",
    "        test_idx = []\n",
    "\n",
    "        if n_test >= len(arcs):\n",
    "            # 1 per arc, then fill the remainder at random\n",
    "            for arc in arcs:\n",
    "                test_idx.append(d[d[\"arc\"] == arc].sample(n=1, random_state=seed).index[0])\n",
    "            remaining = n_test - len(test_idx)\n",
    "            if remaining > 0:\n",
    "                rest = d.drop(index=test_idx)\n",
    "                test_idx += rest.sample(n=remaining, random_state=seed).index.tolist()\n",
    "        else:\n",
    "            # pick n_test arcs at random, one episode from each\n",
    "            chosen_arcs = pd.Series(arcs).sample(n=n_test, random_state=seed)\n",
    "            for arc in chosen_arcs:\n",
    "                test_idx.append(d[d[\"arc\"] == arc].sample(n=1, random_state=seed).index[0])\n",
    "    else:\n",
    "        test_idx = d.sample(n=n_test, random_state=seed).index.tolist()\n",
    "\n",
    "    test_df  = d.loc[test_idx]\n",
    "    train_df = d.drop(index=test_idx)\n",
    "\n",
    "    # final shuffle + reindex\n",
    "    test_df  = test_df.sample(frac=1, random_state=seed).reset_index(drop=True)\n",
    "    train_df = train_df.sample(frac=1, random_state=seed).reset_index(drop=True)\n",
    "\n",
    "    # ---- build instruction-format fields ----\n",
    "    prefix =(\n",
    "        \"You are tasked with writing a Hunter x Hunter style episode title. \"\n",
    "        \"Hunter x Hunter titles always follow the unique format of short phrases \"\n",
    "        \"separated by ' x '. Usually there are exactly three parts (each 1–2 words), \"\n",
    "        \"like these examples:\\n\"\n",
    "        \"- Hope x And x Ambition\\n\"\n",
    "        \"- Rivals x For x Survival\\n\"\n",
    "        \"- Hisoka x Is x Sneaky\\n\"\n",
    "        \"- A x Brutal x Battlefield\\n\\n\"\n",
    "        \"Now, based on the following episode summary, create a new title in the same style.\\n\"\n",
    "        \"\\nTitle:\"\n",
    "    )\n",
    "\n",
    "    for tmp in (train_df, test_df):\n",
    "        tmp[\"input\"]  = prefix + \"Subtitle: \" + tmp[\"subtitle\"].astype(str) + \"\\nTitle:\"\n",
    "        tmp[\"target\"] = tmp[\"title\"].astype(str)\n",
    "    ds = DatasetDict({\n",
    "        \"train\": Dataset.from_pandas(train_df[[\"input\",\"target\"]]),\n",
    "        \"test\":  Dataset.from_pandas(test_df[[\"input\",\"target\"]]),\n",
    "    })\n",
    "    return train_df, test_df, ds"
   ]
  },
  {
   "cell_type": "code",
   "execution_count": 33,
   "metadata": {
    "execution": {
     "iopub.execute_input": "2025-09-05T11:05:28.324322Z",
     "iopub.status.busy": "2025-09-05T11:05:28.324050Z",
     "iopub.status.idle": "2025-09-05T11:05:28.375739Z",
     "shell.execute_reply": "2025-09-05T11:05:28.375096Z",
     "shell.execute_reply.started": "2025-09-05T11:05:28.324304Z"
    },
    "trusted": true
   },
   "outputs": [],
   "source": [
    "train_df, test_df, ds = build_splits_for_title_gen(df, n_test=10, seed=42, stratify_by_arc=True)"
   ]
  },
  {
   "cell_type": "code",
   "execution_count": 34,
   "metadata": {
    "execution": {
     "iopub.execute_input": "2025-09-05T11:05:29.018152Z",
     "iopub.status.busy": "2025-09-05T11:05:29.017630Z",
     "iopub.status.idle": "2025-09-05T11:05:29.024942Z",
     "shell.execute_reply": "2025-09-05T11:05:29.024206Z",
     "shell.execute_reply.started": "2025-09-05T11:05:29.018125Z"
    },
    "trusted": true
   },
   "outputs": [
    {
     "name": "stdout",
     "output_type": "stream",
     "text": [
      "(135, 6) (10, 6)\n",
      "arc\n",
      "Chimera Ant       3\n",
      "Yorknew City      2\n",
      "Election          1\n",
      "Greed Island      1\n",
      "Heavens Arena     1\n",
      "Hunter Exam       1\n",
      "Zoldyck Family    1\n",
      "Name: count, dtype: int64\n"
     ]
    }
   ],
   "source": [
    "print(train_df.shape, test_df.shape)\n",
    "print(test_df[\"arc\"].value_counts())"
   ]
  },
  {
   "cell_type": "code",
   "execution_count": 35,
   "metadata": {
    "execution": {
     "iopub.execute_input": "2025-09-05T11:05:30.041123Z",
     "iopub.status.busy": "2025-09-05T11:05:30.040584Z",
     "iopub.status.idle": "2025-09-05T11:05:30.050075Z",
     "shell.execute_reply": "2025-09-05T11:05:30.049251Z",
     "shell.execute_reply.started": "2025-09-05T11:05:30.041098Z"
    },
    "trusted": true
   },
   "outputs": [
    {
     "data": {
      "text/html": [
       "<div>\n",
       "<style scoped>\n",
       "    .dataframe tbody tr th:only-of-type {\n",
       "        vertical-align: middle;\n",
       "    }\n",
       "\n",
       "    .dataframe tbody tr th {\n",
       "        vertical-align: top;\n",
       "    }\n",
       "\n",
       "    .dataframe thead th {\n",
       "        text-align: right;\n",
       "    }\n",
       "</style>\n",
       "<table border=\"1\" class=\"dataframe\">\n",
       "  <thead>\n",
       "    <tr style=\"text-align: right;\">\n",
       "      <th></th>\n",
       "      <th>id</th>\n",
       "      <th>title</th>\n",
       "      <th>subtitle</th>\n",
       "      <th>arc</th>\n",
       "      <th>input</th>\n",
       "      <th>target</th>\n",
       "    </tr>\n",
       "  </thead>\n",
       "  <tbody>\n",
       "    <tr>\n",
       "      <th>0</th>\n",
       "      <td>142</td>\n",
       "      <td>Defeat x And x Reunion</td>\n",
       "      <td>The results of the eighth chairman election we...</td>\n",
       "      <td>Election</td>\n",
       "      <td>You are tasked with writing a Hunter x Hunter ...</td>\n",
       "      <td>Defeat x And x Reunion</td>\n",
       "    </tr>\n",
       "    <tr>\n",
       "      <th>1</th>\n",
       "      <td>6</td>\n",
       "      <td>A x Surprising x Challenge</td>\n",
       "      <td>Looks like we made it in time. Leorio... Leori...</td>\n",
       "      <td>Hunter Exam</td>\n",
       "      <td>You are tasked with writing a Hunter x Hunter ...</td>\n",
       "      <td>A x Surprising x Challenge</td>\n",
       "    </tr>\n",
       "    <tr>\n",
       "      <th>2</th>\n",
       "      <td>91</td>\n",
       "      <td>One Wish x And x Two Promises</td>\n",
       "      <td>Colt arrived, under a white flag of surrender,...</td>\n",
       "      <td>Chimera Ant</td>\n",
       "      <td>You are tasked with writing a Hunter x Hunter ...</td>\n",
       "      <td>One Wish x And x Two Promises</td>\n",
       "    </tr>\n",
       "    <tr>\n",
       "      <th>3</th>\n",
       "      <td>32</td>\n",
       "      <td>A x Surprising x Win</td>\n",
       "      <td>Kastro has used Nen to create a double of hims...</td>\n",
       "      <td>Heavens Arena</td>\n",
       "      <td>You are tasked with writing a Hunter x Hunter ...</td>\n",
       "      <td>A x Surprising x Win</td>\n",
       "    </tr>\n",
       "    <tr>\n",
       "      <th>4</th>\n",
       "      <td>86</td>\n",
       "      <td>Promise x and x Reunion</td>\n",
       "      <td>Gon and Killua have vowed to save Kite. But be...</td>\n",
       "      <td>Chimera Ant</td>\n",
       "      <td>You are tasked with writing a Hunter x Hunter ...</td>\n",
       "      <td>Promise x and x Reunion</td>\n",
       "    </tr>\n",
       "  </tbody>\n",
       "</table>\n",
       "</div>"
      ],
      "text/plain": [
       "    id                          title  \\\n",
       "0  142         Defeat x And x Reunion   \n",
       "1    6     A x Surprising x Challenge   \n",
       "2   91  One Wish x And x Two Promises   \n",
       "3   32           A x Surprising x Win   \n",
       "4   86        Promise x and x Reunion   \n",
       "\n",
       "                                            subtitle            arc  \\\n",
       "0  The results of the eighth chairman election we...       Election   \n",
       "1  Looks like we made it in time. Leorio... Leori...    Hunter Exam   \n",
       "2  Colt arrived, under a white flag of surrender,...    Chimera Ant   \n",
       "3  Kastro has used Nen to create a double of hims...  Heavens Arena   \n",
       "4  Gon and Killua have vowed to save Kite. But be...    Chimera Ant   \n",
       "\n",
       "                                               input  \\\n",
       "0  You are tasked with writing a Hunter x Hunter ...   \n",
       "1  You are tasked with writing a Hunter x Hunter ...   \n",
       "2  You are tasked with writing a Hunter x Hunter ...   \n",
       "3  You are tasked with writing a Hunter x Hunter ...   \n",
       "4  You are tasked with writing a Hunter x Hunter ...   \n",
       "\n",
       "                          target  \n",
       "0         Defeat x And x Reunion  \n",
       "1     A x Surprising x Challenge  \n",
       "2  One Wish x And x Two Promises  \n",
       "3           A x Surprising x Win  \n",
       "4        Promise x and x Reunion  "
      ]
     },
     "execution_count": 35,
     "metadata": {},
     "output_type": "execute_result"
    }
   ],
   "source": [
    "train_df.head()"
   ]
  },
  {
   "cell_type": "code",
   "execution_count": 36,
   "metadata": {
    "execution": {
     "iopub.execute_input": "2025-09-05T11:05:30.428994Z",
     "iopub.status.busy": "2025-09-05T11:05:30.428324Z",
     "iopub.status.idle": "2025-09-05T11:05:30.438682Z",
     "shell.execute_reply": "2025-09-05T11:05:30.437862Z",
     "shell.execute_reply.started": "2025-09-05T11:05:30.428971Z"
    },
    "trusted": true
   },
   "outputs": [
    {
     "data": {
      "text/html": [
       "<div>\n",
       "<style scoped>\n",
       "    .dataframe tbody tr th:only-of-type {\n",
       "        vertical-align: middle;\n",
       "    }\n",
       "\n",
       "    .dataframe tbody tr th {\n",
       "        vertical-align: top;\n",
       "    }\n",
       "\n",
       "    .dataframe thead th {\n",
       "        text-align: right;\n",
       "    }\n",
       "</style>\n",
       "<table border=\"1\" class=\"dataframe\">\n",
       "  <thead>\n",
       "    <tr style=\"text-align: right;\">\n",
       "      <th></th>\n",
       "      <th>id</th>\n",
       "      <th>title</th>\n",
       "      <th>subtitle</th>\n",
       "      <th>arc</th>\n",
       "      <th>input</th>\n",
       "      <th>target</th>\n",
       "    </tr>\n",
       "  </thead>\n",
       "  <tbody>\n",
       "    <tr>\n",
       "      <th>0</th>\n",
       "      <td>92</td>\n",
       "      <td>Date x With x Palm</td>\n",
       "      <td>I don't know which nation sent you. But having...</td>\n",
       "      <td>Chimera Ant</td>\n",
       "      <td>You are tasked with writing a Hunter x Hunter ...</td>\n",
       "      <td>Date x With x Palm</td>\n",
       "    </tr>\n",
       "    <tr>\n",
       "      <th>1</th>\n",
       "      <td>140</td>\n",
       "      <td>Sin x And x Claw</td>\n",
       "      <td>5th Election for the 13th Chairman In the fift...</td>\n",
       "      <td>Election</td>\n",
       "      <td>You are tasked with writing a Hunter x Hunter ...</td>\n",
       "      <td>Sin x And x Claw</td>\n",
       "    </tr>\n",
       "    <tr>\n",
       "      <th>2</th>\n",
       "      <td>118</td>\n",
       "      <td>Strong x Or x Weak</td>\n",
       "      <td>He disappeared? Godspeed. The difference in in...</td>\n",
       "      <td>Chimera Ant</td>\n",
       "      <td>You are tasked with writing a Hunter x Hunter ...</td>\n",
       "      <td>Strong x Or x Weak</td>\n",
       "    </tr>\n",
       "    <tr>\n",
       "      <th>3</th>\n",
       "      <td>70</td>\n",
       "      <td>Guts x And x Courage</td>\n",
       "      <td>An intense dodgeball match has begun. Gon was ...</td>\n",
       "      <td>Greed Island</td>\n",
       "      <td>You are tasked with writing a Hunter x Hunter ...</td>\n",
       "      <td>Guts x And x Courage</td>\n",
       "    </tr>\n",
       "    <tr>\n",
       "      <th>4</th>\n",
       "      <td>39</td>\n",
       "      <td>Wish x And x Promise</td>\n",
       "      <td>As Gon and Killua depart from Whale Island, Ku...</td>\n",
       "      <td>Yorknew City</td>\n",
       "      <td>You are tasked with writing a Hunter x Hunter ...</td>\n",
       "      <td>Wish x And x Promise</td>\n",
       "    </tr>\n",
       "  </tbody>\n",
       "</table>\n",
       "</div>"
      ],
      "text/plain": [
       "    id                 title  \\\n",
       "0   92    Date x With x Palm   \n",
       "1  140      Sin x And x Claw   \n",
       "2  118    Strong x Or x Weak   \n",
       "3   70  Guts x And x Courage   \n",
       "4   39  Wish x And x Promise   \n",
       "\n",
       "                                            subtitle           arc  \\\n",
       "0  I don't know which nation sent you. But having...   Chimera Ant   \n",
       "1  5th Election for the 13th Chairman In the fift...      Election   \n",
       "2  He disappeared? Godspeed. The difference in in...   Chimera Ant   \n",
       "3  An intense dodgeball match has begun. Gon was ...  Greed Island   \n",
       "4  As Gon and Killua depart from Whale Island, Ku...  Yorknew City   \n",
       "\n",
       "                                               input                target  \n",
       "0  You are tasked with writing a Hunter x Hunter ...    Date x With x Palm  \n",
       "1  You are tasked with writing a Hunter x Hunter ...      Sin x And x Claw  \n",
       "2  You are tasked with writing a Hunter x Hunter ...    Strong x Or x Weak  \n",
       "3  You are tasked with writing a Hunter x Hunter ...  Guts x And x Courage  \n",
       "4  You are tasked with writing a Hunter x Hunter ...  Wish x And x Promise  "
      ]
     },
     "execution_count": 36,
     "metadata": {},
     "output_type": "execute_result"
    }
   ],
   "source": [
    "test_df.head()"
   ]
  },
  {
   "cell_type": "code",
   "execution_count": 37,
   "metadata": {
    "execution": {
     "iopub.execute_input": "2025-09-05T11:05:31.886225Z",
     "iopub.status.busy": "2025-09-05T11:05:31.885655Z",
     "iopub.status.idle": "2025-09-05T11:05:31.889873Z",
     "shell.execute_reply": "2025-09-05T11:05:31.889279Z",
     "shell.execute_reply.started": "2025-09-05T11:05:31.886200Z"
    },
    "trusted": true
   },
   "outputs": [
    {
     "name": "stdout",
     "output_type": "stream",
     "text": [
      "DatasetDict({\n",
      "    train: Dataset({\n",
      "        features: ['input', 'target'],\n",
      "        num_rows: 135\n",
      "    })\n",
      "    test: Dataset({\n",
      "        features: ['input', 'target'],\n",
      "        num_rows: 10\n",
      "    })\n",
      "})\n"
     ]
    }
   ],
   "source": [
    "print(ds)"
   ]
  },
  {
   "cell_type": "code",
   "execution_count": 38,
   "metadata": {
    "execution": {
     "iopub.execute_input": "2025-09-05T11:05:32.247050Z",
     "iopub.status.busy": "2025-09-05T11:05:32.246323Z",
     "iopub.status.idle": "2025-09-05T11:05:32.252711Z",
     "shell.execute_reply": "2025-09-05T11:05:32.251926Z",
     "shell.execute_reply.started": "2025-09-05T11:05:32.247015Z"
    },
    "trusted": true
   },
   "outputs": [
    {
     "data": {
      "text/plain": [
       "'You are tasked with writing a Hunter x Hunter style episode title. Hunter x Hunter titles always follow the unique format of short phrases separated by \\' x \\'. Usually there are exactly three parts (each 1–2 words), like these examples:\\n- Hope x And x Ambition\\n- Rivals x For x Survival\\n- Hisoka x Is x Sneaky\\n- A x Brutal x Battlefield\\n\\nNow, based on the following episode summary, create a new title in the same style.\\n\\nTitle:Subtitle: The results of the eighth chairman election were promptly counted by Beans. Now, please take a look at the result of the eighth election for the 13th chairman! Wow! Eighth Election for the 13th Chairman 1) Leorio 282 (44.4%) 2) Pariston 250 3) Mizaistom 58 4) Cheadle 16 Turnout: 95.4% This puts Leorio in first place! For the first time, Pariston hasn\\'t finished in first place... However, the first place vote-getter, Leorio, received only 44.4% of the vote. That was below the 50% requirement, which means we\\'ll finally have a run-off between the top two vote-getters. Are they serious about this? Then I\\'m gonna do whatever the hell I want. Oh, it\\'s Brother. Morning. Did you sleep well? Uh-huh. Where are we? The hospital. My friend is here, sleeping. He\\'s very sick. I want to help get him on his feet again. You want Something to take over. Boo! Just when I was able to spend time with you! Don\\'t worry. Like I told you... We\\'ll be together from now on. And that\\'s a promise. Please help me. I knew it. Killua is the one person who doesn\\'t have to follow the rules. Though I\\'ll have to check whether it\\'s specific to Killua or something that happens after a wish is used to heal. Okay, I\\'ll do it. Either way, the power to destroy and fix can become a powerful tool if the user can be tamed. His utter lack of humanity and wicked ambition deviate even from the path of an assassin. How tragic... When he was being controlled, he suffered less. Alluka is only awake when Something is asleep. She spends less time as Alluka than one would think. The time after Something\\'s requests aren\\'t met and people die, until Something makes the next level-1 request... Or the time when request-making is paused after someone leaves Something before her three requests are complete... Or the time after Something fixes and falls asleep, until someone else makes a wish to Alluka and has it granted... Making this the last wish and never wishing to Something again would be the best thing that could happen. Hand... Hand... Please, Something... Please heal Gon! \\'Kay. Such incredible power... What\\'s happening inside? Who\\'s doing this? What is this? I\\'ve never felt anything like this before. Are you serious? Are you serious? Then I\\'m going to do whatever I want. Magnificent. I want this. This... belongs to me. Then let me ask the two remaining candidates if they have anything they want to say. If not, we will proceed with the final vote. It\\'s futile. It doesn\\'t matter what you have to say. Well, I have a feeling that this election is already over, but I would like to ask Leorio-san a question. Can you answer this question for me again? What will you do if you become chairman? Leorio-san, can you please give us your answer again? What will you do if you become chairman? Save Gon! And I\\'ll make all of you help me! That\\'s all. This would have been the perfect time, but I\\'m not God. In that case, do you have any plans for shuffling personnel or restructuring the organization? Of course not! I don\\'t even know why I\\'m standing here right now! Naturally... Those are all the questions I have. It\\'s futile, Pariston. Everyone was aware of those answers when they voted for Leorio. His supporters applauded because they have every intention of backing him! Do you have any questions for me? No! Let\\'s just get this over with! I understand. Then I move for an emergency council. Huh? Er, what are you saying? An emergency council. In accordance with the Eighth and Ninth Hunter Commandments, I move for a vote of confidence. The topic will be a revision of the Hunter Commandments and the Hunter Exam. First, I propose that we abolish the current Hunter Exam system. If you agree, please vote \"yea.\" If you disagree, please vote \"nay.\" Hold it right there! During the Zodiac council, we decided the Ten Commandments weren\\'t to be touched! That isn\\'t relevant right now! No. You\\'re wrong, stupid tiger! You\\'re absolutely right. The council reached an 11-1 majority decision. I was the only one in favor of revising the Ten Commandments. If Cheadle-san or Mizaistom-san were standing on the stage now, I would have deferred to the council and kept my mouth shut until the election ended. But both of them are out of the running. And Leorio-san has stated that he has no plan for the Association! This is the only time I can express my opinion as vice chairman, and not as a member of the Zodiacs. Don\\'t you understand, Kanzai-san? This is the only chance I will ever get! Of course, I could use the Eighth Commandment to override the council\\'s decision and force the matter to a vote. But I wanted to avoid that. The Zodiacs are something precious that the former chairman left us. Hey, if you say something stupid, he\\'ll pay you back ten times over. Honestly, part of me wishes to let this matter die without making waves. However, the late Teradein-san and Bushidora-san made an excellent point. The Third and Fourth Commandments are suffering gravely as a result of the current exam process! He doesn\\'t want to win. He doesn\\'t want to lose, either. You\\'re right... He\\'s a spiteful person! He doesn\\'t care about winning or losing, so with nothing to gain or lose, he can always stay dispassionate and calm, while he manipulates others and plays the rules against us in the worst way possible. May I say something? Yes, what is it? If Leorio wins, I volunteer to serve as an advisor. I promise to conduct a comprehensive review of the Ten Commandments and Hunter Exam at that point. I won\\'t let you grab any of the Teradein votes! I\\'ll counter every point you\\'ve made! To everyone who\\'s voting for the potential Leorio shows, but who\\'s concerned about how he will serve initially, I will quell those concerns, even if it requires me to leave the Zodiacs. Hey, hey, hey! I have no idea what you people are talking about. But I\\'m in a hurry to save Gon as quickly as possible! Leorio! Gon! Damn! You had me so worried! Leorio! I\\'m so glad! So glad! Did I l look that bad? Bad doesn\\'t even begin to describe it! Leorio, stop. He\\'s healed now. Isn\\'t that enough? Yeah, you\\'re right. Everyone was worried about you. Thank you... Thank you. He got us. Pariston wanted Leorio to be his final opponent! Leorio no longer has the motive or support to become chairman. You become chairman! Who\\'s the bald guy? Leorio, you can\\'t tell Gon that Killua healed him. Huh? Why not? You can\\'t tell him! For Killua\\'s sake, promise not to tell him. O-Okay, got it. Pariston, when? When did you predict that this would happen? Huh? No, no... I don\\'t have the ability to predict anything. This was pure coincidence. Please tell me. I want to know. It hurts to admit this, but I\\'ve been defeated. It was when Ging-san said he would run for chairman... What? After he said he would run, I asked a question to provoke him. And he responded that Gon-kun wouldn\\'t die, right? Go visit him. He isn\\'t going to die. In that moment, I could see the scene that just transpired before us. Well, I anticipated Ging-san and I would stand on stage, and Ging-san would ultimately win. At least, in my vision. First, since Ging-san said Gon-kun wouldn\\'t die, I knew that meant there was a way to heal him. And that if he became part of the election, I would never win. Do you understand? That was the moment I was defeated. But Ging-san gave up on the election, then Leorio-san arrived, and hit him. When he stood on stage and talked about his friends risking their lives to save Gon-kun, I finally saw the complete picture. I was assured of my victory a moment ago, when I felt that immense power. I could sense that Gon-kun\\'s friends had saved him. All that remained was to delay the vote until he arrived. Oh, I\\'ll retract the earlier motion, so there\\'s nothing for you to worry about. That was all the information you had? You put your trust in someone you\\'d never met before?! I trust Ging-san as an enemy. And these are the friends that Ging-san trusted to save his son. I trust them. Why wouldn\\'t I? Run for chairman! I\\'ll vote for you! Get on stage and say something! Speech! Speech! Man, I don\\'t know what to do. Ging? This is bad. But, well, this was always gonna happen... Gon has finally caught sight of Ging\\'s back. What will he say to him?\\nTitle:'"
      ]
     },
     "execution_count": 38,
     "metadata": {},
     "output_type": "execute_result"
    }
   ],
   "source": [
    "train_df.iloc[0].input"
   ]
  },
  {
   "cell_type": "markdown",
   "metadata": {},
   "source": [
    "## let's see the performance of the LLM without fine tuning "
   ]
  },
  {
   "cell_type": "code",
   "execution_count": 39,
   "metadata": {
    "execution": {
     "iopub.execute_input": "2025-09-05T11:05:33.811182Z",
     "iopub.status.busy": "2025-09-05T11:05:33.810869Z",
     "iopub.status.idle": "2025-09-05T11:05:33.815000Z",
     "shell.execute_reply": "2025-09-05T11:05:33.814260Z",
     "shell.execute_reply.started": "2025-09-05T11:05:33.811158Z"
    },
    "trusted": true
   },
   "outputs": [],
   "source": [
    "import re, torch\n",
    "from transformers import AutoTokenizer, AutoModelForSeq2SeqLM"
   ]
  },
  {
   "cell_type": "markdown",
   "metadata": {},
   "source": [
    "* ### we will use flan-t5-small from goolge for this task:\n",
    "* #### becaues it's an encoder decoder model that excels at conditional generation tasks, and its intructions-tuning makes it follow prompts much better than vanella T5 or decoder only models like llama or qwen, finally it's small and lightweight , it trains and runs easly on limited data like ours (145 samples )without over fittnig."
   ]
  },
  {
   "cell_type": "code",
   "execution_count": 40,
   "metadata": {
    "execution": {
     "iopub.execute_input": "2025-09-05T11:05:35.412720Z",
     "iopub.status.busy": "2025-09-05T11:05:35.412151Z",
     "iopub.status.idle": "2025-09-05T11:05:40.246723Z",
     "shell.execute_reply": "2025-09-05T11:05:40.245929Z",
     "shell.execute_reply.started": "2025-09-05T11:05:35.412699Z"
    },
    "trusted": true
   },
   "outputs": [
    {
     "data": {
      "application/vnd.jupyter.widget-view+json": {
       "model_id": "ead87f6b9c0b45159bdcb3d26bf5df1a",
       "version_major": 2,
       "version_minor": 0
      },
      "text/plain": [
       "tokenizer_config.json: 0.00B [00:00, ?B/s]"
      ]
     },
     "metadata": {},
     "output_type": "display_data"
    },
    {
     "data": {
      "application/vnd.jupyter.widget-view+json": {
       "model_id": "676d8fd4abd2415c95d06d763f1c237c",
       "version_major": 2,
       "version_minor": 0
      },
      "text/plain": [
       "spiece.model:   0%|          | 0.00/792k [00:00<?, ?B/s]"
      ]
     },
     "metadata": {},
     "output_type": "display_data"
    },
    {
     "data": {
      "application/vnd.jupyter.widget-view+json": {
       "model_id": "6227aa98cc34437db9f229b11e929dee",
       "version_major": 2,
       "version_minor": 0
      },
      "text/plain": [
       "tokenizer.json: 0.00B [00:00, ?B/s]"
      ]
     },
     "metadata": {},
     "output_type": "display_data"
    },
    {
     "data": {
      "application/vnd.jupyter.widget-view+json": {
       "model_id": "5d093ff99f5344c4829a826e6e674cf0",
       "version_major": 2,
       "version_minor": 0
      },
      "text/plain": [
       "special_tokens_map.json: 0.00B [00:00, ?B/s]"
      ]
     },
     "metadata": {},
     "output_type": "display_data"
    },
    {
     "data": {
      "application/vnd.jupyter.widget-view+json": {
       "model_id": "6af27b32f06843519af68fa1537e84f7",
       "version_major": 2,
       "version_minor": 0
      },
      "text/plain": [
       "config.json: 0.00B [00:00, ?B/s]"
      ]
     },
     "metadata": {},
     "output_type": "display_data"
    },
    {
     "data": {
      "application/vnd.jupyter.widget-view+json": {
       "model_id": "9793ef00f55348aa92559e16ac4b69c7",
       "version_major": 2,
       "version_minor": 0
      },
      "text/plain": [
       "model.safetensors:   0%|          | 0.00/308M [00:00<?, ?B/s]"
      ]
     },
     "metadata": {},
     "output_type": "display_data"
    },
    {
     "data": {
      "application/vnd.jupyter.widget-view+json": {
       "model_id": "1c3f08543ae6443295cf32bfcf4047e3",
       "version_major": 2,
       "version_minor": 0
      },
      "text/plain": [
       "generation_config.json:   0%|          | 0.00/147 [00:00<?, ?B/s]"
      ]
     },
     "metadata": {},
     "output_type": "display_data"
    }
   ],
   "source": [
    "base_ckpt = \"google/flan-t5-small\" # context window 512 tokens\n",
    "tok = tok if 'tok' in globals() else AutoTokenizer.from_pretrained(base_ckpt)\n",
    "model_zs = AutoModelForSeq2SeqLM.from_pretrained(base_ckpt).to(\"cuda\" if torch.cuda.is_available() else \"cpu\").eval()"
   ]
  },
  {
   "cell_type": "code",
   "execution_count": 41,
   "metadata": {
    "execution": {
     "iopub.execute_input": "2025-09-05T11:05:40.701903Z",
     "iopub.status.busy": "2025-09-05T11:05:40.701174Z",
     "iopub.status.idle": "2025-09-05T11:05:41.732133Z",
     "shell.execute_reply": "2025-09-05T11:05:41.731315Z",
     "shell.execute_reply.started": "2025-09-05T11:05:40.701882Z"
    },
    "trusted": true
   },
   "outputs": [
    {
     "name": "stdout",
     "output_type": "stream",
     "text": [
      " id                       title                                    pred_zero_shot\n",
      " 92          Date x With x Palm                                   Hunter x Hunter\n",
      "140            Sin x And x Claw                5th Election for the 13th Chairman\n",
      "118          Strong x Or x Weak                          He disappeared? Godspeed\n",
      " 70        Guts x And x Courage                                   Hunter x Hunter\n",
      " 39        Wish x And x Promise           Gon and Killua depart from Whale Island\n",
      " 33         An x Empty x Threat                                   Hunter x Hunter\n",
      "113      Divide x And x Conquer                                   Hunter x Hunter\n",
      " 43      A x Shocking x Tragedy                            A Brutal x Battlefield\n",
      " 20 Baffling x Turn Of x Events You're awake? Where am I? A waiting room, next to\n",
      " 26          Then x And x After                                   Hunter x Hunter\n"
     ]
    }
   ],
   "source": [
    "enc = tok(test_df[\"input\"].tolist(), return_tensors=\"pt\", padding=True, truncation=True, max_length=256).to(model_zs.device)\n",
    "out = model_zs.generate(**enc, max_length=16, num_beams=4, no_repeat_ngram_size=2)\n",
    "preds = tok.batch_decode(out, skip_special_tokens=True)\n",
    "\n",
    "# tiny cleanup\n",
    "test_df[\"pred_zero_shot\"] = [re.sub(r'^\\s*title\\s*:\\s*','', p, flags=re.I) for p in preds]\n",
    "\n",
    "print(test_df[[\"id\",\"title\",\"pred_zero_shot\"]].head(10).to_string(index=False))"
   ]
  },
  {
   "cell_type": "markdown",
   "metadata": {},
   "source": [
    "* ## The zero-shot FLAN-T5 outputs mostly respect the format but collapse to generic phrases like “Hunter x Hunter” or malformed text"
   ]
  },
  {
   "cell_type": "markdown",
   "metadata": {},
   "source": [
    "* we can notice that each episode has around 8000 char, so it's around 2000 tokens , the T5 model can't read them at once to it ignores the remaining text\n",
    "* to solve this let's try an other idea, it could improve the performance of zero_shot approach\n",
    "* we can also use more robust model the flan-t5-base with 80M param "
   ]
  },
  {
   "cell_type": "code",
   "execution_count": 42,
   "metadata": {
    "execution": {
     "iopub.execute_input": "2025-09-05T11:05:43.877900Z",
     "iopub.status.busy": "2025-09-05T11:05:43.877124Z",
     "iopub.status.idle": "2025-09-05T11:05:50.674817Z",
     "shell.execute_reply": "2025-09-05T11:05:50.674200Z",
     "shell.execute_reply.started": "2025-09-05T11:05:43.877874Z"
    },
    "trusted": true
   },
   "outputs": [
    {
     "data": {
      "application/vnd.jupyter.widget-view+json": {
       "model_id": "508d7e3ce87143af95505ac7089fb7dd",
       "version_major": 2,
       "version_minor": 0
      },
      "text/plain": [
       "tokenizer_config.json: 0.00B [00:00, ?B/s]"
      ]
     },
     "metadata": {},
     "output_type": "display_data"
    },
    {
     "data": {
      "application/vnd.jupyter.widget-view+json": {
       "model_id": "c110fec4ad5544fe91df208beb934d46",
       "version_major": 2,
       "version_minor": 0
      },
      "text/plain": [
       "spiece.model:   0%|          | 0.00/792k [00:00<?, ?B/s]"
      ]
     },
     "metadata": {},
     "output_type": "display_data"
    },
    {
     "data": {
      "application/vnd.jupyter.widget-view+json": {
       "model_id": "324bd5f94bf849e1af66764918b92d85",
       "version_major": 2,
       "version_minor": 0
      },
      "text/plain": [
       "tokenizer.json: 0.00B [00:00, ?B/s]"
      ]
     },
     "metadata": {},
     "output_type": "display_data"
    },
    {
     "data": {
      "application/vnd.jupyter.widget-view+json": {
       "model_id": "ffda259d8cd04b74908731621b9c5685",
       "version_major": 2,
       "version_minor": 0
      },
      "text/plain": [
       "special_tokens_map.json: 0.00B [00:00, ?B/s]"
      ]
     },
     "metadata": {},
     "output_type": "display_data"
    },
    {
     "data": {
      "application/vnd.jupyter.widget-view+json": {
       "model_id": "3bcf2dc216e146d3ab30b7d38e5e6b66",
       "version_major": 2,
       "version_minor": 0
      },
      "text/plain": [
       "config.json: 0.00B [00:00, ?B/s]"
      ]
     },
     "metadata": {},
     "output_type": "display_data"
    },
    {
     "data": {
      "application/vnd.jupyter.widget-view+json": {
       "model_id": "a531d8a27bae4140bf89b8d3dddb371b",
       "version_major": 2,
       "version_minor": 0
      },
      "text/plain": [
       "model.safetensors:   0%|          | 0.00/990M [00:00<?, ?B/s]"
      ]
     },
     "metadata": {},
     "output_type": "display_data"
    },
    {
     "data": {
      "application/vnd.jupyter.widget-view+json": {
       "model_id": "fa9abff097644c6fb8feaf04a9b8d9ca",
       "version_major": 2,
       "version_minor": 0
      },
      "text/plain": [
       "generation_config.json:   0%|          | 0.00/147 [00:00<?, ?B/s]"
      ]
     },
     "metadata": {},
     "output_type": "display_data"
    }
   ],
   "source": [
    "base_ckpt = \"google/flan-t5-base\"\n",
    "device = \"cuda\" if torch.cuda.is_available() else \"cpu\"\n",
    "\n",
    "tok = AutoTokenizer.from_pretrained(base_ckpt)\n",
    "model = AutoModelForSeq2SeqLM.from_pretrained(base_ckpt).to(device).eval()"
   ]
  },
  {
   "cell_type": "code",
   "execution_count": 43,
   "metadata": {
    "execution": {
     "iopub.execute_input": "2025-09-05T11:05:50.899722Z",
     "iopub.status.busy": "2025-09-05T11:05:50.899284Z",
     "iopub.status.idle": "2025-09-05T11:05:50.923514Z",
     "shell.execute_reply": "2025-09-05T11:05:50.922434Z",
     "shell.execute_reply.started": "2025-09-05T11:05:50.899686Z"
    },
    "trusted": true
   },
   "outputs": [],
   "source": [
    "def split_into_parts(text, num_parts=4):\n",
    "    # Encode without cutting, but avoid the 512-token warning\n",
    "    ids = tok.encode(text or \"\", add_special_tokens=False,\n",
    "                     truncation=True, max_length=10**6)\n",
    "    n = len(ids)\n",
    "    if n == 0:\n",
    "        return [\"\"] * num_parts\n",
    "    # roughly equal parts (ceil division)\n",
    "    part_len = (n + num_parts - 1) // num_parts\n",
    "    parts_ids = [ids[i:i+part_len] for i in range(0, n, part_len)][:num_parts]\n",
    "    return [tok.decode(p, skip_special_tokens=True) for p in parts_ids]\n",
    "\n",
    "\n",
    "def summarize(text, max_len=256):\n",
    "    \"\"\"Summarize text into at most `max_len` tokens\"\"\"\n",
    "    enc = tok(f\"Summarize: {text}\", return_tensors=\"pt\",\n",
    "              truncation=True, max_length=512).to(device)\n",
    "    out = model.generate(**enc, max_length=max_len, num_beams=4)\n",
    "    return tok.decode(out[0], skip_special_tokens=True)\n",
    "\n",
    "def summarize_long_script(script):\n",
    "    # 1) split into 4 parts\n",
    "    parts = split_into_parts(script, num_parts=4)\n",
    "\n",
    "    # 2) summarize each part (≤256 tokens)\n",
    "    part_summaries = [summarize(p, max_len=256) for p in parts]\n",
    "\n",
    "    # 3) combine them\n",
    "    combined = \" \".join(part_summaries)\n",
    "\n",
    "    # 4) final summary (≤500 tokens)\n",
    "    return summarize(combined, max_len=500)\n",
    "\n",
    "def enforce_hxh_style(title: str) -> str:\n",
    "    title = re.sub(r'^\\s*title\\s*:\\s*', '', title, flags=re.I).strip()\n",
    "    title = re.sub(r'\\s+', ' ', title).strip()\n",
    "\n",
    "    words = title.split()[:6]\n",
    "    if len(words) < 3:\n",
    "        while len(words) < 3:\n",
    "            words.append(\"Something\")\n",
    "\n",
    "    n = len(words)\n",
    "    part1 = \" \".join(words[: max(1, n//3)])\n",
    "    part2 = \" \".join(words[max(1, n//3): max(2, 2*n//3)])\n",
    "    part3 = \" \".join(words[max(2, 2*n//3):])\n",
    "    return f\"{part1.title()} x {part2.title()} x {part3.title()}\"\n",
    "\n",
    "def generate_title(script):\n",
    "    summary = summarize_long_script(script)\n",
    "\n",
    "    # improved prompt with examples\n",
    "    prompt = (\n",
    "        \"You are tasked with writing a Hunter x Hunter style episode title. \"\n",
    "        \"Hunter x Hunter titles always follow the unique format of short phrases \"\n",
    "        \"separated by ' x '. Usually there are exactly three parts (each 1–2 words), \"\n",
    "        \"like these examples:\\n\"\n",
    "        \"- Hope x And x Ambition\\n\"\n",
    "        \"- Rivals x For x Survival\\n\"\n",
    "        \"- Hisoka x Is x Sneaky\\n\"\n",
    "        \"- A x Brutal x Battlefield\\n\\n\"\n",
    "        \"Now, based on the following episode summary, create a new title in the same style.\\n\"\n",
    "        f\"Summary: {summary}\\n\"\n",
    "        \"Title:\"\n",
    "    )\n",
    "\n",
    "    enc = tok(prompt, return_tensors=\"pt\", truncation=True, max_length=512).to(device)\n",
    "    out = model.generate(**enc, max_length=16, num_beams=4)\n",
    "    raw_title = tok.decode(out[0], skip_special_tokens=True)\n",
    "\n",
    "    return enforce_hxh_style(raw_title)\n"
   ]
  },
  {
   "cell_type": "code",
   "execution_count": 48,
   "metadata": {
    "execution": {
     "iopub.execute_input": "2025-09-05T11:09:06.662933Z",
     "iopub.status.busy": "2025-09-05T11:09:06.662439Z",
     "iopub.status.idle": "2025-09-05T11:13:01.731021Z",
     "shell.execute_reply": "2025-09-05T11:13:01.730300Z",
     "shell.execute_reply.started": "2025-09-05T11:09:06.662911Z"
    },
    "trusted": true
   },
   "outputs": [
    {
     "name": "stdout",
     "output_type": "stream",
     "text": [
      " id                       title                                 pred_title\n",
      " 92          Date x With x Palm            Gon And x Killua Are x On Their\n",
      "140            Sin x And x Claw             If There'S x No Limit x On The\n",
      "118          Strong x Or x Weak    Youpi Has x Disappeared, As x Though He\n",
      " 70        Guts x And x Courage Gon'S Inside x Players Control x The Ball.\n",
      " 39        Wish x And x Promise              Learn How x To Make x A Sword\n",
      " 33         An x Empty x Threat     Gon-Kun: I'M x Pleased That x You Kept\n",
      "113      Divide x And x Conquer         Gon, x Grandpa. Gon, x Grandpa. Go\n",
      " 43      A x Shocking x Tragedy Kurapika And x The Other x Bodyguards Have\n",
      " 20 Baffling x Turn Of x Events      Gon-Kun, You x Can'T Destroy x Or Put\n",
      " 26          Then x And x After           Gon x Freecss: Gon x Freecss: Go\n"
     ]
    }
   ],
   "source": [
    "test_df[\"pred_title\"] = test_df[\"subtitle\"].apply(generate_title)\n",
    "print(test_df[[\"id\",\"title\",\"pred_title\"]].head(10).to_string(index=False))"
   ]
  },
  {
   "cell_type": "markdown",
   "metadata": {},
   "source": [
    "### this shows that the \"flan-t5-base model with the summurazation trick gives very acceptable result: let's try to fine tune it to get better performance"
   ]
  },
  {
   "cell_type": "markdown",
   "metadata": {},
   "source": [
    "### * let's first prepare the data by summarize the subtitles and prepare the input "
   ]
  },
  {
   "cell_type": "code",
   "execution_count": 14,
   "metadata": {
    "execution": {
     "iopub.execute_input": "2025-09-06T11:00:21.815502Z",
     "iopub.status.busy": "2025-09-06T11:00:21.815230Z",
     "iopub.status.idle": "2025-09-06T11:00:21.819365Z",
     "shell.execute_reply": "2025-09-06T11:00:21.818700Z",
     "shell.execute_reply.started": "2025-09-06T11:00:21.815481Z"
    },
    "trusted": true
   },
   "outputs": [],
   "source": [
    "import torch, re, math, pandas as pd\n",
    "from transformers import AutoTokenizer, AutoModelForSeq2SeqLM"
   ]
  },
  {
   "cell_type": "code",
   "execution_count": 15,
   "metadata": {
    "execution": {
     "iopub.execute_input": "2025-09-06T11:00:22.849440Z",
     "iopub.status.busy": "2025-09-06T11:00:22.849171Z",
     "iopub.status.idle": "2025-09-06T11:00:22.853488Z",
     "shell.execute_reply": "2025-09-06T11:00:22.852693Z",
     "shell.execute_reply.started": "2025-09-06T11:00:22.849420Z"
    },
    "trusted": true
   },
   "outputs": [],
   "source": [
    "import os\n",
    "os.environ[\"HF_HUB_OFFLINE\"] = \"1\"\n",
    "os.environ[\"TRANSFORMERS_OFFLINE\"] = \"1\"\n",
    "os.environ[\"HF_HUB_ENABLE_TELEMETRY\"] = \"0\""
   ]
  },
  {
   "cell_type": "code",
   "execution_count": 76,
   "metadata": {
    "execution": {
     "iopub.execute_input": "2025-09-05T12:58:54.125762Z",
     "iopub.status.busy": "2025-09-05T12:58:54.125486Z",
     "iopub.status.idle": "2025-09-05T12:58:54.129417Z",
     "shell.execute_reply": "2025-09-05T12:58:54.128780Z",
     "shell.execute_reply.started": "2025-09-05T12:58:54.125741Z"
    },
    "trusted": true
   },
   "outputs": [],
   "source": [
    "device = \"cuda\" if torch.cuda.is_available() else \"cpu\""
   ]
  },
  {
   "cell_type": "code",
   "execution_count": 80,
   "metadata": {
    "execution": {
     "iopub.execute_input": "2025-09-05T13:06:08.837235Z",
     "iopub.status.busy": "2025-09-05T13:06:08.836665Z",
     "iopub.status.idle": "2025-09-05T13:06:17.853078Z",
     "shell.execute_reply": "2025-09-05T13:06:17.852113Z",
     "shell.execute_reply.started": "2025-09-05T13:06:08.837210Z"
    },
    "trusted": true
   },
   "outputs": [
    {
     "data": {
      "application/vnd.jupyter.widget-view+json": {
       "model_id": "ab191cb1daa04583ae91296671f87280",
       "version_major": 2,
       "version_minor": 0
      },
      "text/plain": [
       "config.json: 0.00B [00:00, ?B/s]"
      ]
     },
     "metadata": {},
     "output_type": "display_data"
    },
    {
     "data": {
      "application/vnd.jupyter.widget-view+json": {
       "model_id": "25a1335eb0aa48b8ab5b56bbbdb8a652",
       "version_major": 2,
       "version_minor": 0
      },
      "text/plain": [
       "vocab.json: 0.00B [00:00, ?B/s]"
      ]
     },
     "metadata": {},
     "output_type": "display_data"
    },
    {
     "data": {
      "application/vnd.jupyter.widget-view+json": {
       "model_id": "67d715d83f3944b6a9af4d964b7765af",
       "version_major": 2,
       "version_minor": 0
      },
      "text/plain": [
       "merges.txt: 0.00B [00:00, ?B/s]"
      ]
     },
     "metadata": {},
     "output_type": "display_data"
    },
    {
     "data": {
      "application/vnd.jupyter.widget-view+json": {
       "model_id": "e96df9c12bd64590a444344460940d73",
       "version_major": 2,
       "version_minor": 0
      },
      "text/plain": [
       "tokenizer.json: 0.00B [00:00, ?B/s]"
      ]
     },
     "metadata": {},
     "output_type": "display_data"
    },
    {
     "data": {
      "application/vnd.jupyter.widget-view+json": {
       "model_id": "1b05a15138a147d6bc8b8d1feb9b048c",
       "version_major": 2,
       "version_minor": 0
      },
      "text/plain": [
       "model.safetensors:   0%|          | 0.00/1.63G [00:00<?, ?B/s]"
      ]
     },
     "metadata": {},
     "output_type": "display_data"
    },
    {
     "data": {
      "application/vnd.jupyter.widget-view+json": {
       "model_id": "b5f92205d99547ec85b0233fcf816104",
       "version_major": 2,
       "version_minor": 0
      },
      "text/plain": [
       "generation_config.json:   0%|          | 0.00/363 [00:00<?, ?B/s]"
      ]
     },
     "metadata": {},
     "output_type": "display_data"
    },
    {
     "name": "stdout",
     "output_type": "stream",
     "text": [
      "Using summarizer: bart-large-cnn (≈1024 ctx)\n"
     ]
    }
   ],
   "source": [
    "# We choose \"facebook/bart-large-cnn\" because:\n",
    "# - It is trained specifically for summarization tasks.\n",
    "# - It handles longer contexts (≈1024 tokens) compared to flan-t5-base (512).\n",
    "# - It produces fluent, high-quality narrative summaries.\n",
    "# - It is faster and lighter than long-T5 (4096 ctx), so good balance of quality and efficiency.\n",
    "# \n",
    "# Note: subtitles are ~8000 tokens → we will still chunk into smaller blocks (e.g. 500 tokens each),\n",
    "#       summarize them individually, and then fuse the partial summaries into one short narrative.\n",
    "\n",
    "sum_tok = AutoTokenizer.from_pretrained(\"facebook/bart-large-cnn\")\n",
    "sum_model = AutoModelForSeq2SeqLM.from_pretrained(\"facebook/bart-large-cnn\").to(device).eval()\n",
    "\n",
    "SUM_MAX = 1024   # maximum context window size of bart-large-cnn\n",
    "print(\"Using summarizer: bart-large-cnn (≈1024 ctx)\")"
   ]
  },
  {
   "cell_type": "code",
   "execution_count": 92,
   "metadata": {
    "execution": {
     "iopub.execute_input": "2025-09-05T13:35:09.331073Z",
     "iopub.status.busy": "2025-09-05T13:35:09.330550Z",
     "iopub.status.idle": "2025-09-05T13:35:09.342503Z",
     "shell.execute_reply": "2025-09-05T13:35:09.341809Z",
     "shell.execute_reply.started": "2025-09-05T13:35:09.331031Z"
    },
    "trusted": true
   },
   "outputs": [],
   "source": [
    "@torch.no_grad() # ithout gradiant tracking , \n",
    "def _summarize_once(text: str, max_src: int, max_new: int) -> str:\n",
    "    \"\"\"\n",
    "    Summarize subtitles into a narrative (3–5 sentences).\n",
    "    Uses clear input markers so the model doesn't echo the instruction.\n",
    "    \"\"\"\n",
    "    instruction = (\n",
    "        \"Instruction: Convert the subtitles into a concise narrative summary.\\n\"\n",
    "        \"- Write 3–5 sentences (80–120 words).\\n\"\n",
    "        \"- Focus on actions, goals, conflicts, turning points, and outcomes.\\n\"\n",
    "        \"- Merge dialogue into narration, no quotes or bullet points.\\n\"\n",
    "        \"- Keep character names, no invented facts.\\n\\n\"\n",
    "    )\n",
    "    prompt = instruction + \"Subtitles:\\n\" + (text or \"\") + \"\\n\\nNarrative:\"\n",
    "\n",
    "    # Tokenize + truncate from the LEFT so we keep the end of subtitles\n",
    "    enc = sum_tok(prompt, return_tensors=\"pt\",\n",
    "                  truncation=True, max_length=max_src,\n",
    "                  padding=False).to(device)\n",
    "\n",
    "    out = sum_model.generate(**enc,\n",
    "                             max_new_tokens=max_new,\n",
    "                             num_beams=4,\n",
    "                             no_repeat_ngram_size=3)\n",
    "\n",
    "    return sum_tok.decode(out[0], skip_special_tokens=True).strip()\n",
    "\n",
    "def _chunk_by_tokens(text: str, chunk_size: int = 500):\n",
    "    \"\"\"\n",
    "    Split text into ~chunk_size token blocks.\n",
    "    \"\"\"\n",
    "    ids = sum_tok.encode(text or \"\", add_special_tokens=False)\n",
    "    return [\n",
    "        sum_tok.decode(ids[i:i+chunk_size], skip_special_tokens=True)\n",
    "        for i in range(0, len(ids), chunk_size)\n",
    "    ]\n",
    "\n",
    "def summarize_dialogue_to_narrative(text: str) -> str:\n",
    "    \"\"\"\n",
    "    If short → summarize directly.\n",
    "    If long (≈8000 tokens) → split → partial summaries → fused summary.\n",
    "    \"\"\"\n",
    "    ids = sum_tok.encode(text or \"\", add_special_tokens=False)\n",
    "    if len(ids) <= SUM_MAX - 50:  # safe margin\n",
    "        return _summarize_once(text, max_src=SUM_MAX-20, max_new=160)\n",
    "\n",
    "    # Step 1: chunk into small blocks (≈500 tokens)\n",
    "    chunks = _chunk_by_tokens(text, chunk_size=min(500, SUM_MAX-50))\n",
    "\n",
    "    # Step 2: summarize each block\n",
    "    partials = [_summarize_once(c, max_src=SUM_MAX-20, max_new=120) for c in chunks]\n",
    "\n",
    "    # Step 3: fuse into single summary\n",
    "    fused = \" \".join(partials)\n",
    "    return _summarize_once(fused, max_src=SUM_MAX-20, max_new=200)\n",
    "\n",
    "# ---------- Title prompt ----------\n",
    "def build_title_prompt(summary: str) -> str:\n",
    "    return (\n",
    "        \"You are tasked with writing a Hunter x Hunter style episode title. \"\n",
    "        \"Use short phrases separated by ' x '. Exactly three parts (1–2 words each).\\n\"\n",
    "        \"Examples: Hope x And x Ambition ; Rivals x For x Survival ; Hisoka x Is x Sneaky.\\n\\n\"\n",
    "        f\"Summary: {summary}\\nTitle:\"\n",
    "    )\n",
    "\n",
    "def enforce_hxh_style(title: str) -> str:\n",
    "    t = re.sub(r'^\\s*title\\s*:\\s*', '', str(title), flags=re.I).strip()\n",
    "    t = re.sub(r'\\s+', ' ', t)\n",
    "    words = t.split()[:6]\n",
    "    while len(words) < 3:\n",
    "        words.append(\"Something\")\n",
    "    n = len(words)\n",
    "    p1 = \" \".join(words[:max(1, n//3)])\n",
    "    p2 = \" \".join(words[max(1, n//3): max(2, 2*n//3)])\n",
    "    p3 = \" \".join(words[max(2, 2*n//3):])\n",
    "    return f\"{p1.title()} x {p2.title()} x {p3.title()}\"\n"
   ]
  },
  {
   "cell_type": "code",
   "execution_count": 93,
   "metadata": {
    "execution": {
     "iopub.execute_input": "2025-09-05T13:35:11.361716Z",
     "iopub.status.busy": "2025-09-05T13:35:11.361114Z",
     "iopub.status.idle": "2025-09-05T13:35:11.366528Z",
     "shell.execute_reply": "2025-09-05T13:35:11.365710Z",
     "shell.execute_reply.started": "2025-09-05T13:35:11.361693Z"
    },
    "trusted": true
   },
   "outputs": [],
   "source": [
    "train_df = train_df.copy()\n",
    "test_df  = test_df.copy()"
   ]
  },
  {
   "cell_type": "code",
   "execution_count": 94,
   "metadata": {
    "execution": {
     "iopub.execute_input": "2025-09-05T13:35:12.077909Z",
     "iopub.status.busy": "2025-09-05T13:35:12.077436Z",
     "iopub.status.idle": "2025-09-05T13:50:26.414958Z",
     "shell.execute_reply": "2025-09-05T13:50:26.414101Z",
     "shell.execute_reply.started": "2025-09-05T13:35:12.077886Z"
    },
    "trusted": true
   },
   "outputs": [],
   "source": [
    "train_df[\"subtitle\"] = train_df[\"subtitle\"].fillna(\"\")\n",
    "test_df[\"subtitle\"]  = test_df[\"subtitle\"].fillna(\"\")\n",
    "\n",
    "train_df[\"summary\"]  = train_df[\"subtitle\"].apply(summarize_dialogue_to_narrative)\n",
    "test_df[\"summary\"]   = test_df[\"subtitle\"].apply(summarize_dialogue_to_narrative)\n",
    "\n",
    "train_df[\"input\"]  = train_df[\"summary\"].apply(build_title_prompt)\n",
    "test_df[\"input\"]   = test_df[\"summary\"].apply(build_title_prompt)\n",
    "\n",
    "train_df[\"target\"] = train_df[\"title\"].astype(str)\n",
    "test_df[\"target\"]  = test_df[\"title\"].astype(str)"
   ]
  },
  {
   "cell_type": "code",
   "execution_count": 95,
   "metadata": {
    "execution": {
     "iopub.execute_input": "2025-09-05T13:50:26.416506Z",
     "iopub.status.busy": "2025-09-05T13:50:26.416292Z",
     "iopub.status.idle": "2025-09-05T13:50:26.425723Z",
     "shell.execute_reply": "2025-09-05T13:50:26.424895Z",
     "shell.execute_reply.started": "2025-09-05T13:50:26.416490Z"
    },
    "trusted": true
   },
   "outputs": [
    {
     "data": {
      "text/html": [
       "<div>\n",
       "<style scoped>\n",
       "    .dataframe tbody tr th:only-of-type {\n",
       "        vertical-align: middle;\n",
       "    }\n",
       "\n",
       "    .dataframe tbody tr th {\n",
       "        vertical-align: top;\n",
       "    }\n",
       "\n",
       "    .dataframe thead th {\n",
       "        text-align: right;\n",
       "    }\n",
       "</style>\n",
       "<table border=\"1\" class=\"dataframe\">\n",
       "  <thead>\n",
       "    <tr style=\"text-align: right;\">\n",
       "      <th></th>\n",
       "      <th>id</th>\n",
       "      <th>title</th>\n",
       "      <th>summary</th>\n",
       "      <th>input</th>\n",
       "    </tr>\n",
       "  </thead>\n",
       "  <tbody>\n",
       "    <tr>\n",
       "      <th>0</th>\n",
       "      <td>142</td>\n",
       "      <td>Defeat x And x Reunion</td>\n",
       "      <td>Pariston asks Leorio-san: \"Can you please give...</td>\n",
       "      <td>You are tasked with writing a Hunter x Hunter ...</td>\n",
       "    </tr>\n",
       "    <tr>\n",
       "      <th>1</th>\n",
       "      <td>6</td>\n",
       "      <td>A x Surprising x Challenge</td>\n",
       "      <td>Gourmet Hunters Menchi and Buhara are examiner...</td>\n",
       "      <td>You are tasked with writing a Hunter x Hunter ...</td>\n",
       "    </tr>\n",
       "  </tbody>\n",
       "</table>\n",
       "</div>"
      ],
      "text/plain": [
       "    id                       title  \\\n",
       "0  142      Defeat x And x Reunion   \n",
       "1    6  A x Surprising x Challenge   \n",
       "\n",
       "                                             summary  \\\n",
       "0  Pariston asks Leorio-san: \"Can you please give...   \n",
       "1  Gourmet Hunters Menchi and Buhara are examiner...   \n",
       "\n",
       "                                               input  \n",
       "0  You are tasked with writing a Hunter x Hunter ...  \n",
       "1  You are tasked with writing a Hunter x Hunter ...  "
      ]
     },
     "execution_count": 95,
     "metadata": {},
     "output_type": "execute_result"
    }
   ],
   "source": [
    "train_df[[\"id\",\"title\",\"summary\",\"input\"]].head(2)\n"
   ]
  },
  {
   "cell_type": "code",
   "execution_count": 96,
   "metadata": {
    "execution": {
     "iopub.execute_input": "2025-09-05T13:50:26.426660Z",
     "iopub.status.busy": "2025-09-05T13:50:26.426411Z",
     "iopub.status.idle": "2025-09-05T13:50:26.443147Z",
     "shell.execute_reply": "2025-09-05T13:50:26.442429Z",
     "shell.execute_reply.started": "2025-09-05T13:50:26.426633Z"
    },
    "trusted": true
   },
   "outputs": [
    {
     "data": {
      "text/plain": [
       "'Pariston asks Leorio-san: \"Can you please give us your answer again? What will you do if you become chairman?\" Leorio: \"I was the only one in favor of revising the Ten Commandments\" Pariston: \"It hurts to admit this, but I\\'ve been defeated. It was when Ging-san said he would run for chairman\"'"
      ]
     },
     "execution_count": 96,
     "metadata": {},
     "output_type": "execute_result"
    }
   ],
   "source": [
    "train_df.summary[0]"
   ]
  },
  {
   "cell_type": "code",
   "execution_count": 97,
   "metadata": {
    "execution": {
     "iopub.execute_input": "2025-09-05T13:50:26.444950Z",
     "iopub.status.busy": "2025-09-05T13:50:26.444524Z",
     "iopub.status.idle": "2025-09-05T13:50:26.457027Z",
     "shell.execute_reply": "2025-09-05T13:50:26.456376Z",
     "shell.execute_reply.started": "2025-09-05T13:50:26.444933Z"
    },
    "trusted": true
   },
   "outputs": [
    {
     "data": {
      "text/plain": [
       "'Gon and Killua have vowed to save Kite. They take a piece of marked wood and split it, giving each half to a different person. Each of the two assassins holds one matching token. Knuckle Bine challenges Knuckle and Shoot to a duel. The deadline is one month.'"
      ]
     },
     "execution_count": 97,
     "metadata": {},
     "output_type": "execute_result"
    }
   ],
   "source": [
    "train_df.summary[4]"
   ]
  },
  {
   "cell_type": "code",
   "execution_count": 113,
   "metadata": {
    "execution": {
     "iopub.execute_input": "2025-09-05T14:12:28.722701Z",
     "iopub.status.busy": "2025-09-05T14:12:28.722153Z",
     "iopub.status.idle": "2025-09-05T14:12:28.731427Z",
     "shell.execute_reply": "2025-09-05T14:12:28.730602Z",
     "shell.execute_reply.started": "2025-09-05T14:12:28.722680Z"
    },
    "trusted": true
   },
   "outputs": [
    {
     "name": "stdout",
     "output_type": "stream",
     "text": [
      "Good summaries: 72\n",
      "Bad summaries (instruction echoes): 63\n",
      "Percentage bad: 46.7%\n"
     ]
    }
   ],
   "source": [
    "import re\n",
    "\n",
    "def is_bad_summary(text: str) -> bool:\n",
    "    \"\"\"\n",
    "    Detect summaries that look like instructions instead of real summaries.\n",
    "    Returns True if the text is 'bullshit', False if it's a proper summary.\n",
    "    \"\"\"\n",
    "    if not text or len(text.strip()) < 20:\n",
    "        return True\n",
    "    \n",
    "    # Lowercase for easier matching\n",
    "    t = text.lower()\n",
    "    \n",
    "    # Common instruction words that shouldn't appear in real summaries\n",
    "    bad_patterns = [\n",
    "        r\"^instruction\", r\"^writer\", r\"^write\", r\"^convert\",\n",
    "        r\"^summarize\", r\"^merge\", r\"^focus on\",\n",
    "        r\"no quotes\", r\"bullet points\", r\"for more information\",\n",
    "    ]\n",
    "    \n",
    "    for pat in bad_patterns:\n",
    "        if re.search(pat, t):\n",
    "            return True\n",
    "    \n",
    "    return False\n",
    "\n",
    "# Apply to dataframe\n",
    "train_df[\"is_bad\"] = train_df[\"summary\"].apply(is_bad_summary)\n",
    "\n",
    "# Count stats\n",
    "n_bad = train_df[\"is_bad\"].sum()\n",
    "n_good = len(train_df) - n_bad\n",
    "\n",
    "print(f\"Good summaries: {n_good}\")\n",
    "print(f\"Bad summaries (instruction echoes): {n_bad}\")\n",
    "print(f\"Percentage bad: {n_bad/len(train_df)*100:.1f}%\")\n"
   ]
  },
  {
   "cell_type": "code",
   "execution_count": 114,
   "metadata": {
    "execution": {
     "iopub.execute_input": "2025-09-05T14:13:11.993450Z",
     "iopub.status.busy": "2025-09-05T14:13:11.993161Z",
     "iopub.status.idle": "2025-09-05T14:13:12.006232Z",
     "shell.execute_reply": "2025-09-05T14:13:12.005555Z",
     "shell.execute_reply.started": "2025-09-05T14:13:11.993430Z"
    },
    "trusted": true
   },
   "outputs": [
    {
     "name": "stdout",
     "output_type": "stream",
     "text": [
      " id                   target                                                                                                                                                                                                                                                                                                                                              summary\n",
      "  4    Hope x And x Ambition Instruction: Convert the subtitles into a concise narrative summary. Write 3–5 sentences (80–120 words) Focus on actions, goals, conflicts, turning points, and outcomes. Merge dialogue into narration, no quotes or bullet points. Keep character names, no invented facts. Use the Hunter Vocabulary Killua to help students understand the game.\n",
      "127     Magic x Of x Despair                                                                                       Writer: Write 3–5 sentences (80–120 words) Merge dialogue into narration, no quotes or bullet points. Keep character names, no invented facts. Subtitles: Whether we win or lose, hell lies ahead of us. If I hadn't gone with him... Kite wouldn't have died.\n",
      " 32     A x Surprising x Win                                                                       Writer: Write 3–5 sentences (80–120 words) Narrative: Merge dialogue into narration, no quotes or bullet points. Keep character names, no invented facts. Subtitles: Convert the subtitles into a concise narrative summary. For more information, see the Nen Stitches guide.\n",
      "106    Return x And x Retire                                           Use this guide to help you with your writing. Write 3–5 sentences (80–120 words) Focus on actions, goals, conflicts, turning points, and outcomes. Merge dialogue into narration, no quotes or bullet points. Keep character names, no invented facts. Convert subtitles into a concise narrative summary.\n",
      "143 Chairman x And x Release                                                                                            Writer: Write 3–5 sentences (80–120 words) Narrative: Merge dialogue into narration, no quotes or bullet points. Keep character names, no invented facts. Subtitles: \"Ging, I'm sorry! It was my fault... Because of me, Kite turned into a little girl!\"\n"
     ]
    }
   ],
   "source": [
    "# Show 5 random bad summaries\n",
    "bad_examples = train_df[train_df[\"is_bad\"]].sample(5, random_state=42)\n",
    "print(bad_examples[[\"id\", \"target\", \"summary\"]].to_string(index=False))\n"
   ]
  },
  {
   "cell_type": "code",
   "execution_count": 115,
   "metadata": {
    "execution": {
     "iopub.execute_input": "2025-09-05T14:13:29.056193Z",
     "iopub.status.busy": "2025-09-05T14:13:29.055686Z",
     "iopub.status.idle": "2025-09-05T14:13:29.063252Z",
     "shell.execute_reply": "2025-09-05T14:13:29.062575Z",
     "shell.execute_reply.started": "2025-09-05T14:13:29.056170Z"
    },
    "trusted": true
   },
   "outputs": [
    {
     "name": "stdout",
     "output_type": "stream",
     "text": [
      " id                   target                                                                                                                                                                                                                                                                                                                                                    summary\n",
      "134 Debate X Among X Zodiacs                                                                                            The Zodiacs meet to elect a new chairman for East Gorteau. The Rat is missing, and the Vice Chairman is too busy to lead the meeting. The dragon Botobai can't accept that the chairman didn't call us to help. The dog Cheadle wants to hunt the Ants himself.\n",
      " 62      Reality x And x Raw                                                                             A map that automatically fills in locations as the owner visits and gathers information about them. Greed Island is a trap that sends players who use Hatsu here, to this island. Shizuku's vacuum works in this world, but it won't work on any items with special abilities.\n",
      " 66  Strategy x And x Scheme      Killua returns to the Hunter Exam after a year's absence. Nen placed on a spider can be removed by placing Nen on others. King Great White Beetle is a legendary insect that releases pheromones which attract other insects to start a massive colony. If player kisses a pill before feeding it to a target, target will become beholden to player.\n",
      "142   Defeat x And x Reunion                                                      Pariston asks Leorio-san: \"Can you please give us your answer again? What will you do if you become chairman?\" Leorio: \"I was the only one in favor of revising the Ten Commandments\" Pariston: \"It hurts to admit this, but I've been defeated. It was when Ging-san said he would run for chairman\"\n",
      " 55      Allies x And x Lies The Southern Piece is the first of a two-part series. The second part of the series, The Southern Piece: The Final Chapter, will be released on September 14. The final chapter will be the final chapter of the Southern Piece series, which will be published on September 25. For the second installment, the series will be available on September 26.\n"
     ]
    }
   ],
   "source": [
    "# Show 5 random good summaries\n",
    "good_examples = train_df[~train_df[\"is_bad\"]].sample(5, random_state=42)\n",
    "print(good_examples[[\"id\", \"target\", \"summary\"]].to_string(index=False))\n"
   ]
  },
  {
   "cell_type": "code",
   "execution_count": 116,
   "metadata": {
    "execution": {
     "iopub.execute_input": "2025-09-05T14:16:05.638007Z",
     "iopub.status.busy": "2025-09-05T14:16:05.637331Z",
     "iopub.status.idle": "2025-09-05T14:16:05.645405Z",
     "shell.execute_reply": "2025-09-05T14:16:05.644537Z",
     "shell.execute_reply.started": "2025-09-05T14:16:05.637973Z"
    },
    "trusted": true
   },
   "outputs": [
    {
     "name": "stdout",
     "output_type": "stream",
     "text": [
      "Good summaries: 6\n",
      "Bad summaries (instruction echoes): 4\n",
      "Percentage bad: 40.0%\n"
     ]
    }
   ],
   "source": [
    "test_df[\"is_bad\"] = test_df[\"summary\"].apply(is_bad_summary)\n",
    "\n",
    "# Count stats\n",
    "n_bad = test_df[\"is_bad\"].sum()\n",
    "n_good = len(test_df) - n_bad\n",
    "\n",
    "print(f\"Good summaries: {n_good}\")\n",
    "print(f\"Bad summaries (instruction echoes): {n_bad}\")\n",
    "print(f\"Percentage bad: {n_bad/len(test_df)*100:.1f}%\")\n"
   ]
  },
  {
   "cell_type": "markdown",
   "metadata": {},
   "source": [
    "* ### let's try fine tune the flan-T5-base model on only the good summary , to test the pipeline then if it works good and gives good results we can return and amiliorate the summarization pipeline"
   ]
  },
  {
   "cell_type": "markdown",
   "metadata": {},
   "source": [
    "***"
   ]
  },
  {
   "cell_type": "markdown",
   "metadata": {},
   "source": [
    "# <span style = 'color  :red'> after examining the results of the finetuening of flan-t5-base using this trick of summarization, we got bad results and the model gives random titles, so i thought that we can try the following idea : </span>"
   ]
  },
  {
   "cell_type": "markdown",
   "metadata": {},
   "source": [
    "# * slide the text of 8000 tokens with a window of 512 tokens and a stride of 400 tokens and for every chunk we let the model genereate a title that we add to the prompt with the second chunk and so and so forth\n",
    "# * we can also make it easier to the model by removeing the 'x's in the titles and focus only on the title meaning "
   ]
  },
  {
   "cell_type": "code",
   "execution_count": 18,
   "metadata": {
    "execution": {
     "iopub.execute_input": "2025-09-06T11:01:07.265205Z",
     "iopub.status.busy": "2025-09-06T11:01:07.264970Z",
     "iopub.status.idle": "2025-09-06T11:01:07.273701Z",
     "shell.execute_reply": "2025-09-06T11:01:07.272864Z",
     "shell.execute_reply.started": "2025-09-06T11:01:07.265188Z"
    },
    "trusted": true
   },
   "outputs": [
    {
     "data": {
      "text/html": [
       "<div>\n",
       "<style scoped>\n",
       "    .dataframe tbody tr th:only-of-type {\n",
       "        vertical-align: middle;\n",
       "    }\n",
       "\n",
       "    .dataframe tbody tr th {\n",
       "        vertical-align: top;\n",
       "    }\n",
       "\n",
       "    .dataframe thead th {\n",
       "        text-align: right;\n",
       "    }\n",
       "</style>\n",
       "<table border=\"1\" class=\"dataframe\">\n",
       "  <thead>\n",
       "    <tr style=\"text-align: right;\">\n",
       "      <th></th>\n",
       "      <th>id</th>\n",
       "      <th>title</th>\n",
       "      <th>subtitle</th>\n",
       "    </tr>\n",
       "  </thead>\n",
       "  <tbody>\n",
       "    <tr>\n",
       "      <th>0</th>\n",
       "      <td>1</td>\n",
       "      <td>Departure x And x Friends</td>\n",
       "      <td>Whale Island Gon's still trying to catch the L...</td>\n",
       "    </tr>\n",
       "    <tr>\n",
       "      <th>1</th>\n",
       "      <td>2</td>\n",
       "      <td>Test x Of x Tests</td>\n",
       "      <td>Dolle Harbor After winning the captain's favor...</td>\n",
       "    </tr>\n",
       "    <tr>\n",
       "      <th>2</th>\n",
       "      <td>3</td>\n",
       "      <td>Rivals x For x Survival</td>\n",
       "      <td>Zaban City Gon and his new friends have arrive...</td>\n",
       "    </tr>\n",
       "    <tr>\n",
       "      <th>3</th>\n",
       "      <td>4</td>\n",
       "      <td>Hope x And x Ambition</td>\n",
       "      <td>Two hours have passed since the start of the e...</td>\n",
       "    </tr>\n",
       "    <tr>\n",
       "      <th>4</th>\n",
       "      <td>5</td>\n",
       "      <td>Hisoka x Is x Sneaky</td>\n",
       "      <td>The 368 applicants who made it through the lon...</td>\n",
       "    </tr>\n",
       "  </tbody>\n",
       "</table>\n",
       "</div>"
      ],
      "text/plain": [
       "   id                      title  \\\n",
       "0   1  Departure x And x Friends   \n",
       "1   2          Test x Of x Tests   \n",
       "2   3    Rivals x For x Survival   \n",
       "3   4      Hope x And x Ambition   \n",
       "4   5       Hisoka x Is x Sneaky   \n",
       "\n",
       "                                            subtitle  \n",
       "0  Whale Island Gon's still trying to catch the L...  \n",
       "1  Dolle Harbor After winning the captain's favor...  \n",
       "2  Zaban City Gon and his new friends have arrive...  \n",
       "3  Two hours have passed since the start of the e...  \n",
       "4  The 368 applicants who made it through the lon...  "
      ]
     },
     "execution_count": 18,
     "metadata": {},
     "output_type": "execute_result"
    }
   ],
   "source": [
    "df.head()"
   ]
  },
  {
   "cell_type": "code",
   "execution_count": 19,
   "metadata": {
    "execution": {
     "iopub.execute_input": "2025-09-06T11:01:08.459601Z",
     "iopub.status.busy": "2025-09-06T11:01:08.459057Z",
     "iopub.status.idle": "2025-09-06T11:01:08.464113Z",
     "shell.execute_reply": "2025-09-06T11:01:08.463450Z",
     "shell.execute_reply.started": "2025-09-06T11:01:08.459576Z"
    },
    "trusted": true
   },
   "outputs": [
    {
     "data": {
      "text/plain": [
       "(145, 3)"
      ]
     },
     "execution_count": 19,
     "metadata": {},
     "output_type": "execute_result"
    }
   ],
   "source": [
    "df.shape"
   ]
  },
  {
   "cell_type": "code",
   "execution_count": 20,
   "metadata": {
    "execution": {
     "iopub.execute_input": "2025-09-06T11:01:08.931608Z",
     "iopub.status.busy": "2025-09-06T11:01:08.931349Z",
     "iopub.status.idle": "2025-09-06T11:01:08.945723Z",
     "shell.execute_reply": "2025-09-06T11:01:08.944977Z",
     "shell.execute_reply.started": "2025-09-06T11:01:08.931590Z"
    },
    "trusted": true
   },
   "outputs": [
    {
     "name": "stdout",
     "output_type": "stream",
     "text": [
      "                       title                 target\n",
      "0  Departure x And x Friends  Departure And Friends\n",
      "1          Test x Of x Tests          Test Of Tests\n",
      "2    Rivals x For x Survival    Rivals For Survival\n",
      "3      Hope x And x Ambition      Hope And Ambition\n",
      "4       Hisoka x Is x Sneaky       Hisoka Is Sneaky\n"
     ]
    }
   ],
   "source": [
    "# Clean the titles: replace \" x \" with space and strip extra spaces\n",
    "df[\"target\"] = df[\"title\"].str.replace(r\"\\s*x\\s*\", \" \", regex=True).str.strip()\n",
    "\n",
    "# Preview\n",
    "print(df[[\"title\", \"target\"]].head())\n"
   ]
  },
  {
   "cell_type": "code",
   "execution_count": 21,
   "metadata": {
    "execution": {
     "iopub.execute_input": "2025-09-06T11:01:09.448692Z",
     "iopub.status.busy": "2025-09-06T11:01:09.448423Z",
     "iopub.status.idle": "2025-09-06T11:01:09.456626Z",
     "shell.execute_reply": "2025-09-06T11:01:09.456084Z",
     "shell.execute_reply.started": "2025-09-06T11:01:09.448671Z"
    },
    "trusted": true
   },
   "outputs": [
    {
     "data": {
      "text/html": [
       "<div>\n",
       "<style scoped>\n",
       "    .dataframe tbody tr th:only-of-type {\n",
       "        vertical-align: middle;\n",
       "    }\n",
       "\n",
       "    .dataframe tbody tr th {\n",
       "        vertical-align: top;\n",
       "    }\n",
       "\n",
       "    .dataframe thead th {\n",
       "        text-align: right;\n",
       "    }\n",
       "</style>\n",
       "<table border=\"1\" class=\"dataframe\">\n",
       "  <thead>\n",
       "    <tr style=\"text-align: right;\">\n",
       "      <th></th>\n",
       "      <th>id</th>\n",
       "      <th>title</th>\n",
       "      <th>subtitle</th>\n",
       "      <th>target</th>\n",
       "    </tr>\n",
       "  </thead>\n",
       "  <tbody>\n",
       "    <tr>\n",
       "      <th>0</th>\n",
       "      <td>1</td>\n",
       "      <td>Departure x And x Friends</td>\n",
       "      <td>Whale Island Gon's still trying to catch the L...</td>\n",
       "      <td>Departure And Friends</td>\n",
       "    </tr>\n",
       "    <tr>\n",
       "      <th>1</th>\n",
       "      <td>2</td>\n",
       "      <td>Test x Of x Tests</td>\n",
       "      <td>Dolle Harbor After winning the captain's favor...</td>\n",
       "      <td>Test Of Tests</td>\n",
       "    </tr>\n",
       "    <tr>\n",
       "      <th>2</th>\n",
       "      <td>3</td>\n",
       "      <td>Rivals x For x Survival</td>\n",
       "      <td>Zaban City Gon and his new friends have arrive...</td>\n",
       "      <td>Rivals For Survival</td>\n",
       "    </tr>\n",
       "    <tr>\n",
       "      <th>3</th>\n",
       "      <td>4</td>\n",
       "      <td>Hope x And x Ambition</td>\n",
       "      <td>Two hours have passed since the start of the e...</td>\n",
       "      <td>Hope And Ambition</td>\n",
       "    </tr>\n",
       "    <tr>\n",
       "      <th>4</th>\n",
       "      <td>5</td>\n",
       "      <td>Hisoka x Is x Sneaky</td>\n",
       "      <td>The 368 applicants who made it through the lon...</td>\n",
       "      <td>Hisoka Is Sneaky</td>\n",
       "    </tr>\n",
       "  </tbody>\n",
       "</table>\n",
       "</div>"
      ],
      "text/plain": [
       "   id                      title  \\\n",
       "0   1  Departure x And x Friends   \n",
       "1   2          Test x Of x Tests   \n",
       "2   3    Rivals x For x Survival   \n",
       "3   4      Hope x And x Ambition   \n",
       "4   5       Hisoka x Is x Sneaky   \n",
       "\n",
       "                                            subtitle                 target  \n",
       "0  Whale Island Gon's still trying to catch the L...  Departure And Friends  \n",
       "1  Dolle Harbor After winning the captain's favor...          Test Of Tests  \n",
       "2  Zaban City Gon and his new friends have arrive...    Rivals For Survival  \n",
       "3  Two hours have passed since the start of the e...      Hope And Ambition  \n",
       "4  The 368 applicants who made it through the lon...       Hisoka Is Sneaky  "
      ]
     },
     "execution_count": 21,
     "metadata": {},
     "output_type": "execute_result"
    }
   ],
   "source": [
    "df.head()"
   ]
  },
  {
   "cell_type": "code",
   "execution_count": 22,
   "metadata": {
    "execution": {
     "iopub.execute_input": "2025-09-06T11:01:10.375543Z",
     "iopub.status.busy": "2025-09-06T11:01:10.375273Z",
     "iopub.status.idle": "2025-09-06T11:01:10.379192Z",
     "shell.execute_reply": "2025-09-06T11:01:10.378508Z",
     "shell.execute_reply.started": "2025-09-06T11:01:10.375521Z"
    },
    "trusted": true
   },
   "outputs": [],
   "source": [
    "from datasets import Dataset, DatasetDict"
   ]
  },
  {
   "cell_type": "code",
   "execution_count": 23,
   "metadata": {
    "execution": {
     "iopub.execute_input": "2025-09-06T11:01:10.788109Z",
     "iopub.status.busy": "2025-09-06T11:01:10.787787Z",
     "iopub.status.idle": "2025-09-06T11:01:10.794333Z",
     "shell.execute_reply": "2025-09-06T11:01:10.793691Z",
     "shell.execute_reply.started": "2025-09-06T11:01:10.788086Z"
    },
    "trusted": true
   },
   "outputs": [],
   "source": [
    "SEED = 42\n",
    "np.random.seed(SEED)\n",
    "\n",
    "df = df[['subtitle','target']].dropna().reset_index(drop=True)"
   ]
  },
  {
   "cell_type": "code",
   "execution_count": 24,
   "metadata": {
    "execution": {
     "iopub.execute_input": "2025-09-06T11:01:11.249430Z",
     "iopub.status.busy": "2025-09-06T11:01:11.248932Z",
     "iopub.status.idle": "2025-09-06T11:01:11.256602Z",
     "shell.execute_reply": "2025-09-06T11:01:11.256052Z",
     "shell.execute_reply.started": "2025-09-06T11:01:11.249406Z"
    },
    "trusted": true
   },
   "outputs": [
    {
     "data": {
      "text/html": [
       "<div>\n",
       "<style scoped>\n",
       "    .dataframe tbody tr th:only-of-type {\n",
       "        vertical-align: middle;\n",
       "    }\n",
       "\n",
       "    .dataframe tbody tr th {\n",
       "        vertical-align: top;\n",
       "    }\n",
       "\n",
       "    .dataframe thead th {\n",
       "        text-align: right;\n",
       "    }\n",
       "</style>\n",
       "<table border=\"1\" class=\"dataframe\">\n",
       "  <thead>\n",
       "    <tr style=\"text-align: right;\">\n",
       "      <th></th>\n",
       "      <th>subtitle</th>\n",
       "      <th>target</th>\n",
       "    </tr>\n",
       "  </thead>\n",
       "  <tbody>\n",
       "    <tr>\n",
       "      <th>0</th>\n",
       "      <td>Whale Island Gon's still trying to catch the L...</td>\n",
       "      <td>Departure And Friends</td>\n",
       "    </tr>\n",
       "    <tr>\n",
       "      <th>1</th>\n",
       "      <td>Dolle Harbor After winning the captain's favor...</td>\n",
       "      <td>Test Of Tests</td>\n",
       "    </tr>\n",
       "    <tr>\n",
       "      <th>2</th>\n",
       "      <td>Zaban City Gon and his new friends have arrive...</td>\n",
       "      <td>Rivals For Survival</td>\n",
       "    </tr>\n",
       "    <tr>\n",
       "      <th>3</th>\n",
       "      <td>Two hours have passed since the start of the e...</td>\n",
       "      <td>Hope And Ambition</td>\n",
       "    </tr>\n",
       "    <tr>\n",
       "      <th>4</th>\n",
       "      <td>The 368 applicants who made it through the lon...</td>\n",
       "      <td>Hisoka Is Sneaky</td>\n",
       "    </tr>\n",
       "  </tbody>\n",
       "</table>\n",
       "</div>"
      ],
      "text/plain": [
       "                                            subtitle                 target\n",
       "0  Whale Island Gon's still trying to catch the L...  Departure And Friends\n",
       "1  Dolle Harbor After winning the captain's favor...          Test Of Tests\n",
       "2  Zaban City Gon and his new friends have arrive...    Rivals For Survival\n",
       "3  Two hours have passed since the start of the e...      Hope And Ambition\n",
       "4  The 368 applicants who made it through the lon...       Hisoka Is Sneaky"
      ]
     },
     "execution_count": 24,
     "metadata": {},
     "output_type": "execute_result"
    }
   ],
   "source": [
    "df.head()"
   ]
  },
  {
   "cell_type": "code",
   "execution_count": 25,
   "metadata": {
    "execution": {
     "iopub.execute_input": "2025-09-06T11:01:15.447986Z",
     "iopub.status.busy": "2025-09-06T11:01:15.447424Z",
     "iopub.status.idle": "2025-09-06T11:01:15.455337Z",
     "shell.execute_reply": "2025-09-06T11:01:15.454409Z",
     "shell.execute_reply.started": "2025-09-06T11:01:15.447959Z"
    },
    "trusted": true
   },
   "outputs": [],
   "source": [
    "# 125 train / 10 eval / 10 test\n",
    "df_shuf = df.sample(frac=1.0, random_state=SEED).reset_index(drop=True)\n",
    "train_df = df_shuf.iloc[:125].reset_index(drop=True)\n",
    "eval_df  = df_shuf.iloc[125:135].reset_index(drop=True)\n",
    "test_df  = df_shuf.iloc[135:145].reset_index(drop=True)"
   ]
  },
  {
   "cell_type": "code",
   "execution_count": 26,
   "metadata": {
    "execution": {
     "iopub.execute_input": "2025-09-06T11:01:17.268637Z",
     "iopub.status.busy": "2025-09-06T11:01:17.268375Z",
     "iopub.status.idle": "2025-09-06T11:01:24.594486Z",
     "shell.execute_reply": "2025-09-06T11:01:24.593822Z",
     "shell.execute_reply.started": "2025-09-06T11:01:17.268615Z"
    },
    "trusted": true
   },
   "outputs": [
    {
     "data": {
      "application/vnd.jupyter.widget-view+json": {
       "model_id": "06671bcb7adb406b9a33c54d451dc40d",
       "version_major": 2,
       "version_minor": 0
      },
      "text/plain": [
       "tokenizer_config.json: 0.00B [00:00, ?B/s]"
      ]
     },
     "metadata": {},
     "output_type": "display_data"
    },
    {
     "data": {
      "application/vnd.jupyter.widget-view+json": {
       "model_id": "ac0281209b554357901501051889303e",
       "version_major": 2,
       "version_minor": 0
      },
      "text/plain": [
       "spiece.model:   0%|          | 0.00/792k [00:00<?, ?B/s]"
      ]
     },
     "metadata": {},
     "output_type": "display_data"
    },
    {
     "data": {
      "application/vnd.jupyter.widget-view+json": {
       "model_id": "0284846f271747999b8940e24b0b4813",
       "version_major": 2,
       "version_minor": 0
      },
      "text/plain": [
       "tokenizer.json: 0.00B [00:00, ?B/s]"
      ]
     },
     "metadata": {},
     "output_type": "display_data"
    },
    {
     "data": {
      "application/vnd.jupyter.widget-view+json": {
       "model_id": "de30f9450a964fb4b3b0fd0e3e3d6301",
       "version_major": 2,
       "version_minor": 0
      },
      "text/plain": [
       "special_tokens_map.json: 0.00B [00:00, ?B/s]"
      ]
     },
     "metadata": {},
     "output_type": "display_data"
    },
    {
     "data": {
      "application/vnd.jupyter.widget-view+json": {
       "model_id": "7d5138e346064bb6836beefaf2d0c194",
       "version_major": 2,
       "version_minor": 0
      },
      "text/plain": [
       "config.json: 0.00B [00:00, ?B/s]"
      ]
     },
     "metadata": {},
     "output_type": "display_data"
    },
    {
     "data": {
      "application/vnd.jupyter.widget-view+json": {
       "model_id": "480e1f0bf71046b0b1709be1c024eb10",
       "version_major": 2,
       "version_minor": 0
      },
      "text/plain": [
       "model.safetensors:   0%|          | 0.00/990M [00:00<?, ?B/s]"
      ]
     },
     "metadata": {},
     "output_type": "display_data"
    },
    {
     "data": {
      "application/vnd.jupyter.widget-view+json": {
       "model_id": "2c889d2e61414c4b906da95cfd4389ea",
       "version_major": 2,
       "version_minor": 0
      },
      "text/plain": [
       "generation_config.json:   0%|          | 0.00/147 [00:00<?, ?B/s]"
      ]
     },
     "metadata": {},
     "output_type": "display_data"
    }
   ],
   "source": [
    "from transformers import AutoTokenizer, AutoModelForSeq2SeqLM\n",
    "import torch\n",
    "\n",
    "model_id = \"google/flan-t5-base\"\n",
    "tokenizer = AutoTokenizer.from_pretrained(model_id, use_fast=True)\n",
    "\n",
    "# Base model for pseudo previous titles (no finetuning)\n",
    "base_model = AutoModelForSeq2SeqLM.from_pretrained(model_id)\n",
    "device = torch.device(\"cuda\" if torch.cuda.is_available() else \"cpu\")\n",
    "base_model.to(device).eval()\n",
    "\n",
    "# Finetuning model\n",
    "model = AutoModelForSeq2SeqLM.from_pretrained(model_id)"
   ]
  },
  {
   "cell_type": "code",
   "execution_count": 27,
   "metadata": {
    "execution": {
     "iopub.execute_input": "2025-09-06T11:01:25.944723Z",
     "iopub.status.busy": "2025-09-06T11:01:25.944441Z",
     "iopub.status.idle": "2025-09-06T11:01:25.951036Z",
     "shell.execute_reply": "2025-09-06T11:01:25.950310Z",
     "shell.execute_reply.started": "2025-09-06T11:01:25.944703Z"
    },
    "trusted": true
   },
   "outputs": [],
   "source": [
    "MAX_INPUT_LEN = 512\n",
    "STRIDE        = 400\n",
    "LAST_K        = 1\n",
    "\n",
    "TITLE_PROMPT = (\n",
    "    \"titleize: Generate a short anime episode title in Title Case (3–8 words). \"\n",
    "    \"Base it only on the provided context. Output only the title.\"\n",
    ")\n",
    "\n",
    "def make_windows(text: str):\n",
    "    ids = tokenizer(text, add_special_tokens=False).input_ids\n",
    "    if not ids: return [\"\"]\n",
    "    windows, start = [], 0\n",
    "    while True:\n",
    "        chunk_ids = ids[start:start + MAX_INPUT_LEN]\n",
    "        if not chunk_ids: break\n",
    "        windows.append(tokenizer.decode(chunk_ids, skip_special_tokens=True))\n",
    "        if start + MAX_INPUT_LEN >= len(ids): break\n",
    "        start += STRIDE\n",
    "    return windows\n",
    "\n",
    "@torch.no_grad()\n",
    "def title_from_single_window(win_text: str) -> str:\n",
    "    \"\"\"Pseudo previous title from a single window using the *base* model.\"\"\"\n",
    "    prompt = f\"{TITLE_PROMPT}\\nContext:\\n{win_text}\"\n",
    "    enc = tokenizer(prompt, return_tensors=\"pt\", truncation=True, max_length=MAX_INPUT_LEN).to(device)\n",
    "    out = base_model.generate(**enc, num_beams=4, max_new_tokens=24)\n",
    "    return tokenizer.decode(out[0], skip_special_tokens=True)"
   ]
  },
  {
   "cell_type": "code",
   "execution_count": 28,
   "metadata": {
    "execution": {
     "iopub.execute_input": "2025-09-06T11:01:41.145117Z",
     "iopub.status.busy": "2025-09-06T11:01:41.144570Z",
     "iopub.status.idle": "2025-09-06T11:02:25.974450Z",
     "shell.execute_reply": "2025-09-06T11:02:25.973882Z",
     "shell.execute_reply.started": "2025-09-06T11:01:41.145091Z"
    },
    "trusted": true
   },
   "outputs": [
    {
     "name": "stderr",
     "output_type": "stream",
     "text": [
      "Token indices sequence length is longer than the specified maximum sequence length for this model (2534 > 512). Running this sequence through the model will result in indexing errors\n"
     ]
    }
   ],
   "source": [
    "def build_examples(df_split: pd.DataFrame, last_k: int = 1):\n",
    "    inputs, labels = [], []\n",
    "    for sub, title in zip(df_split[\"subtitle\"], df_split[\"target\"]):\n",
    "        wins = make_windows(str(sub))\n",
    "        if not wins: continue\n",
    "        # indices of last-K windows\n",
    "        start_idx = max(0, len(wins) - last_k)\n",
    "        for j in range(start_idx, len(wins)):\n",
    "            prev_title = \"\"\n",
    "            if j-1 >= 0:\n",
    "                # pseudo previous title from previous window (no gold leakage)\n",
    "                prev_title = title_from_single_window(wins[j-1])\n",
    "            if prev_title:\n",
    "                prompt = f\"{TITLE_PROMPT}\\nPrevious title: {prev_title}\\nContext:\\n{wins[j]}\"\n",
    "            else:\n",
    "                prompt = f\"{TITLE_PROMPT}\\nContext:\\n{wins[j]}\"\n",
    "            inputs.append(prompt)\n",
    "            labels.append(str(title))\n",
    "    return Dataset.from_dict({\"inp\": inputs, \"lbl\": labels})\n",
    "\n",
    "train_examples = build_examples(train_df, last_k=LAST_K)\n",
    "eval_examples  = build_examples(eval_df,  last_k=LAST_K)\n",
    "\n",
    "# After precomputing, free base model if memory is tight\n",
    "del base_model\n",
    "if torch.cuda.is_available(): torch.cuda.empty_cache()"
   ]
  },
  {
   "cell_type": "code",
   "execution_count": 29,
   "metadata": {
    "execution": {
     "iopub.execute_input": "2025-09-06T11:03:20.143628Z",
     "iopub.status.busy": "2025-09-06T11:03:20.143327Z",
     "iopub.status.idle": "2025-09-06T11:03:20.344501Z",
     "shell.execute_reply": "2025-09-06T11:03:20.343540Z",
     "shell.execute_reply.started": "2025-09-06T11:03:20.143594Z"
    },
    "trusted": true
   },
   "outputs": [
    {
     "data": {
      "application/vnd.jupyter.widget-view+json": {
       "model_id": "e709ce78c61642849ede1f9725ed887c",
       "version_major": 2,
       "version_minor": 0
      },
      "text/plain": [
       "Map:   0%|          | 0/125 [00:00<?, ? examples/s]"
      ]
     },
     "metadata": {},
     "output_type": "display_data"
    },
    {
     "data": {
      "application/vnd.jupyter.widget-view+json": {
       "model_id": "863badbe1432479b95f5d32a82a59c58",
       "version_major": 2,
       "version_minor": 0
      },
      "text/plain": [
       "Map:   0%|          | 0/125 [00:00<?, ? examples/s]"
      ]
     },
     "metadata": {},
     "output_type": "display_data"
    },
    {
     "data": {
      "application/vnd.jupyter.widget-view+json": {
       "model_id": "cff7ac1e52a64d93b8f596d477ea848a",
       "version_major": 2,
       "version_minor": 0
      },
      "text/plain": [
       "Map:   0%|          | 0/10 [00:00<?, ? examples/s]"
      ]
     },
     "metadata": {},
     "output_type": "display_data"
    },
    {
     "data": {
      "application/vnd.jupyter.widget-view+json": {
       "model_id": "daa4197653fb48839cc83d19c59d1fb7",
       "version_major": 2,
       "version_minor": 0
      },
      "text/plain": [
       "Map:   0%|          | 0/10 [00:00<?, ? examples/s]"
      ]
     },
     "metadata": {},
     "output_type": "display_data"
    },
    {
     "name": "stdout",
     "output_type": "stream",
     "text": [
      "Train samples: 125\n",
      "Eval samples : 10\n",
      "Features    : {'input_ids': Sequence(feature=Value(dtype='int32', id=None), length=-1, id=None), 'attention_mask': Sequence(feature=Value(dtype='int8', id=None), length=-1, id=None), 'labels': Sequence(feature=Value(dtype='int64', id=None), length=-1, id=None)}\n"
     ]
    }
   ],
   "source": [
    "tok_targets = tokenizer([str(t) for t in train_df[\"target\"].tolist()], truncation=True)\n",
    "max_target_length = min(64, max(len(x) for x in tok_targets[\"input_ids\"]))\n",
    "\n",
    "def tokenize_examples(dset):\n",
    "    dset = dset.map(\n",
    "        lambda b: {\n",
    "            **tokenizer(b[\"inp\"], max_length=MAX_INPUT_LEN, padding=\"max_length\", truncation=True),\n",
    "            \"labels\": tokenizer(b[\"lbl\"], max_length=max_target_length, padding=\"max_length\", truncation=True)[\"input_ids\"]\n",
    "        },\n",
    "        batched=True, remove_columns=[\"inp\",\"lbl\"]\n",
    "    )\n",
    "    # replace pad with -100 in labels\n",
    "    dset = dset.map(lambda b: {\"labels\": [[(t if t != tokenizer.pad_token_id else -100) for t in x] for x in b[\"labels\"]]},\n",
    "                    batched=True)\n",
    "    return dset\n",
    "\n",
    "tokenized_train = tokenize_examples(train_examples)\n",
    "tokenized_eval  = tokenize_examples(eval_examples)\n",
    "\n",
    "from datasets import DatasetDict\n",
    "tokenized_dataset = DatasetDict({\"train\": tokenized_train, \"eval\": tokenized_eval})\n",
    "\n",
    "print(\"Train samples:\", len(tokenized_dataset[\"train\"]))\n",
    "print(\"Eval samples :\", len(tokenized_dataset[\"eval\"]))\n",
    "print(\"Features    :\", tokenized_dataset[\"train\"].features)"
   ]
  },
  {
   "cell_type": "code",
   "execution_count": 31,
   "metadata": {
    "collapsed": true,
    "execution": {
     "iopub.execute_input": "2025-09-06T11:03:26.457919Z",
     "iopub.status.busy": "2025-09-06T11:03:26.457180Z",
     "iopub.status.idle": "2025-09-06T11:03:31.102520Z",
     "shell.execute_reply": "2025-09-06T11:03:31.101678Z",
     "shell.execute_reply.started": "2025-09-06T11:03:26.457884Z"
    },
    "jupyter": {
     "outputs_hidden": true
    },
    "trusted": true
   },
   "outputs": [
    {
     "name": "stderr",
     "output_type": "stream",
     "text": [
      "huggingface/tokenizers: The current process just got forked, after parallelism has already been used. Disabling parallelism to avoid deadlocks...\n",
      "To disable this warning, you can either:\n",
      "\t- Avoid using `tokenizers` before the fork if possible\n",
      "\t- Explicitly set the environment variable TOKENIZERS_PARALLELISM=(true | false)\n"
     ]
    },
    {
     "name": "stdout",
     "output_type": "stream",
     "text": [
      "Collecting evaluate\n",
      "  Downloading evaluate-0.4.5-py3-none-any.whl.metadata (9.5 kB)\n",
      "Requirement already satisfied: datasets>=2.0.0 in /usr/local/lib/python3.11/dist-packages (from evaluate) (3.6.0)\n",
      "Requirement already satisfied: numpy>=1.17 in /usr/local/lib/python3.11/dist-packages (from evaluate) (1.26.4)\n",
      "Requirement already satisfied: dill in /usr/local/lib/python3.11/dist-packages (from evaluate) (0.3.8)\n",
      "Requirement already satisfied: pandas in /usr/local/lib/python3.11/dist-packages (from evaluate) (2.2.3)\n",
      "Requirement already satisfied: requests>=2.19.0 in /usr/local/lib/python3.11/dist-packages (from evaluate) (2.32.4)\n",
      "Requirement already satisfied: tqdm>=4.62.1 in /usr/local/lib/python3.11/dist-packages (from evaluate) (4.67.1)\n",
      "Requirement already satisfied: xxhash in /usr/local/lib/python3.11/dist-packages (from evaluate) (3.5.0)\n",
      "Requirement already satisfied: multiprocess in /usr/local/lib/python3.11/dist-packages (from evaluate) (0.70.16)\n",
      "Requirement already satisfied: fsspec>=2021.05.0 in /usr/local/lib/python3.11/dist-packages (from fsspec[http]>=2021.05.0->evaluate) (2025.5.1)\n",
      "Requirement already satisfied: huggingface-hub>=0.7.0 in /usr/local/lib/python3.11/dist-packages (from evaluate) (0.33.1)\n",
      "Requirement already satisfied: packaging in /usr/local/lib/python3.11/dist-packages (from evaluate) (25.0)\n",
      "Requirement already satisfied: filelock in /usr/local/lib/python3.11/dist-packages (from datasets>=2.0.0->evaluate) (3.18.0)\n",
      "Requirement already satisfied: pyarrow>=15.0.0 in /usr/local/lib/python3.11/dist-packages (from datasets>=2.0.0->evaluate) (19.0.1)\n",
      "Collecting fsspec>=2021.05.0 (from fsspec[http]>=2021.05.0->evaluate)\n",
      "  Downloading fsspec-2025.3.0-py3-none-any.whl.metadata (11 kB)\n",
      "Requirement already satisfied: pyyaml>=5.1 in /usr/local/lib/python3.11/dist-packages (from datasets>=2.0.0->evaluate) (6.0.2)\n",
      "Requirement already satisfied: aiohttp!=4.0.0a0,!=4.0.0a1 in /usr/local/lib/python3.11/dist-packages (from fsspec[http]>=2021.05.0->evaluate) (3.12.13)\n",
      "Requirement already satisfied: typing-extensions>=3.7.4.3 in /usr/local/lib/python3.11/dist-packages (from huggingface-hub>=0.7.0->evaluate) (4.14.0)\n",
      "Requirement already satisfied: hf-xet<2.0.0,>=1.1.2 in /usr/local/lib/python3.11/dist-packages (from huggingface-hub>=0.7.0->evaluate) (1.1.5)\n",
      "Requirement already satisfied: mkl_fft in /usr/local/lib/python3.11/dist-packages (from numpy>=1.17->evaluate) (1.3.8)\n",
      "Requirement already satisfied: mkl_random in /usr/local/lib/python3.11/dist-packages (from numpy>=1.17->evaluate) (1.2.4)\n",
      "Requirement already satisfied: mkl_umath in /usr/local/lib/python3.11/dist-packages (from numpy>=1.17->evaluate) (0.1.1)\n",
      "Requirement already satisfied: mkl in /usr/local/lib/python3.11/dist-packages (from numpy>=1.17->evaluate) (2025.2.0)\n",
      "Requirement already satisfied: tbb4py in /usr/local/lib/python3.11/dist-packages (from numpy>=1.17->evaluate) (2022.2.0)\n",
      "Requirement already satisfied: mkl-service in /usr/local/lib/python3.11/dist-packages (from numpy>=1.17->evaluate) (2.4.1)\n",
      "Requirement already satisfied: charset_normalizer<4,>=2 in /usr/local/lib/python3.11/dist-packages (from requests>=2.19.0->evaluate) (3.4.2)\n",
      "Requirement already satisfied: idna<4,>=2.5 in /usr/local/lib/python3.11/dist-packages (from requests>=2.19.0->evaluate) (3.10)\n",
      "Requirement already satisfied: urllib3<3,>=1.21.1 in /usr/local/lib/python3.11/dist-packages (from requests>=2.19.0->evaluate) (2.5.0)\n",
      "Requirement already satisfied: certifi>=2017.4.17 in /usr/local/lib/python3.11/dist-packages (from requests>=2.19.0->evaluate) (2025.6.15)\n",
      "Requirement already satisfied: python-dateutil>=2.8.2 in /usr/local/lib/python3.11/dist-packages (from pandas->evaluate) (2.9.0.post0)\n",
      "Requirement already satisfied: pytz>=2020.1 in /usr/local/lib/python3.11/dist-packages (from pandas->evaluate) (2025.2)\n",
      "Requirement already satisfied: tzdata>=2022.7 in /usr/local/lib/python3.11/dist-packages (from pandas->evaluate) (2025.2)\n",
      "Requirement already satisfied: aiohappyeyeballs>=2.5.0 in /usr/local/lib/python3.11/dist-packages (from aiohttp!=4.0.0a0,!=4.0.0a1->fsspec[http]>=2021.05.0->evaluate) (2.6.1)\n",
      "Requirement already satisfied: aiosignal>=1.1.2 in /usr/local/lib/python3.11/dist-packages (from aiohttp!=4.0.0a0,!=4.0.0a1->fsspec[http]>=2021.05.0->evaluate) (1.3.2)\n",
      "Requirement already satisfied: attrs>=17.3.0 in /usr/local/lib/python3.11/dist-packages (from aiohttp!=4.0.0a0,!=4.0.0a1->fsspec[http]>=2021.05.0->evaluate) (25.3.0)\n",
      "Requirement already satisfied: frozenlist>=1.1.1 in /usr/local/lib/python3.11/dist-packages (from aiohttp!=4.0.0a0,!=4.0.0a1->fsspec[http]>=2021.05.0->evaluate) (1.7.0)\n",
      "Requirement already satisfied: multidict<7.0,>=4.5 in /usr/local/lib/python3.11/dist-packages (from aiohttp!=4.0.0a0,!=4.0.0a1->fsspec[http]>=2021.05.0->evaluate) (6.6.3)\n",
      "Requirement already satisfied: propcache>=0.2.0 in /usr/local/lib/python3.11/dist-packages (from aiohttp!=4.0.0a0,!=4.0.0a1->fsspec[http]>=2021.05.0->evaluate) (0.3.2)\n",
      "Requirement already satisfied: yarl<2.0,>=1.17.0 in /usr/local/lib/python3.11/dist-packages (from aiohttp!=4.0.0a0,!=4.0.0a1->fsspec[http]>=2021.05.0->evaluate) (1.20.1)\n",
      "Requirement already satisfied: six>=1.5 in /usr/local/lib/python3.11/dist-packages (from python-dateutil>=2.8.2->pandas->evaluate) (1.17.0)\n",
      "Requirement already satisfied: intel-openmp<2026,>=2024 in /usr/local/lib/python3.11/dist-packages (from mkl->numpy>=1.17->evaluate) (2024.2.0)\n",
      "Requirement already satisfied: tbb==2022.* in /usr/local/lib/python3.11/dist-packages (from mkl->numpy>=1.17->evaluate) (2022.2.0)\n",
      "Requirement already satisfied: tcmlib==1.* in /usr/local/lib/python3.11/dist-packages (from tbb==2022.*->mkl->numpy>=1.17->evaluate) (1.4.0)\n",
      "Requirement already satisfied: intel-cmplr-lib-rt in /usr/local/lib/python3.11/dist-packages (from mkl_umath->numpy>=1.17->evaluate) (2024.2.0)\n",
      "Requirement already satisfied: intel-cmplr-lib-ur==2024.2.0 in /usr/local/lib/python3.11/dist-packages (from intel-openmp<2026,>=2024->mkl->numpy>=1.17->evaluate) (2024.2.0)\n",
      "Downloading evaluate-0.4.5-py3-none-any.whl (84 kB)\n",
      "\u001b[2K   \u001b[90m━━━━━━━━━━━━━━━━━━━━━━━━━━━━━━━━━━━━━━━━\u001b[0m \u001b[32m84.1/84.1 kB\u001b[0m \u001b[31m3.8 MB/s\u001b[0m eta \u001b[36m0:00:00\u001b[0m\n",
      "\u001b[?25hDownloading fsspec-2025.3.0-py3-none-any.whl (193 kB)\n",
      "\u001b[2K   \u001b[90m━━━━━━━━━━━━━━━━━━━━━━━━━━━━━━━━━━━━━━━━\u001b[0m \u001b[32m193.6/193.6 kB\u001b[0m \u001b[31m9.5 MB/s\u001b[0m eta \u001b[36m0:00:00\u001b[0m\n",
      "\u001b[?25hInstalling collected packages: fsspec, evaluate\n",
      "  Attempting uninstall: fsspec\n",
      "    Found existing installation: fsspec 2025.5.1\n",
      "    Uninstalling fsspec-2025.5.1:\n",
      "      Successfully uninstalled fsspec-2025.5.1\n",
      "\u001b[31mERROR: pip's dependency resolver does not currently take into account all the packages that are installed. This behaviour is the source of the following dependency conflicts.\n",
      "bigframes 2.8.0 requires google-cloud-bigquery-storage<3.0.0,>=2.30.0, which is not installed.\n",
      "cesium 0.12.4 requires numpy<3.0,>=2.0, but you have numpy 1.26.4 which is incompatible.\n",
      "torch 2.6.0+cu124 requires nvidia-cublas-cu12==12.4.5.8; platform_system == \"Linux\" and platform_machine == \"x86_64\", but you have nvidia-cublas-cu12 12.5.3.2 which is incompatible.\n",
      "torch 2.6.0+cu124 requires nvidia-cuda-cupti-cu12==12.4.127; platform_system == \"Linux\" and platform_machine == \"x86_64\", but you have nvidia-cuda-cupti-cu12 12.5.82 which is incompatible.\n",
      "torch 2.6.0+cu124 requires nvidia-cuda-nvrtc-cu12==12.4.127; platform_system == \"Linux\" and platform_machine == \"x86_64\", but you have nvidia-cuda-nvrtc-cu12 12.5.82 which is incompatible.\n",
      "torch 2.6.0+cu124 requires nvidia-cuda-runtime-cu12==12.4.127; platform_system == \"Linux\" and platform_machine == \"x86_64\", but you have nvidia-cuda-runtime-cu12 12.5.82 which is incompatible.\n",
      "torch 2.6.0+cu124 requires nvidia-cudnn-cu12==9.1.0.70; platform_system == \"Linux\" and platform_machine == \"x86_64\", but you have nvidia-cudnn-cu12 9.3.0.75 which is incompatible.\n",
      "torch 2.6.0+cu124 requires nvidia-cufft-cu12==11.2.1.3; platform_system == \"Linux\" and platform_machine == \"x86_64\", but you have nvidia-cufft-cu12 11.2.3.61 which is incompatible.\n",
      "torch 2.6.0+cu124 requires nvidia-curand-cu12==10.3.5.147; platform_system == \"Linux\" and platform_machine == \"x86_64\", but you have nvidia-curand-cu12 10.3.6.82 which is incompatible.\n",
      "torch 2.6.0+cu124 requires nvidia-cusolver-cu12==11.6.1.9; platform_system == \"Linux\" and platform_machine == \"x86_64\", but you have nvidia-cusolver-cu12 11.6.3.83 which is incompatible.\n",
      "torch 2.6.0+cu124 requires nvidia-cusparse-cu12==12.3.1.170; platform_system == \"Linux\" and platform_machine == \"x86_64\", but you have nvidia-cusparse-cu12 12.5.1.3 which is incompatible.\n",
      "torch 2.6.0+cu124 requires nvidia-nvjitlink-cu12==12.4.127; platform_system == \"Linux\" and platform_machine == \"x86_64\", but you have nvidia-nvjitlink-cu12 12.5.82 which is incompatible.\n",
      "gcsfs 2025.3.2 requires fsspec==2025.3.2, but you have fsspec 2025.3.0 which is incompatible.\n",
      "bigframes 2.8.0 requires google-cloud-bigquery[bqstorage,pandas]>=3.31.0, but you have google-cloud-bigquery 3.25.0 which is incompatible.\n",
      "bigframes 2.8.0 requires rich<14,>=12.4.4, but you have rich 14.0.0 which is incompatible.\u001b[0m\u001b[31m\n",
      "\u001b[0mSuccessfully installed evaluate-0.4.5 fsspec-2025.3.0\n",
      "Note: you may need to restart the kernel to use updated packages.\n"
     ]
    }
   ],
   "source": [
    "pip install evaluate"
   ]
  },
  {
   "cell_type": "code",
   "execution_count": 32,
   "metadata": {
    "collapsed": true,
    "execution": {
     "iopub.execute_input": "2025-09-06T11:03:35.104665Z",
     "iopub.status.busy": "2025-09-06T11:03:35.103832Z",
     "iopub.status.idle": "2025-09-06T11:03:39.900776Z",
     "shell.execute_reply": "2025-09-06T11:03:39.899998Z",
     "shell.execute_reply.started": "2025-09-06T11:03:35.104626Z"
    },
    "jupyter": {
     "outputs_hidden": true
    },
    "trusted": true
   },
   "outputs": [
    {
     "name": "stderr",
     "output_type": "stream",
     "text": [
      "huggingface/tokenizers: The current process just got forked, after parallelism has already been used. Disabling parallelism to avoid deadlocks...\n",
      "To disable this warning, you can either:\n",
      "\t- Avoid using `tokenizers` before the fork if possible\n",
      "\t- Explicitly set the environment variable TOKENIZERS_PARALLELISM=(true | false)\n"
     ]
    },
    {
     "name": "stdout",
     "output_type": "stream",
     "text": [
      "Collecting rouge_score\n",
      "  Downloading rouge_score-0.1.2.tar.gz (17 kB)\n",
      "  Preparing metadata (setup.py) ... \u001b[?25l\u001b[?25hdone\n",
      "Requirement already satisfied: absl-py in /usr/local/lib/python3.11/dist-packages (from rouge_score) (1.4.0)\n",
      "Requirement already satisfied: nltk in /usr/local/lib/python3.11/dist-packages (from rouge_score) (3.9.1)\n",
      "Requirement already satisfied: numpy in /usr/local/lib/python3.11/dist-packages (from rouge_score) (1.26.4)\n",
      "Requirement already satisfied: six>=1.14.0 in /usr/local/lib/python3.11/dist-packages (from rouge_score) (1.17.0)\n",
      "Requirement already satisfied: click in /usr/local/lib/python3.11/dist-packages (from nltk->rouge_score) (8.2.1)\n",
      "Requirement already satisfied: joblib in /usr/local/lib/python3.11/dist-packages (from nltk->rouge_score) (1.5.1)\n",
      "Requirement already satisfied: regex>=2021.8.3 in /usr/local/lib/python3.11/dist-packages (from nltk->rouge_score) (2024.11.6)\n",
      "Requirement already satisfied: tqdm in /usr/local/lib/python3.11/dist-packages (from nltk->rouge_score) (4.67.1)\n",
      "Requirement already satisfied: mkl_fft in /usr/local/lib/python3.11/dist-packages (from numpy->rouge_score) (1.3.8)\n",
      "Requirement already satisfied: mkl_random in /usr/local/lib/python3.11/dist-packages (from numpy->rouge_score) (1.2.4)\n",
      "Requirement already satisfied: mkl_umath in /usr/local/lib/python3.11/dist-packages (from numpy->rouge_score) (0.1.1)\n",
      "Requirement already satisfied: mkl in /usr/local/lib/python3.11/dist-packages (from numpy->rouge_score) (2025.2.0)\n",
      "Requirement already satisfied: tbb4py in /usr/local/lib/python3.11/dist-packages (from numpy->rouge_score) (2022.2.0)\n",
      "Requirement already satisfied: mkl-service in /usr/local/lib/python3.11/dist-packages (from numpy->rouge_score) (2.4.1)\n",
      "Requirement already satisfied: intel-openmp<2026,>=2024 in /usr/local/lib/python3.11/dist-packages (from mkl->numpy->rouge_score) (2024.2.0)\n",
      "Requirement already satisfied: tbb==2022.* in /usr/local/lib/python3.11/dist-packages (from mkl->numpy->rouge_score) (2022.2.0)\n",
      "Requirement already satisfied: tcmlib==1.* in /usr/local/lib/python3.11/dist-packages (from tbb==2022.*->mkl->numpy->rouge_score) (1.4.0)\n",
      "Requirement already satisfied: intel-cmplr-lib-rt in /usr/local/lib/python3.11/dist-packages (from mkl_umath->numpy->rouge_score) (2024.2.0)\n",
      "Requirement already satisfied: intel-cmplr-lib-ur==2024.2.0 in /usr/local/lib/python3.11/dist-packages (from intel-openmp<2026,>=2024->mkl->numpy->rouge_score) (2024.2.0)\n",
      "Building wheels for collected packages: rouge_score\n",
      "  Building wheel for rouge_score (setup.py) ... \u001b[?25l\u001b[?25hdone\n",
      "  Created wheel for rouge_score: filename=rouge_score-0.1.2-py3-none-any.whl size=24934 sha256=d66a2efb084eb25dd5fa520ac2fb18baecbadec74df672f6d38aa544039dc5da\n",
      "  Stored in directory: /root/.cache/pip/wheels/1e/19/43/8a442dc83660ca25e163e1bd1f89919284ab0d0c1475475148\n",
      "Successfully built rouge_score\n",
      "Installing collected packages: rouge_score\n",
      "Successfully installed rouge_score-0.1.2\n",
      "Note: you may need to restart the kernel to use updated packages.\n"
     ]
    }
   ],
   "source": [
    "pip install rouge_score"
   ]
  },
  {
   "cell_type": "code",
   "execution_count": 33,
   "metadata": {
    "execution": {
     "iopub.execute_input": "2025-09-06T11:03:47.356891Z",
     "iopub.status.busy": "2025-09-06T11:03:47.356330Z",
     "iopub.status.idle": "2025-09-06T11:03:48.034713Z",
     "shell.execute_reply": "2025-09-06T11:03:48.033980Z",
     "shell.execute_reply.started": "2025-09-06T11:03:47.356861Z"
    },
    "trusted": true
   },
   "outputs": [
    {
     "name": "stderr",
     "output_type": "stream",
     "text": [
      "[nltk_data] Downloading package punkt to /usr/share/nltk_data...\n",
      "[nltk_data]   Package punkt is already up-to-date!\n"
     ]
    },
    {
     "data": {
      "application/vnd.jupyter.widget-view+json": {
       "model_id": "2897aaaa36ff4a709de148e6f9988061",
       "version_major": 2,
       "version_minor": 0
      },
      "text/plain": [
       "Downloading builder script: 0.00B [00:00, ?B/s]"
      ]
     },
     "metadata": {},
     "output_type": "display_data"
    }
   ],
   "source": [
    "import evaluate\n",
    "import nltk\n",
    "import numpy as np\n",
    "from nltk.tokenize import sent_tokenize\n",
    "\n",
    "nltk.download(\"punkt\")\n",
    "\n",
    "metric = evaluate.load(\"rouge\")"
   ]
  },
  {
   "cell_type": "code",
   "execution_count": 34,
   "metadata": {
    "execution": {
     "iopub.execute_input": "2025-09-06T11:03:50.470700Z",
     "iopub.status.busy": "2025-09-06T11:03:50.470456Z",
     "iopub.status.idle": "2025-09-06T11:03:50.929696Z",
     "shell.execute_reply": "2025-09-06T11:03:50.929113Z",
     "shell.execute_reply.started": "2025-09-06T11:03:50.470683Z"
    },
    "trusted": true
   },
   "outputs": [],
   "source": [
    "import evaluate, nltk, numpy as np\n",
    "from nltk.tokenize import sent_tokenize\n",
    "nltk.download(\"punkt\", quiet=True)\n",
    "metric = evaluate.load(\"rouge\")\n",
    "\n",
    "def postprocess_text(preds, labels):\n",
    "    preds  = [\"\\n\".join(sent_tokenize(p.strip())) for p in preds]\n",
    "    labels = [\"\\n\".join(sent_tokenize(l.strip())) for l in labels]\n",
    "    return preds, labels\n",
    "\n",
    "def compute_metrics(eval_preds):\n",
    "    preds, labels = eval_preds\n",
    "    if isinstance(preds, tuple): preds = preds[0]\n",
    "    decoded_preds  = tokenizer.batch_decode(preds, skip_special_tokens=True)\n",
    "    labels = np.where(labels != -100, labels, tokenizer.pad_token_id)\n",
    "    decoded_labels = tokenizer.batch_decode(labels, skip_special_tokens=True)\n",
    "    decoded_preds, decoded_labels = postprocess_text(decoded_preds, decoded_labels)\n",
    "    out = metric.compute(predictions=decoded_preds, references=decoded_labels, use_stemmer=True)\n",
    "    out = {k: round(v * 100, 4) for k, v in out.items()}\n",
    "    gen_lens = [np.count_nonzero(p != tokenizer.pad_token_id) for p in preds]\n",
    "    out[\"gen_len\"] = float(np.mean(gen_lens))\n",
    "    return out\n",
    "\n",
    "from transformers import DataCollatorForSeq2Seq\n",
    "data_collator = DataCollatorForSeq2Seq(\n",
    "    tokenizer=tokenizer, model=model, label_pad_token_id=-100, pad_to_multiple_of=8\n",
    ")"
   ]
  },
  {
   "cell_type": "code",
   "execution_count": 35,
   "metadata": {
    "execution": {
     "iopub.execute_input": "2025-09-06T11:03:53.103799Z",
     "iopub.status.busy": "2025-09-06T11:03:53.103563Z",
     "iopub.status.idle": "2025-09-06T11:03:53.107864Z",
     "shell.execute_reply": "2025-09-06T11:03:53.107038Z",
     "shell.execute_reply.started": "2025-09-06T11:03:53.103782Z"
    },
    "trusted": true
   },
   "outputs": [],
   "source": [
    "from transformers import DataCollatorForSeq2Seq\n",
    "label_pad_token_id = -100\n",
    "\n",
    "data_collator = DataCollatorForSeq2Seq(\n",
    "    tokenizer=tokenizer,\n",
    "    model=model,\n",
    "    label_pad_token_id=label_pad_token_id,\n",
    "    pad_to_multiple_of=8\n",
    ")"
   ]
  },
  {
   "cell_type": "code",
   "execution_count": 43,
   "metadata": {
    "execution": {
     "iopub.execute_input": "2025-09-06T11:10:51.885641Z",
     "iopub.status.busy": "2025-09-06T11:10:51.885145Z",
     "iopub.status.idle": "2025-09-06T11:10:51.934088Z",
     "shell.execute_reply": "2025-09-06T11:10:51.933547Z",
     "shell.execute_reply.started": "2025-09-06T11:10:51.885615Z"
    },
    "trusted": true
   },
   "outputs": [],
   "source": [
    "from transformers import Seq2SeqTrainer, Seq2SeqTrainingArguments\n",
    "from huggingface_hub import HfFolder\n",
    "from transformers import EarlyStoppingCallback\n",
    "\n",
    "repository_id = \"flan-t5-base-hxh-titles-lastK\"\n",
    "\n",
    "training_args = Seq2SeqTrainingArguments(\n",
    "    output_dir=repository_id,\n",
    "    per_device_train_batch_size=8,\n",
    "    per_device_eval_batch_size=8,\n",
    "    predict_with_generate=True,\n",
    "    generation_max_length=max_target_length,\n",
    "    fp16=False,\n",
    "    learning_rate=5e-5,\n",
    "    num_train_epochs=10,\n",
    "\n",
    "    # ---- FIX LOGGING ----\n",
    "    logging_strategy=\"epoch\",\n",
    "    eval_strategy=\"epoch\",\n",
    "    save_strategy=\"epoch\",\n",
    "\n",
    "\n",
    "    save_total_limit=2,\n",
    "    load_best_model_at_end=True,\n",
    "    report_to=\"tensorboard\",\n",
    "    push_to_hub=False,\n",
    ")\n",
    "\n",
    "\n",
    "trainer = Seq2SeqTrainer(\n",
    "    model=model,\n",
    "    args=training_args,\n",
    "    data_collator=data_collator,\n",
    "    train_dataset=tokenized_dataset[\"train\"],\n",
    "    eval_dataset=tokenized_dataset[\"eval\"],\n",
    "    compute_metrics=compute_metrics,\n",
    "    callbacks=[EarlyStoppingCallback(early_stopping_patience=2)]\n",
    ")"
   ]
  },
  {
   "cell_type": "code",
   "execution_count": 44,
   "metadata": {
    "execution": {
     "iopub.execute_input": "2025-09-06T11:10:56.664440Z",
     "iopub.status.busy": "2025-09-06T11:10:56.663721Z",
     "iopub.status.idle": "2025-09-06T11:10:56.670651Z",
     "shell.execute_reply": "2025-09-06T11:10:56.669900Z",
     "shell.execute_reply.started": "2025-09-06T11:10:56.664412Z"
    },
    "trusted": true
   },
   "outputs": [],
   "source": [
    "# Free as much GPU memory as possible\n",
    "import gc, torch\n",
    "\n",
    "def free_gpu(*objs, verbose=True):\n",
    "    \"\"\"\n",
    "    Move models off GPU, delete references, and clear CUDA caches.\n",
    "    Pass any model/optimizer/trainer/accelerator objects as args.\n",
    "    \"\"\"\n",
    "    # 1) Move models to CPU first\n",
    "    for obj in objs:\n",
    "        try:\n",
    "            if hasattr(obj, \"to\"): obj.to(\"cpu\")\n",
    "        except Exception:\n",
    "            pass\n",
    "\n",
    "    # 2) Drop references\n",
    "    for obj in objs:\n",
    "        try:\n",
    "            del obj\n",
    "        except Exception:\n",
    "            pass\n",
    "\n",
    "    # 3) Python & CUDA GC\n",
    "    gc.collect()\n",
    "    if torch.cuda.is_available():\n",
    "        try: torch.cuda.synchronize()\n",
    "        except Exception: pass\n",
    "        torch.cuda.empty_cache()\n",
    "        try: torch.cuda.ipc_collect()\n",
    "        except Exception: pass\n",
    "        if verbose:\n",
    "            allocated = torch.cuda.memory_allocated() / (1024**2)\n",
    "            reserved  = torch.cuda.memory_reserved()  / (1024**2)\n",
    "            print(f\"[GPU] allocated: {allocated:.1f} MB | reserved: {reserved:.1f} MB\")\n",
    "            # print(torch.cuda.memory_summary(abbreviated=True))\n",
    "\n",
    "    try:\n",
    "        import cupy as cp\n",
    "        cp.get_default_memory_pool().free_all_blocks()\n",
    "        cp.get_default_pinned_memory_pool().free_all_blocks()\n",
    "        if verbose: print(\"[CuPy] memory pools freed.\")\n",
    "    except Exception:\n",
    "        pass\n"
   ]
  },
  {
   "cell_type": "code",
   "execution_count": 45,
   "metadata": {
    "execution": {
     "iopub.execute_input": "2025-09-06T11:10:56.926987Z",
     "iopub.status.busy": "2025-09-06T11:10:56.926718Z",
     "iopub.status.idle": "2025-09-06T11:10:57.924777Z",
     "shell.execute_reply": "2025-09-06T11:10:57.924176Z",
     "shell.execute_reply.started": "2025-09-06T11:10:56.926966Z"
    },
    "trusted": true
   },
   "outputs": [
    {
     "name": "stdout",
     "output_type": "stream",
     "text": [
      "[GPU] allocated: 1933.3 MB | reserved: 2138.0 MB\n",
      "[CuPy] memory pools freed.\n"
     ]
    }
   ],
   "source": [
    "free_gpu(trainer, model)\n",
    "# free_gpu(trainer, model, base_model, optimizer, lr_scheduler, scaler, accelerator)\n"
   ]
  },
  {
   "cell_type": "code",
   "execution_count": 46,
   "metadata": {
    "execution": {
     "iopub.execute_input": "2025-09-06T11:11:00.739979Z",
     "iopub.status.busy": "2025-09-06T11:11:00.739408Z",
     "iopub.status.idle": "2025-09-06T11:11:47.335947Z",
     "shell.execute_reply": "2025-09-06T11:11:47.335208Z",
     "shell.execute_reply.started": "2025-09-06T11:11:00.739956Z"
    },
    "trusted": true
   },
   "outputs": [
    {
     "data": {
      "text/html": [
       "\n",
       "    <div>\n",
       "      \n",
       "      <progress value='48' max='160' style='width:300px; height:20px; vertical-align: middle;'></progress>\n",
       "      [ 48/160 00:45 < 01:50, 1.02 it/s, Epoch 3/10]\n",
       "    </div>\n",
       "    <table border=\"1\" class=\"dataframe\">\n",
       "  <thead>\n",
       " <tr style=\"text-align: left;\">\n",
       "      <th>Epoch</th>\n",
       "      <th>Training Loss</th>\n",
       "      <th>Validation Loss</th>\n",
       "      <th>Rouge1</th>\n",
       "      <th>Rouge2</th>\n",
       "      <th>Rougel</th>\n",
       "      <th>Rougelsum</th>\n",
       "      <th>Gen Len</th>\n",
       "    </tr>\n",
       "  </thead>\n",
       "  <tbody>\n",
       "    <tr>\n",
       "      <td>1</td>\n",
       "      <td>2.808000</td>\n",
       "      <td>4.237364</td>\n",
       "      <td>7.833300</td>\n",
       "      <td>0.000000</td>\n",
       "      <td>7.833300</td>\n",
       "      <td>7.833300</td>\n",
       "      <td>6.000000</td>\n",
       "    </tr>\n",
       "    <tr>\n",
       "      <td>2</td>\n",
       "      <td>2.709000</td>\n",
       "      <td>4.343635</td>\n",
       "      <td>10.333300</td>\n",
       "      <td>0.000000</td>\n",
       "      <td>10.333300</td>\n",
       "      <td>10.333300</td>\n",
       "      <td>6.300000</td>\n",
       "    </tr>\n",
       "    <tr>\n",
       "      <td>3</td>\n",
       "      <td>2.561300</td>\n",
       "      <td>4.397120</td>\n",
       "      <td>10.833300</td>\n",
       "      <td>0.000000</td>\n",
       "      <td>10.833300</td>\n",
       "      <td>10.833300</td>\n",
       "      <td>5.700000</td>\n",
       "    </tr>\n",
       "  </tbody>\n",
       "</table><p>"
      ],
      "text/plain": [
       "<IPython.core.display.HTML object>"
      ]
     },
     "metadata": {},
     "output_type": "display_data"
    },
    {
     "name": "stderr",
     "output_type": "stream",
     "text": [
      "There were missing keys in the checkpoint model loaded: ['encoder.embed_tokens.weight', 'decoder.embed_tokens.weight'].\n"
     ]
    },
    {
     "data": {
      "text/plain": [
       "TrainOutput(global_step=48, training_loss=2.6927520434061685, metrics={'train_runtime': 45.9062, 'train_samples_per_second': 27.229, 'train_steps_per_second': 3.485, 'total_flos': 256784007168000.0, 'train_loss': 2.6927520434061685, 'epoch': 3.0})"
      ]
     },
     "execution_count": 46,
     "metadata": {},
     "output_type": "execute_result"
    }
   ],
   "source": [
    "# it was trained for 5 epochs and gave training loss 4.3 so we train for more epochs with earlystoppingcallback\n",
    "trainer.train()"
   ]
  },
  {
   "cell_type": "code",
   "execution_count": 49,
   "metadata": {
    "collapsed": true,
    "execution": {
     "iopub.execute_input": "2025-09-06T11:15:23.865243Z",
     "iopub.status.busy": "2025-09-06T11:15:23.864700Z",
     "iopub.status.idle": "2025-09-06T11:16:31.937477Z",
     "shell.execute_reply": "2025-09-06T11:16:31.936252Z",
     "shell.execute_reply.started": "2025-09-06T11:15:23.865219Z"
    },
    "jupyter": {
     "outputs_hidden": true
    },
    "trusted": true
   },
   "outputs": [
    {
     "name": "stderr",
     "output_type": "stream",
     "text": [
      "huggingface/tokenizers: The current process just got forked, after parallelism has already been used. Disabling parallelism to avoid deadlocks...\n",
      "To disable this warning, you can either:\n",
      "\t- Avoid using `tokenizers` before the fork if possible\n",
      "\t- Explicitly set the environment variable TOKENIZERS_PARALLELISM=(true | false)\n"
     ]
    },
    {
     "name": "stdout",
     "output_type": "stream",
     "text": [
      "Collecting bert_score\n",
      "  Downloading bert_score-0.3.13-py3-none-any.whl.metadata (15 kB)\n",
      "Requirement already satisfied: torch>=1.0.0 in /usr/local/lib/python3.11/dist-packages (from bert_score) (2.6.0+cu124)\n",
      "Requirement already satisfied: pandas>=1.0.1 in /usr/local/lib/python3.11/dist-packages (from bert_score) (2.2.3)\n",
      "Requirement already satisfied: transformers>=3.0.0 in /usr/local/lib/python3.11/dist-packages (from bert_score) (4.52.4)\n",
      "Requirement already satisfied: numpy in /usr/local/lib/python3.11/dist-packages (from bert_score) (1.26.4)\n",
      "Requirement already satisfied: requests in /usr/local/lib/python3.11/dist-packages (from bert_score) (2.32.4)\n",
      "Requirement already satisfied: tqdm>=4.31.1 in /usr/local/lib/python3.11/dist-packages (from bert_score) (4.67.1)\n",
      "Requirement already satisfied: matplotlib in /usr/local/lib/python3.11/dist-packages (from bert_score) (3.7.2)\n",
      "Requirement already satisfied: packaging>=20.9 in /usr/local/lib/python3.11/dist-packages (from bert_score) (25.0)\n",
      "Requirement already satisfied: python-dateutil>=2.8.2 in /usr/local/lib/python3.11/dist-packages (from pandas>=1.0.1->bert_score) (2.9.0.post0)\n",
      "Requirement already satisfied: pytz>=2020.1 in /usr/local/lib/python3.11/dist-packages (from pandas>=1.0.1->bert_score) (2025.2)\n",
      "Requirement already satisfied: tzdata>=2022.7 in /usr/local/lib/python3.11/dist-packages (from pandas>=1.0.1->bert_score) (2025.2)\n",
      "Requirement already satisfied: mkl_fft in /usr/local/lib/python3.11/dist-packages (from numpy->bert_score) (1.3.8)\n",
      "Requirement already satisfied: mkl_random in /usr/local/lib/python3.11/dist-packages (from numpy->bert_score) (1.2.4)\n",
      "Requirement already satisfied: mkl_umath in /usr/local/lib/python3.11/dist-packages (from numpy->bert_score) (0.1.1)\n",
      "Requirement already satisfied: mkl in /usr/local/lib/python3.11/dist-packages (from numpy->bert_score) (2025.2.0)\n",
      "Requirement already satisfied: tbb4py in /usr/local/lib/python3.11/dist-packages (from numpy->bert_score) (2022.2.0)\n",
      "Requirement already satisfied: mkl-service in /usr/local/lib/python3.11/dist-packages (from numpy->bert_score) (2.4.1)\n",
      "Requirement already satisfied: filelock in /usr/local/lib/python3.11/dist-packages (from torch>=1.0.0->bert_score) (3.18.0)\n",
      "Requirement already satisfied: typing-extensions>=4.10.0 in /usr/local/lib/python3.11/dist-packages (from torch>=1.0.0->bert_score) (4.14.0)\n",
      "Requirement already satisfied: networkx in /usr/local/lib/python3.11/dist-packages (from torch>=1.0.0->bert_score) (3.5)\n",
      "Requirement already satisfied: jinja2 in /usr/local/lib/python3.11/dist-packages (from torch>=1.0.0->bert_score) (3.1.6)\n",
      "Requirement already satisfied: fsspec in /usr/local/lib/python3.11/dist-packages (from torch>=1.0.0->bert_score) (2025.3.0)\n",
      "Collecting nvidia-cuda-nvrtc-cu12==12.4.127 (from torch>=1.0.0->bert_score)\n",
      "  Downloading nvidia_cuda_nvrtc_cu12-12.4.127-py3-none-manylinux2014_x86_64.whl.metadata (1.5 kB)\n",
      "Collecting nvidia-cuda-runtime-cu12==12.4.127 (from torch>=1.0.0->bert_score)\n",
      "  Downloading nvidia_cuda_runtime_cu12-12.4.127-py3-none-manylinux2014_x86_64.whl.metadata (1.5 kB)\n",
      "Collecting nvidia-cuda-cupti-cu12==12.4.127 (from torch>=1.0.0->bert_score)\n",
      "  Downloading nvidia_cuda_cupti_cu12-12.4.127-py3-none-manylinux2014_x86_64.whl.metadata (1.6 kB)\n",
      "Collecting nvidia-cudnn-cu12==9.1.0.70 (from torch>=1.0.0->bert_score)\n",
      "  Downloading nvidia_cudnn_cu12-9.1.0.70-py3-none-manylinux2014_x86_64.whl.metadata (1.6 kB)\n",
      "Collecting nvidia-cublas-cu12==12.4.5.8 (from torch>=1.0.0->bert_score)\n",
      "  Downloading nvidia_cublas_cu12-12.4.5.8-py3-none-manylinux2014_x86_64.whl.metadata (1.5 kB)\n",
      "Collecting nvidia-cufft-cu12==11.2.1.3 (from torch>=1.0.0->bert_score)\n",
      "  Downloading nvidia_cufft_cu12-11.2.1.3-py3-none-manylinux2014_x86_64.whl.metadata (1.5 kB)\n",
      "Collecting nvidia-curand-cu12==10.3.5.147 (from torch>=1.0.0->bert_score)\n",
      "  Downloading nvidia_curand_cu12-10.3.5.147-py3-none-manylinux2014_x86_64.whl.metadata (1.5 kB)\n",
      "Collecting nvidia-cusolver-cu12==11.6.1.9 (from torch>=1.0.0->bert_score)\n",
      "  Downloading nvidia_cusolver_cu12-11.6.1.9-py3-none-manylinux2014_x86_64.whl.metadata (1.6 kB)\n",
      "Collecting nvidia-cusparse-cu12==12.3.1.170 (from torch>=1.0.0->bert_score)\n",
      "  Downloading nvidia_cusparse_cu12-12.3.1.170-py3-none-manylinux2014_x86_64.whl.metadata (1.6 kB)\n",
      "Requirement already satisfied: nvidia-cusparselt-cu12==0.6.2 in /usr/local/lib/python3.11/dist-packages (from torch>=1.0.0->bert_score) (0.6.2)\n",
      "Requirement already satisfied: nvidia-nccl-cu12==2.21.5 in /usr/local/lib/python3.11/dist-packages (from torch>=1.0.0->bert_score) (2.21.5)\n",
      "Requirement already satisfied: nvidia-nvtx-cu12==12.4.127 in /usr/local/lib/python3.11/dist-packages (from torch>=1.0.0->bert_score) (12.4.127)\n",
      "Collecting nvidia-nvjitlink-cu12==12.4.127 (from torch>=1.0.0->bert_score)\n",
      "  Downloading nvidia_nvjitlink_cu12-12.4.127-py3-none-manylinux2014_x86_64.whl.metadata (1.5 kB)\n",
      "Requirement already satisfied: triton==3.2.0 in /usr/local/lib/python3.11/dist-packages (from torch>=1.0.0->bert_score) (3.2.0)\n",
      "Requirement already satisfied: sympy==1.13.1 in /usr/local/lib/python3.11/dist-packages (from torch>=1.0.0->bert_score) (1.13.1)\n",
      "Requirement already satisfied: mpmath<1.4,>=1.1.0 in /usr/local/lib/python3.11/dist-packages (from sympy==1.13.1->torch>=1.0.0->bert_score) (1.3.0)\n",
      "Requirement already satisfied: huggingface-hub<1.0,>=0.30.0 in /usr/local/lib/python3.11/dist-packages (from transformers>=3.0.0->bert_score) (0.33.1)\n",
      "Requirement already satisfied: pyyaml>=5.1 in /usr/local/lib/python3.11/dist-packages (from transformers>=3.0.0->bert_score) (6.0.2)\n",
      "Requirement already satisfied: regex!=2019.12.17 in /usr/local/lib/python3.11/dist-packages (from transformers>=3.0.0->bert_score) (2024.11.6)\n",
      "Requirement already satisfied: tokenizers<0.22,>=0.21 in /usr/local/lib/python3.11/dist-packages (from transformers>=3.0.0->bert_score) (0.21.2)\n",
      "Requirement already satisfied: safetensors>=0.4.3 in /usr/local/lib/python3.11/dist-packages (from transformers>=3.0.0->bert_score) (0.5.3)\n",
      "Requirement already satisfied: contourpy>=1.0.1 in /usr/local/lib/python3.11/dist-packages (from matplotlib->bert_score) (1.3.2)\n",
      "Requirement already satisfied: cycler>=0.10 in /usr/local/lib/python3.11/dist-packages (from matplotlib->bert_score) (0.12.1)\n",
      "Requirement already satisfied: fonttools>=4.22.0 in /usr/local/lib/python3.11/dist-packages (from matplotlib->bert_score) (4.58.4)\n",
      "Requirement already satisfied: kiwisolver>=1.0.1 in /usr/local/lib/python3.11/dist-packages (from matplotlib->bert_score) (1.4.8)\n",
      "Requirement already satisfied: pillow>=6.2.0 in /usr/local/lib/python3.11/dist-packages (from matplotlib->bert_score) (11.2.1)\n",
      "Requirement already satisfied: pyparsing<3.1,>=2.3.1 in /usr/local/lib/python3.11/dist-packages (from matplotlib->bert_score) (3.0.9)\n",
      "Requirement already satisfied: charset_normalizer<4,>=2 in /usr/local/lib/python3.11/dist-packages (from requests->bert_score) (3.4.2)\n",
      "Requirement already satisfied: idna<4,>=2.5 in /usr/local/lib/python3.11/dist-packages (from requests->bert_score) (3.10)\n",
      "Requirement already satisfied: urllib3<3,>=1.21.1 in /usr/local/lib/python3.11/dist-packages (from requests->bert_score) (2.5.0)\n",
      "Requirement already satisfied: certifi>=2017.4.17 in /usr/local/lib/python3.11/dist-packages (from requests->bert_score) (2025.6.15)\n",
      "Requirement already satisfied: hf-xet<2.0.0,>=1.1.2 in /usr/local/lib/python3.11/dist-packages (from huggingface-hub<1.0,>=0.30.0->transformers>=3.0.0->bert_score) (1.1.5)\n",
      "Requirement already satisfied: six>=1.5 in /usr/local/lib/python3.11/dist-packages (from python-dateutil>=2.8.2->pandas>=1.0.1->bert_score) (1.17.0)\n",
      "Requirement already satisfied: MarkupSafe>=2.0 in /usr/local/lib/python3.11/dist-packages (from jinja2->torch>=1.0.0->bert_score) (3.0.2)\n",
      "Requirement already satisfied: intel-openmp<2026,>=2024 in /usr/local/lib/python3.11/dist-packages (from mkl->numpy->bert_score) (2024.2.0)\n",
      "Requirement already satisfied: tbb==2022.* in /usr/local/lib/python3.11/dist-packages (from mkl->numpy->bert_score) (2022.2.0)\n",
      "Requirement already satisfied: tcmlib==1.* in /usr/local/lib/python3.11/dist-packages (from tbb==2022.*->mkl->numpy->bert_score) (1.4.0)\n",
      "Requirement already satisfied: intel-cmplr-lib-rt in /usr/local/lib/python3.11/dist-packages (from mkl_umath->numpy->bert_score) (2024.2.0)\n",
      "Requirement already satisfied: intel-cmplr-lib-ur==2024.2.0 in /usr/local/lib/python3.11/dist-packages (from intel-openmp<2026,>=2024->mkl->numpy->bert_score) (2024.2.0)\n",
      "Downloading bert_score-0.3.13-py3-none-any.whl (61 kB)\n",
      "\u001b[2K   \u001b[90m━━━━━━━━━━━━━━━━━━━━━━━━━━━━━━━━━━━━━━━━\u001b[0m \u001b[32m61.1/61.1 kB\u001b[0m \u001b[31m2.7 MB/s\u001b[0m eta \u001b[36m0:00:00\u001b[0m\n",
      "\u001b[?25hDownloading nvidia_cublas_cu12-12.4.5.8-py3-none-manylinux2014_x86_64.whl (363.4 MB)\n",
      "\u001b[2K   \u001b[90m━━━━━━━━━━━━━━━━━━━━━━━━━━━━━━━━━━━━━━━━\u001b[0m \u001b[32m363.4/363.4 MB\u001b[0m \u001b[31m3.1 MB/s\u001b[0m eta \u001b[36m0:00:00\u001b[0m:00:01\u001b[0m00:01\u001b[0m\n",
      "\u001b[?25hDownloading nvidia_cuda_cupti_cu12-12.4.127-py3-none-manylinux2014_x86_64.whl (13.8 MB)\n",
      "\u001b[2K   \u001b[90m━━━━━━━━━━━━━━━━━━━━━━━━━━━━━━━━━━━━━━━━\u001b[0m \u001b[32m13.8/13.8 MB\u001b[0m \u001b[31m103.7 MB/s\u001b[0m eta \u001b[36m0:00:00\u001b[0m00:01\u001b[0m0:01\u001b[0m\n",
      "\u001b[?25hDownloading nvidia_cuda_nvrtc_cu12-12.4.127-py3-none-manylinux2014_x86_64.whl (24.6 MB)\n",
      "\u001b[2K   \u001b[90m━━━━━━━━━━━━━━━━━━━━━━━━━━━━━━━━━━━━━━━━\u001b[0m \u001b[32m24.6/24.6 MB\u001b[0m \u001b[31m84.6 MB/s\u001b[0m eta \u001b[36m0:00:00\u001b[0m:00:01\u001b[0m00:01\u001b[0m\n",
      "\u001b[?25hDownloading nvidia_cuda_runtime_cu12-12.4.127-py3-none-manylinux2014_x86_64.whl (883 kB)\n",
      "\u001b[2K   \u001b[90m━━━━━━━━━━━━━━━━━━━━━━━━━━━━━━━━━━━━━━━━\u001b[0m \u001b[32m883.7/883.7 kB\u001b[0m \u001b[31m44.6 MB/s\u001b[0m eta \u001b[36m0:00:00\u001b[0m\n",
      "\u001b[?25hDownloading nvidia_cudnn_cu12-9.1.0.70-py3-none-manylinux2014_x86_64.whl (664.8 MB)\n",
      "\u001b[2K   \u001b[90m━━━━━━━━━━━━━━━━━━━━━━━━━━━━━━━━━━━━━━━━\u001b[0m \u001b[32m664.8/664.8 MB\u001b[0m \u001b[31m2.5 MB/s\u001b[0m eta \u001b[36m0:00:00\u001b[0m:00:01\u001b[0m00:01\u001b[0m\n",
      "\u001b[?25hDownloading nvidia_cufft_cu12-11.2.1.3-py3-none-manylinux2014_x86_64.whl (211.5 MB)\n",
      "\u001b[2K   \u001b[90m━━━━━━━━━━━━━━━━━━━━━━━━━━━━━━━━━━━━━━━━\u001b[0m \u001b[32m211.5/211.5 MB\u001b[0m \u001b[31m5.4 MB/s\u001b[0m eta \u001b[36m0:00:00\u001b[0m:00:01\u001b[0m00:01\u001b[0m\n",
      "\u001b[?25hDownloading nvidia_curand_cu12-10.3.5.147-py3-none-manylinux2014_x86_64.whl (56.3 MB)\n",
      "\u001b[2K   \u001b[90m━━━━━━━━━━━━━━━━━━━━━━━━━━━━━━━━━━━━━━━━\u001b[0m \u001b[32m56.3/56.3 MB\u001b[0m \u001b[31m31.6 MB/s\u001b[0m eta \u001b[36m0:00:00\u001b[0m:00:01\u001b[0m00:01\u001b[0m\n",
      "\u001b[?25hDownloading nvidia_cusolver_cu12-11.6.1.9-py3-none-manylinux2014_x86_64.whl (127.9 MB)\n",
      "\u001b[2K   \u001b[90m━━━━━━━━━━━━━━━━━━━━━━━━━━━━━━━━━━━━━━━━\u001b[0m \u001b[32m127.9/127.9 MB\u001b[0m \u001b[31m13.3 MB/s\u001b[0m eta \u001b[36m0:00:00\u001b[0m00:01\u001b[0m00:01\u001b[0m\n",
      "\u001b[?25hDownloading nvidia_cusparse_cu12-12.3.1.170-py3-none-manylinux2014_x86_64.whl (207.5 MB)\n",
      "\u001b[2K   \u001b[90m━━━━━━━━━━━━━━━━━━━━━━━━━━━━━━━━━━━━━━━━\u001b[0m \u001b[32m207.5/207.5 MB\u001b[0m \u001b[31m2.5 MB/s\u001b[0m eta \u001b[36m0:00:00\u001b[0m:00:01\u001b[0m00:01\u001b[0m\n",
      "\u001b[?25hDownloading nvidia_nvjitlink_cu12-12.4.127-py3-none-manylinux2014_x86_64.whl (21.1 MB)\n",
      "\u001b[2K   \u001b[90m━━━━━━━━━━━━━━━━━━━━━━━━━━━━━━━━━━━━━━━━\u001b[0m \u001b[32m21.1/21.1 MB\u001b[0m \u001b[31m79.5 MB/s\u001b[0m eta \u001b[36m0:00:00\u001b[0m:00:01\u001b[0m00:01\u001b[0m\n",
      "\u001b[?25hInstalling collected packages: nvidia-nvjitlink-cu12, nvidia-curand-cu12, nvidia-cufft-cu12, nvidia-cuda-runtime-cu12, nvidia-cuda-nvrtc-cu12, nvidia-cuda-cupti-cu12, nvidia-cublas-cu12, nvidia-cusparse-cu12, nvidia-cudnn-cu12, nvidia-cusolver-cu12, bert_score\n",
      "  Attempting uninstall: nvidia-nvjitlink-cu12\n",
      "    Found existing installation: nvidia-nvjitlink-cu12 12.5.82\n",
      "    Uninstalling nvidia-nvjitlink-cu12-12.5.82:\n",
      "      Successfully uninstalled nvidia-nvjitlink-cu12-12.5.82\n",
      "  Attempting uninstall: nvidia-curand-cu12\n",
      "    Found existing installation: nvidia-curand-cu12 10.3.6.82\n",
      "    Uninstalling nvidia-curand-cu12-10.3.6.82:\n",
      "      Successfully uninstalled nvidia-curand-cu12-10.3.6.82\n",
      "  Attempting uninstall: nvidia-cufft-cu12\n",
      "    Found existing installation: nvidia-cufft-cu12 11.2.3.61\n",
      "    Uninstalling nvidia-cufft-cu12-11.2.3.61:\n",
      "      Successfully uninstalled nvidia-cufft-cu12-11.2.3.61\n",
      "  Attempting uninstall: nvidia-cuda-runtime-cu12\n",
      "    Found existing installation: nvidia-cuda-runtime-cu12 12.5.82\n",
      "    Uninstalling nvidia-cuda-runtime-cu12-12.5.82:\n",
      "      Successfully uninstalled nvidia-cuda-runtime-cu12-12.5.82\n",
      "  Attempting uninstall: nvidia-cuda-nvrtc-cu12\n",
      "    Found existing installation: nvidia-cuda-nvrtc-cu12 12.5.82\n",
      "    Uninstalling nvidia-cuda-nvrtc-cu12-12.5.82:\n",
      "      Successfully uninstalled nvidia-cuda-nvrtc-cu12-12.5.82\n",
      "  Attempting uninstall: nvidia-cuda-cupti-cu12\n",
      "    Found existing installation: nvidia-cuda-cupti-cu12 12.5.82\n",
      "    Uninstalling nvidia-cuda-cupti-cu12-12.5.82:\n",
      "      Successfully uninstalled nvidia-cuda-cupti-cu12-12.5.82\n",
      "  Attempting uninstall: nvidia-cublas-cu12\n",
      "    Found existing installation: nvidia-cublas-cu12 12.5.3.2\n",
      "    Uninstalling nvidia-cublas-cu12-12.5.3.2:\n",
      "      Successfully uninstalled nvidia-cublas-cu12-12.5.3.2\n",
      "  Attempting uninstall: nvidia-cusparse-cu12\n",
      "    Found existing installation: nvidia-cusparse-cu12 12.5.1.3\n",
      "    Uninstalling nvidia-cusparse-cu12-12.5.1.3:\n",
      "      Successfully uninstalled nvidia-cusparse-cu12-12.5.1.3\n",
      "  Attempting uninstall: nvidia-cudnn-cu12\n",
      "    Found existing installation: nvidia-cudnn-cu12 9.3.0.75\n",
      "    Uninstalling nvidia-cudnn-cu12-9.3.0.75:\n",
      "      Successfully uninstalled nvidia-cudnn-cu12-9.3.0.75\n",
      "  Attempting uninstall: nvidia-cusolver-cu12\n",
      "    Found existing installation: nvidia-cusolver-cu12 11.6.3.83\n",
      "    Uninstalling nvidia-cusolver-cu12-11.6.3.83:\n",
      "      Successfully uninstalled nvidia-cusolver-cu12-11.6.3.83\n",
      "Successfully installed bert_score-0.3.13 nvidia-cublas-cu12-12.4.5.8 nvidia-cuda-cupti-cu12-12.4.127 nvidia-cuda-nvrtc-cu12-12.4.127 nvidia-cuda-runtime-cu12-12.4.127 nvidia-cudnn-cu12-9.1.0.70 nvidia-cufft-cu12-11.2.1.3 nvidia-curand-cu12-10.3.5.147 nvidia-cusolver-cu12-11.6.1.9 nvidia-cusparse-cu12-12.3.1.170 nvidia-nvjitlink-cu12-12.4.127\n",
      "Note: you may need to restart the kernel to use updated packages.\n"
     ]
    }
   ],
   "source": [
    "pip install bert_score"
   ]
  },
  {
   "cell_type": "markdown",
   "metadata": {},
   "source": [
    "# the data is too small (125 episodes) to make the llm generate exactly the same titles, so we will use bert score to evaluate.\n",
    "* ##  ROUGE = “Do we share the same words/phrases?”\n",
    "\n",
    "- ## BERTScore = “Do we mean the same thing, even if words differ?”"
   ]
  },
  {
   "cell_type": "code",
   "execution_count": null,
   "metadata": {
    "execution": {
     "iopub.execute_input": "2025-09-06T11:17:48.067323Z",
     "iopub.status.busy": "2025-09-06T11:17:48.066618Z",
     "iopub.status.idle": "2025-09-06T11:18:03.291429Z",
     "shell.execute_reply": "2025-09-06T11:18:03.290614Z",
     "shell.execute_reply.started": "2025-09-06T11:17:48.067293Z"
    },
    "trusted": true
   },
   "outputs": [
    {
     "data": {
      "application/vnd.jupyter.widget-view+json": {
       "model_id": "046636c054a4482c910a6d5c897385cc",
       "version_major": 2,
       "version_minor": 0
      },
      "text/plain": [
       "tokenizer_config.json:   0%|          | 0.00/25.0 [00:00<?, ?B/s]"
      ]
     },
     "metadata": {},
     "output_type": "display_data"
    },
    {
     "data": {
      "application/vnd.jupyter.widget-view+json": {
       "model_id": "880f8a9b90ae403ea42f27f76e130797",
       "version_major": 2,
       "version_minor": 0
      },
      "text/plain": [
       "config.json:   0%|          | 0.00/482 [00:00<?, ?B/s]"
      ]
     },
     "metadata": {},
     "output_type": "display_data"
    },
    {
     "data": {
      "application/vnd.jupyter.widget-view+json": {
       "model_id": "ef386dd846ec4d468ac16cb0ed1e870f",
       "version_major": 2,
       "version_minor": 0
      },
      "text/plain": [
       "vocab.json:   0%|          | 0.00/899k [00:00<?, ?B/s]"
      ]
     },
     "metadata": {},
     "output_type": "display_data"
    },
    {
     "data": {
      "application/vnd.jupyter.widget-view+json": {
       "model_id": "0b493a0e0af04043a2ba4c6203f42ee4",
       "version_major": 2,
       "version_minor": 0
      },
      "text/plain": [
       "merges.txt:   0%|          | 0.00/456k [00:00<?, ?B/s]"
      ]
     },
     "metadata": {},
     "output_type": "display_data"
    },
    {
     "data": {
      "application/vnd.jupyter.widget-view+json": {
       "model_id": "7f1e722a932c4f5dbcf5e45f5e7d72b9",
       "version_major": 2,
       "version_minor": 0
      },
      "text/plain": [
       "tokenizer.json:   0%|          | 0.00/1.36M [00:00<?, ?B/s]"
      ]
     },
     "metadata": {},
     "output_type": "display_data"
    },
    {
     "data": {
      "application/vnd.jupyter.widget-view+json": {
       "model_id": "ae06a3506b3e474e9968977606eacdc4",
       "version_major": 2,
       "version_minor": 0
      },
      "text/plain": [
       "model.safetensors:   0%|          | 0.00/1.42G [00:00<?, ?B/s]"
      ]
     },
     "metadata": {},
     "output_type": "display_data"
    },
    {
     "name": "stderr",
     "output_type": "stream",
     "text": [
      "Some weights of RobertaModel were not initialized from the model checkpoint at roberta-large and are newly initialized: ['pooler.dense.bias', 'pooler.dense.weight']\n",
      "You should probably TRAIN this model on a down-stream task to be able to use it for predictions and inference.\n"
     ]
    },
    {
     "name": "stdout",
     "output_type": "stream",
     "text": [
      "TEST ROUGE: {'rouge1': 18.48, 'rouge2': 0.0, 'rougeL': 18.48, 'rougeLsum': 18.48}\n",
      "Average BERTScore-F1: 16.77%\n"
     ]
    },
    {
     "data": {
      "text/html": [
       "<style type=\"text/css\">\n",
       "#T_9da28_row0_col3 {\n",
       "  background-color: #6dc072;\n",
       "  color: #000000;\n",
       "}\n",
       "#T_9da28_row1_col3 {\n",
       "  background-color: #b1e0ab;\n",
       "  color: #000000;\n",
       "}\n",
       "#T_9da28_row2_col3 {\n",
       "  background-color: #e2f4dd;\n",
       "  color: #000000;\n",
       "}\n",
       "#T_9da28_row3_col3 {\n",
       "  background-color: #dbf1d5;\n",
       "  color: #000000;\n",
       "}\n",
       "#T_9da28_row4_col3 {\n",
       "  background-color: #dcf2d7;\n",
       "  color: #000000;\n",
       "}\n",
       "#T_9da28_row5_col3 {\n",
       "  background-color: #0c7735;\n",
       "  color: #f1f1f1;\n",
       "}\n",
       "#T_9da28_row6_col3 {\n",
       "  background-color: #f7fcf5;\n",
       "  color: #000000;\n",
       "}\n",
       "#T_9da28_row7_col3 {\n",
       "  background-color: #eaf7e6;\n",
       "  color: #000000;\n",
       "}\n",
       "#T_9da28_row8_col3 {\n",
       "  background-color: #00441b;\n",
       "  color: #f1f1f1;\n",
       "}\n",
       "#T_9da28_row9_col3 {\n",
       "  background-color: #83cb82;\n",
       "  color: #000000;\n",
       "}\n",
       "</style>\n",
       "<table id=\"T_9da28\">\n",
       "  <caption>HXH Titles — Predictions vs Ground Truth (with BERTScore)</caption>\n",
       "  <thead>\n",
       "    <tr>\n",
       "      <th class=\"blank level0\" >&nbsp;</th>\n",
       "      <th id=\"T_9da28_level0_col0\" class=\"col_heading level0 col0\" >idx</th>\n",
       "      <th id=\"T_9da28_level0_col1\" class=\"col_heading level0 col1\" >pred</th>\n",
       "      <th id=\"T_9da28_level0_col2\" class=\"col_heading level0 col2\" >true</th>\n",
       "      <th id=\"T_9da28_level0_col3\" class=\"col_heading level0 col3\" >BERTScore-F1</th>\n",
       "    </tr>\n",
       "  </thead>\n",
       "  <tbody>\n",
       "    <tr>\n",
       "      <th id=\"T_9da28_level0_row0\" class=\"row_heading level0 row0\" >0</th>\n",
       "      <td id=\"T_9da28_row0_col0\" class=\"data row0 col0\" >0</td>\n",
       "      <td id=\"T_9da28_row0_col1\" class=\"data row0 col1\" >Awakening And Attack</td>\n",
       "      <td id=\"T_9da28_row0_col2\" class=\"data row0 col2\" >Compassion And Strength</td>\n",
       "      <td id=\"T_9da28_row0_col3\" class=\"data row0 col3\" >27.460000</td>\n",
       "    </tr>\n",
       "    <tr>\n",
       "      <th id=\"T_9da28_level0_row1\" class=\"row_heading level0 row1\" >1</th>\n",
       "      <td id=\"T_9da28_row1_col0\" class=\"data row1 col0\" >1</td>\n",
       "      <td id=\"T_9da28_row1_col1\" class=\"data row1 col1\" >A Name And A Name</td>\n",
       "      <td id=\"T_9da28_row1_col2\" class=\"data row1 col2\" >Ging's Friends And True Friends</td>\n",
       "      <td id=\"T_9da28_row1_col3\" class=\"data row1 col3\" >13.420000</td>\n",
       "    </tr>\n",
       "    <tr>\n",
       "      <th id=\"T_9da28_level0_row2\" class=\"row_heading level0 row2\" >2</th>\n",
       "      <td id=\"T_9da28_row2_col0\" class=\"data row2 col0\" >2</td>\n",
       "      <td id=\"T_9da28_row2_col1\" class=\"data row2 col1\" >Awakening And Rebirth</td>\n",
       "      <td id=\"T_9da28_row2_col2\" class=\"data row2 col2\" >Centipede And Memory</td>\n",
       "      <td id=\"T_9da28_row2_col3\" class=\"data row2 col3\" >0.190000</td>\n",
       "    </tr>\n",
       "    <tr>\n",
       "      <th id=\"T_9da28_level0_row3\" class=\"row_heading level0 row3\" >3</th>\n",
       "      <td id=\"T_9da28_row3_col0\" class=\"data row3 col0\" >3</td>\n",
       "      <td id=\"T_9da28_row3_col1\" class=\"data row3 col1\" >A Chance To Be A Hunter</td>\n",
       "      <td id=\"T_9da28_row3_col2\" class=\"data row3 col2\" >Past And Future</td>\n",
       "      <td id=\"T_9da28_row3_col3\" class=\"data row3 col3\" >2.410000</td>\n",
       "    </tr>\n",
       "    <tr>\n",
       "      <th id=\"T_9da28_level0_row4\" class=\"row_heading level0 row4\" >4</th>\n",
       "      <td id=\"T_9da28_row4_col0\" class=\"data row4 col0\" >4</td>\n",
       "      <td id=\"T_9da28_row4_col1\" class=\"data row4 col1\" >An Enigma And A Mystery</td>\n",
       "      <td id=\"T_9da28_row4_col2\" class=\"data row4 col2\" >Some Brother Trouble</td>\n",
       "      <td id=\"T_9da28_row4_col3\" class=\"data row4 col3\" >1.920000</td>\n",
       "    </tr>\n",
       "    <tr>\n",
       "      <th id=\"T_9da28_level0_row5\" class=\"row_heading level0 row5\" >5</th>\n",
       "      <td id=\"T_9da28_row5_col0\" class=\"data row5 col0\" >5</td>\n",
       "      <td id=\"T_9da28_row5_col1\" class=\"data row5 col1\" >Awakening And Power</td>\n",
       "      <td id=\"T_9da28_row5_col2\" class=\"data row5 col2\" >Chase And Chance</td>\n",
       "      <td id=\"T_9da28_row5_col3\" class=\"data row5 col3\" >49.990000</td>\n",
       "    </tr>\n",
       "    <tr>\n",
       "      <th id=\"T_9da28_level0_row6\" class=\"row_heading level0 row6\" >6</th>\n",
       "      <td id=\"T_9da28_row6_col0\" class=\"data row6 col0\" >6</td>\n",
       "      <td id=\"T_9da28_row6_col1\" class=\"data row6 col1\" >Awakening And Resurrection</td>\n",
       "      <td id=\"T_9da28_row6_col2\" class=\"data row6 col2\" >Gungi Of Komugi</td>\n",
       "      <td id=\"T_9da28_row6_col3\" class=\"data row6 col3\" >-9.850000</td>\n",
       "    </tr>\n",
       "    <tr>\n",
       "      <th id=\"T_9da28_level0_row7\" class=\"row_heading level0 row7\" >7</th>\n",
       "      <td id=\"T_9da28_row7_col0\" class=\"data row7 col0\" >7</td>\n",
       "      <td id=\"T_9da28_row7_col1\" class=\"data row7 col1\" >Final Wish And Final Point</td>\n",
       "      <td id=\"T_9da28_row7_col2\" class=\"data row7 col2\" >E plosion Of Deception</td>\n",
       "      <td id=\"T_9da28_row7_col3\" class=\"data row7 col3\" >-3.300000</td>\n",
       "    </tr>\n",
       "    <tr>\n",
       "      <th id=\"T_9da28_level0_row8\" class=\"row_heading level0 row8\" >8</th>\n",
       "      <td id=\"T_9da28_row8_col0\" class=\"data row8 col0\" >8</td>\n",
       "      <td id=\"T_9da28_row8_col1\" class=\"data row8 col1\" >Awakening And Rebirth</td>\n",
       "      <td id=\"T_9da28_row8_col2\" class=\"data row8 col2\" >Friend And Journey</td>\n",
       "      <td id=\"T_9da28_row8_col3\" class=\"data row8 col3\" >62.300000</td>\n",
       "    </tr>\n",
       "    <tr>\n",
       "      <th id=\"T_9da28_level0_row9\" class=\"row_heading level0 row9\" >9</th>\n",
       "      <td id=\"T_9da28_row9_col0\" class=\"data row9 col0\" >9</td>\n",
       "      <td id=\"T_9da28_row9_col1\" class=\"data row9 col1\" >Awakening And Power</td>\n",
       "      <td id=\"T_9da28_row9_col2\" class=\"data row9 col2\" >Doubt And Hesitation</td>\n",
       "      <td id=\"T_9da28_row9_col3\" class=\"data row9 col3\" >23.160000</td>\n",
       "    </tr>\n",
       "  </tbody>\n",
       "</table>\n"
      ],
      "text/plain": [
       "<pandas.io.formats.style.Styler at 0x7f3f9cd18490>"
      ]
     },
     "metadata": {},
     "output_type": "display_data"
    }
   ],
   "source": [
    "# ==== TEST AFTER FINETUNING (self-contained) ====\n",
    "import torch, numpy as np, pandas as pd, evaluate, nltk\n",
    "from nltk.tokenize import sent_tokenize\n",
    "nltk.download(\"punkt\", quiet=True)\n",
    "\n",
    "# 0) Ensure tokenizer exists (reuse if already defined)\n",
    "try:\n",
    "    tokenizer  # noqa: F821\n",
    "except NameError:\n",
    "    from transformers import AutoTokenizer\n",
    "    tokenizer = AutoTokenizer.from_pretrained(\"google/flan-t5-base\", use_fast=True)\n",
    "\n",
    "if \"test_df\" not in globals():\n",
    "    if \"df\" in globals():\n",
    "        SEED = 42\n",
    "        df_shuf = df.sample(frac=1.0, random_state=SEED).reset_index(drop=True)\n",
    "        train_df = df_shuf.iloc[:125].reset_index(drop=True)\n",
    "        eval_df  = df_shuf.iloc[125:135].reset_index(drop=True)\n",
    "        test_df  = df_shuf.iloc[135:145].reset_index(drop=True)\n",
    "    else:\n",
    "        raise RuntimeError(\"`test_df` not found and `df` is not available to build it. Define one with columns: subtitle,target.\")\n",
    "\n",
    "model = trainer.model\n",
    "model.eval()\n",
    "device = torch.device(\"cuda\" if torch.cuda.is_available() else \"cpu\")\n",
    "model.to(device)\n",
    "\n",
    "TITLE_PROMPT = (\n",
    "    \"titleize: Generate a short anime episode title in Title Case (3–8 words). \"\n",
    "    \"Base it only on the provided context. Output only the title.\"\n",
    ")\n",
    "\n",
    "MAX_INPUT_LEN = 512\n",
    "STRIDE        = 400\n",
    "\n",
    "def generate_title_sliding(subtitle: str,\n",
    "                           model,\n",
    "                           tokenizer,\n",
    "                           max_input_len: int = MAX_INPUT_LEN,\n",
    "                           stride: int = STRIDE,\n",
    "                           num_beams: int = 4,\n",
    "                           max_new_tokens: int = 24):\n",
    "    \"\"\"Iterative generation with previous-title carry-over.\"\"\"\n",
    "    ids = tokenizer(subtitle, add_special_tokens=False).input_ids\n",
    "    prev_title, start = \"\", 0\n",
    "    while True:\n",
    "        chunk_ids = ids[start:start + max_input_len]\n",
    "        if not chunk_ids:\n",
    "            break\n",
    "        chunk_text = tokenizer.decode(chunk_ids, skip_special_tokens=True)\n",
    "        prompt = (f\"{TITLE_PROMPT}\\nPrevious title: {prev_title}\\nContext:\\n{chunk_text}\"\n",
    "                  if prev_title else\n",
    "                  f\"{TITLE_PROMPT}\\nContext:\\n{chunk_text}\")\n",
    "        enc = tokenizer(prompt, return_tensors=\"pt\", truncation=True, max_length=max_input_len).to(device)\n",
    "        with torch.no_grad():\n",
    "            out = model.generate(\n",
    "                **enc,\n",
    "                num_beams=num_beams,\n",
    "                max_new_tokens=max_new_tokens,\n",
    "                no_repeat_ngram_size=3,\n",
    "                length_penalty=1.0\n",
    "            )\n",
    "        prev_title = tokenizer.decode(out[0], skip_special_tokens=True)\n",
    "        if start + max_input_len >= len(ids):\n",
    "            break\n",
    "        start += stride\n",
    "    return prev_title\n",
    "\n",
    "# 3) Build predictions and references\n",
    "test_texts = test_df[\"subtitle\"].tolist()\n",
    "test_refs  = test_df[\"target\"].tolist()\n",
    "test_preds = [generate_title_sliding(s, model, tokenizer) for s in test_texts]\n",
    "\n",
    "# 4) Metrics (ROUGE + BERTScore)\n",
    "def postprocess_text(preds, labels):\n",
    "    preds  = [\"\\n\".join(sent_tokenize(p.strip())) for p in preds]\n",
    "    labels = [\"\\n\".join(sent_tokenize(l.strip())) for l in labels]\n",
    "    return preds, labels\n",
    "\n",
    "metric = evaluate.load(\"rouge\")\n",
    "pp_preds, pp_refs = postprocess_text(test_preds, test_refs)\n",
    "rouge = metric.compute(predictions=pp_preds, references=pp_refs, use_stemmer=True)\n",
    "rouge = {k: round(v * 100, 2) for k, v in rouge.items()}\n",
    "\n",
    "from bert_score import score as bert_score\n",
    "P, R, F1 = bert_score(test_preds, test_refs, lang=\"en\", rescale_with_baseline=True)\n",
    "bertscore_f1 = [round(x * 100, 2) for x in F1.tolist()]\n",
    "avg_bertscore = float(np.mean(F1) * 100)\n",
    "\n",
    "print(\"TEST ROUGE:\", rouge)\n",
    "print(f\"Average BERTScore-F1: {avg_bertscore:.2f}%\")\n",
    "\n",
    "# 5) Display table\n",
    "tbl = pd.DataFrame({\n",
    "    \"idx\": range(len(test_preds)),\n",
    "    \"pred\": test_preds,\n",
    "    \"true\": test_refs,\n",
    "    \"BERTScore-F1\": bertscore_f1\n",
    "})\n",
    "\n",
    "try:\n",
    "    from IPython.display import display\n",
    "    display(tbl.style\n",
    "            .set_caption(\"HXH Titles — Predictions vs Ground Truth (with BERTScore)\")\n",
    "            .background_gradient(subset=[\"BERTScore-F1\"], cmap=\"Greens\"))\n",
    "except Exception:\n",
    "    print(tbl.to_string(index=False))\n"
   ]
  },
  {
   "cell_type": "code",
   "execution_count": 51,
   "metadata": {
    "execution": {
     "iopub.execute_input": "2025-09-06T11:22:21.004780Z",
     "iopub.status.busy": "2025-09-06T11:22:21.004030Z",
     "iopub.status.idle": "2025-09-06T11:22:41.364429Z",
     "shell.execute_reply": "2025-09-06T11:22:41.363701Z",
     "shell.execute_reply.started": "2025-09-06T11:22:21.004748Z"
    },
    "trusted": true
   },
   "outputs": [
    {
     "name": "stderr",
     "output_type": "stream",
     "text": [
      "Token indices sequence length is longer than the specified maximum sequence length for this model (2523 > 512). Running this sequence through the model will result in indexing errors\n",
      "Some weights of RobertaModel were not initialized from the model checkpoint at roberta-large and are newly initialized: ['pooler.dense.bias', 'pooler.dense.weight']\n",
      "You should probably TRAIN this model on a down-stream task to be able to use it for predictions and inference.\n"
     ]
    },
    {
     "name": "stdout",
     "output_type": "stream",
     "text": [
      "BASE MODEL Average BERTScore-F1: -8.87%\n"
     ]
    },
    {
     "data": {
      "text/html": [
       "<style type=\"text/css\">\n",
       "#T_b13db_row0_col3 {\n",
       "  background-color: #fd9040;\n",
       "  color: #000000;\n",
       "}\n",
       "#T_b13db_row1_col3 {\n",
       "  background-color: #cb4302;\n",
       "  color: #f1f1f1;\n",
       "}\n",
       "#T_b13db_row2_col3 {\n",
       "  background-color: #f67824;\n",
       "  color: #f1f1f1;\n",
       "}\n",
       "#T_b13db_row3_col3 {\n",
       "  background-color: #fdb77a;\n",
       "  color: #000000;\n",
       "}\n",
       "#T_b13db_row4_col3 {\n",
       "  background-color: #fd9649;\n",
       "  color: #000000;\n",
       "}\n",
       "#T_b13db_row5_col3 {\n",
       "  background-color: #7f2704;\n",
       "  color: #f1f1f1;\n",
       "}\n",
       "#T_b13db_row6_col3 {\n",
       "  background-color: #c84202;\n",
       "  color: #f1f1f1;\n",
       "}\n",
       "#T_b13db_row7_col3 {\n",
       "  background-color: #f67723;\n",
       "  color: #f1f1f1;\n",
       "}\n",
       "#T_b13db_row8_col3 {\n",
       "  background-color: #fff5eb;\n",
       "  color: #000000;\n",
       "}\n",
       "#T_b13db_row9_col3 {\n",
       "  background-color: #fdc28b;\n",
       "  color: #000000;\n",
       "}\n",
       "</style>\n",
       "<table id=\"T_b13db\">\n",
       "  <caption>HXH Titles — Base FLAN-T5 Predictions vs Ground Truth (with BERTScore)</caption>\n",
       "  <thead>\n",
       "    <tr>\n",
       "      <th class=\"blank level0\" >&nbsp;</th>\n",
       "      <th id=\"T_b13db_level0_col0\" class=\"col_heading level0 col0\" >idx</th>\n",
       "      <th id=\"T_b13db_level0_col1\" class=\"col_heading level0 col1\" >pred_base</th>\n",
       "      <th id=\"T_b13db_level0_col2\" class=\"col_heading level0 col2\" >true</th>\n",
       "      <th id=\"T_b13db_level0_col3\" class=\"col_heading level0 col3\" >BERTScore-F1</th>\n",
       "    </tr>\n",
       "  </thead>\n",
       "  <tbody>\n",
       "    <tr>\n",
       "      <th id=\"T_b13db_level0_row0\" class=\"row_heading level0 row0\" >0</th>\n",
       "      <td id=\"T_b13db_row0_col0\" class=\"data row0 col0\" >0</td>\n",
       "      <td id=\"T_b13db_row0_col1\" class=\"data row0 col1\" >Killua's Jajanken Attack</td>\n",
       "      <td id=\"T_b13db_row0_col2\" class=\"data row0 col2\" >Compassion And Strength</td>\n",
       "      <td id=\"T_b13db_row0_col3\" class=\"data row0 col3\" >-10.180000</td>\n",
       "    </tr>\n",
       "    <tr>\n",
       "      <th id=\"T_b13db_level0_row1\" class=\"row_heading level0 row1\" >1</th>\n",
       "      <td id=\"T_b13db_row1_col0\" class=\"data row1 col0\" >1</td>\n",
       "      <td id=\"T_b13db_row1_col1\" class=\"data row1 col1\" >Gon Freecs</td>\n",
       "      <td id=\"T_b13db_row1_col2\" class=\"data row1 col2\" >Ging's Friends And True Friends</td>\n",
       "      <td id=\"T_b13db_row1_col3\" class=\"data row1 col3\" >-1.120000</td>\n",
       "    </tr>\n",
       "    <tr>\n",
       "      <th id=\"T_b13db_level0_row2\" class=\"row_heading level0 row2\" >2</th>\n",
       "      <td id=\"T_b13db_row2_col0\" class=\"data row2 col0\" >2</td>\n",
       "      <td id=\"T_b13db_row2_col1\" class=\"data row2 col1\" >Welfin and Gyro</td>\n",
       "      <td id=\"T_b13db_row2_col2\" class=\"data row2 col2\" >Centipede And Memory</td>\n",
       "      <td id=\"T_b13db_row2_col3\" class=\"data row2 col3\" >-7.630000</td>\n",
       "    </tr>\n",
       "    <tr>\n",
       "      <th id=\"T_b13db_level0_row3\" class=\"row_heading level0 row3\" >3</th>\n",
       "      <td id=\"T_b13db_row3_col0\" class=\"data row3 col0\" >3</td>\n",
       "      <td id=\"T_b13db_row3_col1\" class=\"data row3 col1\" >I'm in no rush. I'll enjoy the journey. So if our paths happen to cross in the</td>\n",
       "      <td id=\"T_b13db_row3_col2\" class=\"data row3 col2\" >Past And Future</td>\n",
       "      <td id=\"T_b13db_row3_col3\" class=\"data row3 col3\" >-14.720000</td>\n",
       "    </tr>\n",
       "    <tr>\n",
       "      <th id=\"T_b13db_level0_row4\" class=\"row_heading level0 row4\" >4</th>\n",
       "      <td id=\"T_b13db_row4_col0\" class=\"data row4 col0\" >4</td>\n",
       "      <td id=\"T_b13db_row4_col1\" class=\"data row4 col1\" >Gon and his friends set off for the Republic of Padokea</td>\n",
       "      <td id=\"T_b13db_row4_col2\" class=\"data row4 col2\" >Some Brother Trouble</td>\n",
       "      <td id=\"T_b13db_row4_col3\" class=\"data row4 col3\" >-10.940000</td>\n",
       "    </tr>\n",
       "    <tr>\n",
       "      <th id=\"T_b13db_level0_row5\" class=\"row_heading level0 row5\" >5</th>\n",
       "      <td id=\"T_b13db_row5_col0\" class=\"data row5 col0\" >5</td>\n",
       "      <td id=\"T_b13db_row5_col1\" class=\"data row5 col1\" >a Breath of Archangel</td>\n",
       "      <td id=\"T_b13db_row5_col2\" class=\"data row5 col2\" >Chase And Chance</td>\n",
       "      <td id=\"T_b13db_row5_col3\" class=\"data row5 col3\" >5.600000</td>\n",
       "    </tr>\n",
       "    <tr>\n",
       "      <th id=\"T_b13db_level0_row6\" class=\"row_heading level0 row6\" >6</th>\n",
       "      <td id=\"T_b13db_row6_col0\" class=\"data row6 col0\" >6</td>\n",
       "      <td id=\"T_b13db_row6_col1\" class=\"data row6 col1\" >K-K-Komu</td>\n",
       "      <td id=\"T_b13db_row6_col2\" class=\"data row6 col2\" >Gungi Of Komugi</td>\n",
       "      <td id=\"T_b13db_row6_col3\" class=\"data row6 col3\" >-0.900000</td>\n",
       "    </tr>\n",
       "    <tr>\n",
       "      <th id=\"T_b13db_level0_row7\" class=\"row_heading level0 row7\" >7</th>\n",
       "      <td id=\"T_b13db_row7_col0\" class=\"data row7 col0\" >7</td>\n",
       "      <td id=\"T_b13db_row7_col1\" class=\"data row7 col1\" >Hemotropic Butterflies vs. Hisoka</td>\n",
       "      <td id=\"T_b13db_row7_col2\" class=\"data row7 col2\" >E plosion Of Deception</td>\n",
       "      <td id=\"T_b13db_row7_col3\" class=\"data row7 col3\" >-7.490000</td>\n",
       "    </tr>\n",
       "    <tr>\n",
       "      <th id=\"T_b13db_level0_row8\" class=\"row_heading level0 row8\" >8</th>\n",
       "      <td id=\"T_b13db_row8_col0\" class=\"data row8 col0\" >8</td>\n",
       "      <td id=\"T_b13db_row8_col1\" class=\"data row8 col1\" >Knov-sama</td>\n",
       "      <td id=\"T_b13db_row8_col2\" class=\"data row8 col2\" >Friend And Journey</td>\n",
       "      <td id=\"T_b13db_row8_col3\" class=\"data row8 col3\" >-25.360000</td>\n",
       "    </tr>\n",
       "    <tr>\n",
       "      <th id=\"T_b13db_level0_row9\" class=\"row_heading level0 row9\" >9</th>\n",
       "      <td id=\"T_b13db_row9_col0\" class=\"data row9 col0\" >9</td>\n",
       "      <td id=\"T_b13db_row9_col1\" class=\"data row9 col1\" >Leol's Rental Pod IOU Dispenser</td>\n",
       "      <td id=\"T_b13db_row9_col2\" class=\"data row9 col2\" >Doubt And Hesitation</td>\n",
       "      <td id=\"T_b13db_row9_col3\" class=\"data row9 col3\" >-16.000000</td>\n",
       "    </tr>\n",
       "  </tbody>\n",
       "</table>\n"
      ],
      "text/plain": [
       "<pandas.io.formats.style.Styler at 0x7f3fbdf1a950>"
      ]
     },
     "metadata": {},
     "output_type": "display_data"
    }
   ],
   "source": [
    "base_model_id = \"google/flan-t5-base\"\n",
    "base_tokenizer = AutoTokenizer.from_pretrained(base_model_id, use_fast=True)\n",
    "base_model = AutoModelForSeq2SeqLM.from_pretrained(base_model_id)\n",
    "device = torch.device(\"cuda\" if torch.cuda.is_available() else \"cpu\")\n",
    "base_model.to(device).eval()\n",
    "\n",
    "TITLE_PROMPT = (\n",
    "    \"titleize: Generate a short anime episode title in Title Case (3–8 words). \"\n",
    "    \"Base it only on the provided context. Output only the title.\"\n",
    ")\n",
    "\n",
    "MAX_INPUT_LEN = 512\n",
    "STRIDE = 400\n",
    "\n",
    "def generate_title_sliding_base(subtitle: str,\n",
    "                                model,\n",
    "                                tokenizer,\n",
    "                                max_input_len: int = MAX_INPUT_LEN,\n",
    "                                stride: int = STRIDE,\n",
    "                                num_beams: int = 4,\n",
    "                                max_new_tokens: int = 24):\n",
    "    \"\"\"Same sliding-window with carry-over, but using base model.\"\"\"\n",
    "    ids = tokenizer(subtitle, add_special_tokens=False).input_ids\n",
    "    prev_title, start = \"\", 0\n",
    "    while True:\n",
    "        chunk_ids = ids[start:start + max_input_len]\n",
    "        if not chunk_ids: break\n",
    "        chunk_text = tokenizer.decode(chunk_ids, skip_special_tokens=True)\n",
    "        prompt = (f\"{TITLE_PROMPT}\\nPrevious title: {prev_title}\\nContext:\\n{chunk_text}\"\n",
    "                  if prev_title else f\"{TITLE_PROMPT}\\nContext:\\n{chunk_text}\")\n",
    "        enc = tokenizer(prompt, return_tensors=\"pt\", truncation=True, max_length=max_input_len).to(device)\n",
    "        with torch.no_grad():\n",
    "            out = model.generate(\n",
    "                **enc,\n",
    "                num_beams=num_beams,\n",
    "                max_new_tokens=max_new_tokens,\n",
    "                no_repeat_ngram_size=3,\n",
    "                length_penalty=1.0\n",
    "            )\n",
    "        prev_title = tokenizer.decode(out[0], skip_special_tokens=True)\n",
    "        if start + max_input_len >= len(ids): break\n",
    "        start += stride\n",
    "    return prev_title\n",
    "\n",
    "# ---- Predict on the test set with the base model ----\n",
    "test_texts = test_df[\"subtitle\"].tolist()\n",
    "test_refs  = test_df[\"target\"].tolist()\n",
    "base_preds = [generate_title_sliding_base(s, base_model, base_tokenizer) for s in test_texts]\n",
    "\n",
    "# ---- Compute BERTScore ----\n",
    "P, R, F1 = bert_score(base_preds, test_refs, lang=\"en\", rescale_with_baseline=True)\n",
    "bertscore_f1 = [round(x * 100, 2) for x in F1.tolist()]\n",
    "avg_bertscore = np.mean(bertscore_f1)\n",
    "\n",
    "print(f\"BASE MODEL Average BERTScore-F1: {avg_bertscore:.2f}%\")\n",
    "\n",
    "# ---- Side-by-side table ----\n",
    "tbl_base = pd.DataFrame({\n",
    "    \"idx\": range(len(base_preds)),\n",
    "    \"pred_base\": base_preds,\n",
    "    \"true\": test_refs,\n",
    "    \"BERTScore-F1\": bertscore_f1\n",
    "})\n",
    "\n",
    "from IPython.display import display\n",
    "display(tbl_base.style\n",
    "        .set_caption(\"HXH Titles — Base FLAN-T5 Predictions vs Ground Truth (with BERTScore)\")\n",
    "        .background_gradient(subset=[\"BERTScore-F1\"], cmap=\"Oranges\"))\n"
   ]
  },
  {
   "cell_type": "markdown",
   "metadata": {},
   "source": [
    "## Conclusion\n",
    "\n",
    "In this work, we explored the task of **automatic title generation for Hunter x Hunter episodes** using a **fine-tuned FLAN-T5 model**. The main challenge was the **length of the subtitles** (≈8000 tokens), which far exceeds the model’s 512-token context window. To address this, we adopted a **sliding-window strategy with stride overlap**, and at inference time we **propagated previously generated titles** into the prompt to preserve continuity across windows.  \n",
    "\n",
    "The model was trained on 125 episodes, with 10 for validation and 10 for testing. Results clearly show the value of fine-tuning. The **base FLAN-T5 model (before fine-tuning)** generated long and noisy outputs, often copying subtitles verbatim or introducing irrelevant names, with **negative or near-zero BERTScores** (avg ≈ –8%). After fine-tuning, the model adapted to produce **short, well-structured titles in the canonical Hunter x Hunter style** (“X and Y” format, Title Case, concise length), achieving **BERTScores up to 60%** and an overall improvement in semantic similarity.  \n",
    "\n",
    "Nevertheless, evaluation also revealed important limitations:  \n",
    "- **ROUGE scores remained modest** (ROUGE-1/L ≈ 17–18%), reflecting limited lexical overlap with the official titles.  \n",
    "- **Exact match was 0%**, expected given the creative and metaphorical nature of the true episode titles.  \n",
    "- **BERTScore values were still moderate**, indicating that while the model captures the *style* of titles, it struggles to reproduce their *specific semantic content*.  \n",
    "\n",
    "Overall, the approach demonstrates that even with a small dataset, fine-tuning a pretrained seq2seq model with a sliding-window mechanism can significantly **improve stylistic alignment** and yield **meaningful semantic gains** compared to the base model. Yet, achieving **high semantic fidelity** will likely require larger and more diverse training data, semantic-aware objectives, or augmentation strategies.  \n",
    "\n",
    "**In short:** our pipeline solved the context-length problem and clearly improved both style and semantic similarity compared to the base model, but accuracy remains limited by data scarcity and the creative nature of the target titles.\n"
   ]
  },
  {
   "cell_type": "code",
   "execution_count": null,
   "metadata": {
    "trusted": true
   },
   "outputs": [],
   "source": []
  }
 ],
 "metadata": {
  "kaggle": {
   "accelerator": "gpu",
   "dataSources": [
    {
     "datasetId": 1551570,
     "sourceId": 2557315,
     "sourceType": "datasetVersion"
    }
   ],
   "dockerImageVersionId": 31090,
   "isGpuEnabled": true,
   "isInternetEnabled": true,
   "language": "python",
   "sourceType": "notebook"
  },
  "kernelspec": {
   "display_name": "Python 3",
   "language": "python",
   "name": "python3"
  },
  "language_info": {
   "codemirror_mode": {
    "name": "ipython",
    "version": 3
   },
   "file_extension": ".py",
   "mimetype": "text/x-python",
   "name": "python",
   "nbconvert_exporter": "python",
   "pygments_lexer": "ipython3",
   "version": "3.11.13"
  }
 },
 "nbformat": 4,
 "nbformat_minor": 4
}
